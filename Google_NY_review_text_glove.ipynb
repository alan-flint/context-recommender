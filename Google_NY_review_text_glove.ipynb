{
  "nbformat": 4,
  "nbformat_minor": 0,
  "metadata": {
    "kernelspec": {
      "display_name": "Python 3",
      "language": "python",
      "name": "python3"
    },
    "language_info": {
      "codemirror_mode": {
        "name": "ipython",
        "version": 3
      },
      "file_extension": ".py",
      "mimetype": "text/x-python",
      "name": "python",
      "nbconvert_exporter": "python",
      "pygments_lexer": "ipython3",
      "version": "3.6.10"
    },
    "colab": {
      "name": "Google_NY_review_text_glove.ipynb",
      "provenance": [],
      "collapsed_sections": []
    },
    "accelerator": "GPU"
  },
  "cells": [
    {
      "cell_type": "code",
      "metadata": {
        "id": "lyYIMBNv2Rd9",
        "colab_type": "code",
        "colab": {}
      },
      "source": [
        "from pathlib import Path\n",
        "import pandas as pd\n",
        "pd.options.mode.chained_assignment = None\n",
        "import numpy as np\n",
        "\n",
        "import torch\n",
        "import torch.nn as nn\n",
        "import torch.nn.functional as F\n",
        "from torch.utils.data import Dataset, DataLoader\n",
        "from torch.nn.utils.rnn import pack_padded_sequence\n",
        "\n",
        "from sklearn.model_selection import train_test_split\n",
        "from collections import Counter"
      ],
      "execution_count": 1,
      "outputs": []
    },
    {
      "cell_type": "code",
      "metadata": {
        "id": "YXWieKeF2ReF",
        "colab_type": "code",
        "colab": {}
      },
      "source": [
        "import gzip\n",
        "import json\n",
        "import io\n",
        "\n",
        "def unpack_dataset():\n",
        "    ! wget http://jmcauley.ucsd.edu/data/googlelocal/kcore/NY_5.json.gz\n",
        "    ! mkdir data\n",
        "    ! mv NY* data\n",
        "\n",
        "def readGz(fname):\n",
        "    gz = gzip.open(fname, 'rb')\n",
        "    f = io.BufferedReader(gz)\n",
        "    data = []\n",
        "        \n",
        "    for l in f.readlines():\n",
        "        data.append(eval(l))\n",
        "        \n",
        "    gz.close()\n",
        "    return data"
      ],
      "execution_count": 2,
      "outputs": []
    },
    {
      "cell_type": "code",
      "metadata": {
        "id": "ltyYFeOX2iUW",
        "colab_type": "code",
        "colab": {
          "base_uri": "https://localhost:8080/",
          "height": 221
        },
        "outputId": "198cb557-0050-49bd-db8e-2b1d6fd92fae"
      },
      "source": [
        "unpack_dataset()\n"
      ],
      "execution_count": 3,
      "outputs": [
        {
          "output_type": "stream",
          "text": [
            "--2020-06-24 05:48:34--  http://jmcauley.ucsd.edu/data/googlelocal/kcore/NY_5.json.gz\n",
            "Resolving jmcauley.ucsd.edu (jmcauley.ucsd.edu)... 137.110.160.73\n",
            "Connecting to jmcauley.ucsd.edu (jmcauley.ucsd.edu)|137.110.160.73|:80... connected.\n",
            "HTTP request sent, awaiting response... 200 OK\n",
            "Length: 11983311 (11M) [application/x-gzip]\n",
            "Saving to: ‘NY_5.json.gz’\n",
            "\n",
            "\rNY_5.json.gz          0%[                    ]       0  --.-KB/s               \rNY_5.json.gz          0%[                    ]  50.13K   194KB/s               \rNY_5.json.gz          1%[                    ] 219.81K   426KB/s               \rNY_5.json.gz          7%[>                   ] 898.56K  1.13MB/s               \rNY_5.json.gz         30%[=====>              ]   3.53M  3.41MB/s               \rNY_5.json.gz         83%[===============>    ]   9.52M  7.37MB/s               \rNY_5.json.gz        100%[===================>]  11.43M  8.68MB/s    in 1.3s    \n",
            "\n",
            "2020-06-24 05:48:35 (8.68 MB/s) - ‘NY_5.json.gz’ saved [11983311/11983311]\n",
            "\n",
            "mkdir: cannot create directory ‘data’: File exists\n"
          ],
          "name": "stdout"
        }
      ]
    },
    {
      "cell_type": "code",
      "metadata": {
        "id": "gZcaI8PR2igx",
        "colab_type": "code",
        "colab": {}
      },
      "source": [
        ""
      ],
      "execution_count": 3,
      "outputs": []
    },
    {
      "cell_type": "code",
      "metadata": {
        "id": "ayIP650E2ReH",
        "colab_type": "code",
        "colab": {}
      },
      "source": [
        "ny5 = readGz('data/NY_5.json.gz')"
      ],
      "execution_count": 4,
      "outputs": []
    },
    {
      "cell_type": "code",
      "metadata": {
        "id": "pHjRJRMG2ReK",
        "colab_type": "code",
        "colab": {}
      },
      "source": [
        "data = pd.DataFrame(ny5)"
      ],
      "execution_count": 5,
      "outputs": []
    },
    {
      "cell_type": "code",
      "metadata": {
        "id": "7IGe5Ii72ReM",
        "colab_type": "code",
        "colab": {}
      },
      "source": [
        "del ny5"
      ],
      "execution_count": 6,
      "outputs": []
    },
    {
      "cell_type": "code",
      "metadata": {
        "id": "GxxBasQo2ReP",
        "colab_type": "code",
        "colab": {
          "base_uri": "https://localhost:8080/",
          "height": 34
        },
        "outputId": "c851a587-f1f8-4ee9-9434-8e13f5f5bbd9"
      },
      "source": [
        "data.shape"
      ],
      "execution_count": 7,
      "outputs": [
        {
          "output_type": "execute_result",
          "data": {
            "text/plain": [
              "(121878, 8)"
            ]
          },
          "metadata": {
            "tags": []
          },
          "execution_count": 7
        }
      ]
    },
    {
      "cell_type": "code",
      "metadata": {
        "id": "AM4svA-Z2ReV",
        "colab_type": "code",
        "colab": {
          "base_uri": "https://localhost:8080/",
          "height": 289
        },
        "outputId": "a0d96bf3-03a5-42c1-f21e-523f26e73273"
      },
      "source": [
        "data.head()"
      ],
      "execution_count": 8,
      "outputs": [
        {
          "output_type": "execute_result",
          "data": {
            "text/html": [
              "<div>\n",
              "<style scoped>\n",
              "    .dataframe tbody tr th:only-of-type {\n",
              "        vertical-align: middle;\n",
              "    }\n",
              "\n",
              "    .dataframe tbody tr th {\n",
              "        vertical-align: top;\n",
              "    }\n",
              "\n",
              "    .dataframe thead th {\n",
              "        text-align: right;\n",
              "    }\n",
              "</style>\n",
              "<table border=\"1\" class=\"dataframe\">\n",
              "  <thead>\n",
              "    <tr style=\"text-align: right;\">\n",
              "      <th></th>\n",
              "      <th>rating</th>\n",
              "      <th>reviewerName</th>\n",
              "      <th>reviewText</th>\n",
              "      <th>categories</th>\n",
              "      <th>gPlusPlaceId</th>\n",
              "      <th>unixReviewTime</th>\n",
              "      <th>reviewTime</th>\n",
              "      <th>gPlusUserId</th>\n",
              "    </tr>\n",
              "  </thead>\n",
              "  <tbody>\n",
              "    <tr>\n",
              "      <th>0</th>\n",
              "      <td>5.0</td>\n",
              "      <td>Chris Johnson</td>\n",
              "      <td>None</td>\n",
              "      <td>[American Restaurant, Bar]</td>\n",
              "      <td>103654778391814923896</td>\n",
              "      <td>1.311510e+09</td>\n",
              "      <td>Jul 24, 2011</td>\n",
              "      <td>100000524810171549476</td>\n",
              "    </tr>\n",
              "    <tr>\n",
              "      <th>1</th>\n",
              "      <td>5.0</td>\n",
              "      <td>Chris Johnson</td>\n",
              "      <td>service is amazing, the line goes so fast.</td>\n",
              "      <td>[Grocery Store]</td>\n",
              "      <td>105947477166033397439</td>\n",
              "      <td>1.316105e+09</td>\n",
              "      <td>Sep 15, 2011</td>\n",
              "      <td>100000524810171549476</td>\n",
              "    </tr>\n",
              "    <tr>\n",
              "      <th>2</th>\n",
              "      <td>5.0</td>\n",
              "      <td>Chris Johnson</td>\n",
              "      <td>Get the chicken green salad. Yum.</td>\n",
              "      <td>[Chicken Restaurant]</td>\n",
              "      <td>107098981103934500500</td>\n",
              "      <td>1.311509e+09</td>\n",
              "      <td>Jul 24, 2011</td>\n",
              "      <td>100000524810171549476</td>\n",
              "    </tr>\n",
              "    <tr>\n",
              "      <th>3</th>\n",
              "      <td>5.0</td>\n",
              "      <td>Chris Johnson</td>\n",
              "      <td>Never had a falafel bar before. Yum. +1 for su...</td>\n",
              "      <td>[Vegetarian Restaurant, Mediterranean Restaura...</td>\n",
              "      <td>108585910849109169666</td>\n",
              "      <td>1.311509e+09</td>\n",
              "      <td>Jul 24, 2011</td>\n",
              "      <td>100000524810171549476</td>\n",
              "    </tr>\n",
              "    <tr>\n",
              "      <th>4</th>\n",
              "      <td>5.0</td>\n",
              "      <td>Chris Johnson</td>\n",
              "      <td>Incredible short rib hash for breakfast</td>\n",
              "      <td>[French Restaurant, American Restaurant, Wine ...</td>\n",
              "      <td>115453471525181677863</td>\n",
              "      <td>1.320496e+09</td>\n",
              "      <td>Nov 5, 2011</td>\n",
              "      <td>100000524810171549476</td>\n",
              "    </tr>\n",
              "  </tbody>\n",
              "</table>\n",
              "</div>"
            ],
            "text/plain": [
              "   rating   reviewerName  ...    reviewTime            gPlusUserId\n",
              "0     5.0  Chris Johnson  ...  Jul 24, 2011  100000524810171549476\n",
              "1     5.0  Chris Johnson  ...  Sep 15, 2011  100000524810171549476\n",
              "2     5.0  Chris Johnson  ...  Jul 24, 2011  100000524810171549476\n",
              "3     5.0  Chris Johnson  ...  Jul 24, 2011  100000524810171549476\n",
              "4     5.0  Chris Johnson  ...   Nov 5, 2011  100000524810171549476\n",
              "\n",
              "[5 rows x 8 columns]"
            ]
          },
          "metadata": {
            "tags": []
          },
          "execution_count": 8
        }
      ]
    },
    {
      "cell_type": "code",
      "metadata": {
        "id": "KIJzk57K2ReY",
        "colab_type": "code",
        "colab": {}
      },
      "source": [
        "# now use user, item, reviewText & ratings\n",
        "df = data[['gPlusPlaceId', 'gPlusUserId', 'reviewText', 'rating']]\n",
        "df.columns = ['place', 'user', 'review', 'rating']"
      ],
      "execution_count": 9,
      "outputs": []
    },
    {
      "cell_type": "code",
      "metadata": {
        "id": "0oyq3OfD2Rea",
        "colab_type": "code",
        "colab": {}
      },
      "source": [
        "del data"
      ],
      "execution_count": 10,
      "outputs": []
    },
    {
      "cell_type": "code",
      "metadata": {
        "id": "BSWxhFHs2Rec",
        "colab_type": "code",
        "colab": {
          "base_uri": "https://localhost:8080/",
          "height": 204
        },
        "outputId": "d50e3515-5929-402f-abb2-3a3832f08b03"
      },
      "source": [
        "df.head()"
      ],
      "execution_count": 11,
      "outputs": [
        {
          "output_type": "execute_result",
          "data": {
            "text/html": [
              "<div>\n",
              "<style scoped>\n",
              "    .dataframe tbody tr th:only-of-type {\n",
              "        vertical-align: middle;\n",
              "    }\n",
              "\n",
              "    .dataframe tbody tr th {\n",
              "        vertical-align: top;\n",
              "    }\n",
              "\n",
              "    .dataframe thead th {\n",
              "        text-align: right;\n",
              "    }\n",
              "</style>\n",
              "<table border=\"1\" class=\"dataframe\">\n",
              "  <thead>\n",
              "    <tr style=\"text-align: right;\">\n",
              "      <th></th>\n",
              "      <th>place</th>\n",
              "      <th>user</th>\n",
              "      <th>review</th>\n",
              "      <th>rating</th>\n",
              "    </tr>\n",
              "  </thead>\n",
              "  <tbody>\n",
              "    <tr>\n",
              "      <th>0</th>\n",
              "      <td>103654778391814923896</td>\n",
              "      <td>100000524810171549476</td>\n",
              "      <td>None</td>\n",
              "      <td>5.0</td>\n",
              "    </tr>\n",
              "    <tr>\n",
              "      <th>1</th>\n",
              "      <td>105947477166033397439</td>\n",
              "      <td>100000524810171549476</td>\n",
              "      <td>service is amazing, the line goes so fast.</td>\n",
              "      <td>5.0</td>\n",
              "    </tr>\n",
              "    <tr>\n",
              "      <th>2</th>\n",
              "      <td>107098981103934500500</td>\n",
              "      <td>100000524810171549476</td>\n",
              "      <td>Get the chicken green salad. Yum.</td>\n",
              "      <td>5.0</td>\n",
              "    </tr>\n",
              "    <tr>\n",
              "      <th>3</th>\n",
              "      <td>108585910849109169666</td>\n",
              "      <td>100000524810171549476</td>\n",
              "      <td>Never had a falafel bar before. Yum. +1 for su...</td>\n",
              "      <td>5.0</td>\n",
              "    </tr>\n",
              "    <tr>\n",
              "      <th>4</th>\n",
              "      <td>115453471525181677863</td>\n",
              "      <td>100000524810171549476</td>\n",
              "      <td>Incredible short rib hash for breakfast</td>\n",
              "      <td>5.0</td>\n",
              "    </tr>\n",
              "  </tbody>\n",
              "</table>\n",
              "</div>"
            ],
            "text/plain": [
              "                   place  ... rating\n",
              "0  103654778391814923896  ...    5.0\n",
              "1  105947477166033397439  ...    5.0\n",
              "2  107098981103934500500  ...    5.0\n",
              "3  108585910849109169666  ...    5.0\n",
              "4  115453471525181677863  ...    5.0\n",
              "\n",
              "[5 rows x 4 columns]"
            ]
          },
          "metadata": {
            "tags": []
          },
          "execution_count": 11
        }
      ]
    },
    {
      "cell_type": "markdown",
      "metadata": {
        "id": "VeAdBnYD2Ree",
        "colab_type": "text"
      },
      "source": [
        "## Split Train/Validation"
      ]
    },
    {
      "cell_type": "code",
      "metadata": {
        "id": "b3p928C-2Ree",
        "colab_type": "code",
        "colab": {
          "base_uri": "https://localhost:8080/",
          "height": 34
        },
        "outputId": "096a449a-1f78-4769-d2cf-7095aa239959"
      },
      "source": [
        "train, val = train_test_split(df, test_size=0.2)\n",
        "train.shape, val.shape"
      ],
      "execution_count": 12,
      "outputs": [
        {
          "output_type": "execute_result",
          "data": {
            "text/plain": [
              "((97502, 4), (24376, 4))"
            ]
          },
          "metadata": {
            "tags": []
          },
          "execution_count": 12
        }
      ]
    },
    {
      "cell_type": "code",
      "metadata": {
        "id": "k_hgQ4_52Reh",
        "colab_type": "code",
        "colab": {}
      },
      "source": [
        "del df"
      ],
      "execution_count": 13,
      "outputs": []
    },
    {
      "cell_type": "markdown",
      "metadata": {
        "id": "JRS_4gkN2Rej",
        "colab_type": "text"
      },
      "source": [
        "## Encode Places and Users"
      ]
    },
    {
      "cell_type": "code",
      "metadata": {
        "id": "nb0ZRe2J2Rej",
        "colab_type": "code",
        "colab": {}
      },
      "source": [
        "def encode_cols(train, val, cols):\n",
        "    for col in cols:\n",
        "        uniq = train[col].unique()\n",
        "        col2idx = {val: i for i, val in enumerate(uniq)}\n",
        "        train[col] = train[col].apply(lambda x: col2idx.get(x, -1))\n",
        "        val[col] = val[col].apply(lambda x: col2idx.get(x, -1))\n",
        "        val = val.loc[val[col] >= 0] \n",
        "    return train, val"
      ],
      "execution_count": 14,
      "outputs": []
    },
    {
      "cell_type": "code",
      "metadata": {
        "id": "mAj4ZZQ92Rel",
        "colab_type": "code",
        "colab": {}
      },
      "source": [
        "train_enc, val_enc = encode_cols(train, val, ['place', 'user'])"
      ],
      "execution_count": 15,
      "outputs": []
    },
    {
      "cell_type": "code",
      "metadata": {
        "id": "p5yRmTAc2Ren",
        "colab_type": "code",
        "colab": {
          "base_uri": "https://localhost:8080/",
          "height": 34
        },
        "outputId": "b68a59ef-1f47-434e-e3d8-649ea6eb1e06"
      },
      "source": [
        "len(train_enc.user.unique()), len(train_enc.place.unique())"
      ],
      "execution_count": 16,
      "outputs": [
        {
          "output_type": "execute_result",
          "data": {
            "text/plain": [
              "(6104, 7230)"
            ]
          },
          "metadata": {
            "tags": []
          },
          "execution_count": 16
        }
      ]
    },
    {
      "cell_type": "code",
      "metadata": {
        "id": "c1_0RqDr2Rep",
        "colab_type": "code",
        "colab": {
          "base_uri": "https://localhost:8080/",
          "height": 204
        },
        "outputId": "8c8e3223-60df-4e69-8c26-d7e959cab403"
      },
      "source": [
        "train_enc.head()"
      ],
      "execution_count": 17,
      "outputs": [
        {
          "output_type": "execute_result",
          "data": {
            "text/html": [
              "<div>\n",
              "<style scoped>\n",
              "    .dataframe tbody tr th:only-of-type {\n",
              "        vertical-align: middle;\n",
              "    }\n",
              "\n",
              "    .dataframe tbody tr th {\n",
              "        vertical-align: top;\n",
              "    }\n",
              "\n",
              "    .dataframe thead th {\n",
              "        text-align: right;\n",
              "    }\n",
              "</style>\n",
              "<table border=\"1\" class=\"dataframe\">\n",
              "  <thead>\n",
              "    <tr style=\"text-align: right;\">\n",
              "      <th></th>\n",
              "      <th>place</th>\n",
              "      <th>user</th>\n",
              "      <th>review</th>\n",
              "      <th>rating</th>\n",
              "    </tr>\n",
              "  </thead>\n",
              "  <tbody>\n",
              "    <tr>\n",
              "      <th>6345</th>\n",
              "      <td>0</td>\n",
              "      <td>0</td>\n",
              "      <td>Tiny, and there's often a line so you need to ...</td>\n",
              "      <td>4.0</td>\n",
              "    </tr>\n",
              "    <tr>\n",
              "      <th>909</th>\n",
              "      <td>1</td>\n",
              "      <td>1</td>\n",
              "      <td>This is an NYC gem. What could be better than ...</td>\n",
              "      <td>5.0</td>\n",
              "    </tr>\n",
              "    <tr>\n",
              "      <th>87628</th>\n",
              "      <td>2</td>\n",
              "      <td>2</td>\n",
              "      <td>When did all these great places appear in Quee...</td>\n",
              "      <td>5.0</td>\n",
              "    </tr>\n",
              "    <tr>\n",
              "      <th>46535</th>\n",
              "      <td>3</td>\n",
              "      <td>3</td>\n",
              "      <td>Somehow the Starbucks on Court Street is much ...</td>\n",
              "      <td>3.0</td>\n",
              "    </tr>\n",
              "    <tr>\n",
              "      <th>67471</th>\n",
              "      <td>4</td>\n",
              "      <td>4</td>\n",
              "      <td>I have not found another place in the city tha...</td>\n",
              "      <td>5.0</td>\n",
              "    </tr>\n",
              "  </tbody>\n",
              "</table>\n",
              "</div>"
            ],
            "text/plain": [
              "       place  user                                             review  rating\n",
              "6345       0     0  Tiny, and there's often a line so you need to ...     4.0\n",
              "909        1     1  This is an NYC gem. What could be better than ...     5.0\n",
              "87628      2     2  When did all these great places appear in Quee...     5.0\n",
              "46535      3     3  Somehow the Starbucks on Court Street is much ...     3.0\n",
              "67471      4     4  I have not found another place in the city tha...     5.0"
            ]
          },
          "metadata": {
            "tags": []
          },
          "execution_count": 17
        }
      ]
    },
    {
      "cell_type": "markdown",
      "metadata": {
        "id": "xZfDjyMn2Rer",
        "colab_type": "text"
      },
      "source": [
        "## Get text from reviews, create vocab"
      ]
    },
    {
      "cell_type": "code",
      "metadata": {
        "id": "-nb5d9ok2Rer",
        "colab_type": "code",
        "colab": {}
      },
      "source": [
        "place_reviews = train_enc.groupby('place').review.apply(list)"
      ],
      "execution_count": 18,
      "outputs": []
    },
    {
      "cell_type": "code",
      "metadata": {
        "id": "UlpjiZtG2Ret",
        "colab_type": "code",
        "colab": {
          "base_uri": "https://localhost:8080/",
          "height": 34
        },
        "outputId": "c2bc83a5-dc47-4d8d-d04c-161eb41055a3"
      },
      "source": [
        "len(place_reviews), sum([any(review_list) for review_list in place_reviews.values])"
      ],
      "execution_count": 19,
      "outputs": [
        {
          "output_type": "execute_result",
          "data": {
            "text/plain": [
              "(7230, 7182)"
            ]
          },
          "metadata": {
            "tags": []
          },
          "execution_count": 19
        }
      ]
    },
    {
      "cell_type": "code",
      "metadata": {
        "id": "0RHbMgr22Rew",
        "colab_type": "code",
        "colab": {}
      },
      "source": [
        "# 261 places without any reviews our ot 10476"
      ],
      "execution_count": 20,
      "outputs": []
    },
    {
      "cell_type": "code",
      "metadata": {
        "id": "ABqLo1l02Rex",
        "colab_type": "code",
        "colab": {}
      },
      "source": [
        "place_reviews = place_reviews.apply(lambda x: ' '.join([rev for rev in x if rev is not None]))"
      ],
      "execution_count": 21,
      "outputs": []
    },
    {
      "cell_type": "code",
      "metadata": {
        "id": "u2n4DXX92Rez",
        "colab_type": "code",
        "colab": {
          "base_uri": "https://localhost:8080/",
          "height": 85
        },
        "outputId": "1f682ce9-b1fe-4702-b292-19e4bb067bff"
      },
      "source": [
        "place_reviews.head(2)"
      ],
      "execution_count": 22,
      "outputs": [
        {
          "output_type": "execute_result",
          "data": {
            "text/plain": [
              "place\n",
              "0    Tiny, and there's often a line so you need to ...\n",
              "1    This is an NYC gem. What could be better than ...\n",
              "Name: review, dtype: object"
            ]
          },
          "metadata": {
            "tags": []
          },
          "execution_count": 22
        }
      ]
    },
    {
      "cell_type": "code",
      "metadata": {
        "id": "izoxXI152Re1",
        "colab_type": "code",
        "colab": {}
      },
      "source": [
        "import re"
      ],
      "execution_count": 23,
      "outputs": []
    },
    {
      "cell_type": "code",
      "metadata": {
        "id": "73sKvFgV2Re3",
        "colab_type": "code",
        "colab": {}
      },
      "source": [
        "def tok(text):\n",
        "    reg = re.findall(r\"[\\w']+|[.,!?;]\", text, re.UNICODE)\n",
        "    return [w.lower() for w in reg]"
      ],
      "execution_count": 24,
      "outputs": []
    },
    {
      "cell_type": "code",
      "metadata": {
        "id": "wYfLQv5k2Re6",
        "colab_type": "code",
        "colab": {
          "base_uri": "https://localhost:8080/",
          "height": 357
        },
        "outputId": "70478249-c2b0-4f26-9247-c4e0f8f3a1e2"
      },
      "source": [
        "tok(place_reviews.iloc[0])[:20]"
      ],
      "execution_count": 25,
      "outputs": [
        {
          "output_type": "execute_result",
          "data": {
            "text/plain": [
              "['tiny',\n",
              " ',',\n",
              " 'and',\n",
              " \"there's\",\n",
              " 'often',\n",
              " 'a',\n",
              " 'line',\n",
              " 'so',\n",
              " 'you',\n",
              " 'need',\n",
              " 'to',\n",
              " 'time',\n",
              " 'this',\n",
              " 'one',\n",
              " 'right',\n",
              " '.',\n",
              " 'but',\n",
              " \"there's\",\n",
              " 'a',\n",
              " 'line']"
            ]
          },
          "metadata": {
            "tags": []
          },
          "execution_count": 25
        }
      ]
    },
    {
      "cell_type": "code",
      "metadata": {
        "id": "EU1Bfi-e2Re8",
        "colab_type": "code",
        "colab": {}
      },
      "source": [
        "all_vocab = [word for review in place_reviews.values for word in tok(review)]"
      ],
      "execution_count": 26,
      "outputs": []
    },
    {
      "cell_type": "code",
      "metadata": {
        "id": "-8yg6XgZ2RfA",
        "colab_type": "code",
        "colab": {
          "base_uri": "https://localhost:8080/",
          "height": 34
        },
        "outputId": "70ad1c16-b3a8-40a0-8176-037af45c8ddd"
      },
      "source": [
        "len(all_vocab)"
      ],
      "execution_count": 27,
      "outputs": [
        {
          "output_type": "execute_result",
          "data": {
            "text/plain": [
              "3113883"
            ]
          },
          "metadata": {
            "tags": []
          },
          "execution_count": 27
        }
      ]
    },
    {
      "cell_type": "code",
      "metadata": {
        "id": "LZ52939U2RfD",
        "colab_type": "code",
        "colab": {
          "base_uri": "https://localhost:8080/",
          "height": 34
        },
        "outputId": "9b970bb8-23ec-401e-8870-9d2fa1f10a25"
      },
      "source": [
        "word_cts = Counter(all_vocab)\n",
        "len(word_cts)"
      ],
      "execution_count": 28,
      "outputs": [
        {
          "output_type": "execute_result",
          "data": {
            "text/plain": [
              "44971"
            ]
          },
          "metadata": {
            "tags": []
          },
          "execution_count": 28
        }
      ]
    },
    {
      "cell_type": "code",
      "metadata": {
        "id": "yifAr0u-2RfI",
        "colab_type": "code",
        "colab": {}
      },
      "source": [
        "del all_vocab"
      ],
      "execution_count": 29,
      "outputs": []
    },
    {
      "cell_type": "code",
      "metadata": {
        "id": "DAFana8-2RfK",
        "colab_type": "code",
        "colab": {}
      },
      "source": [
        "common = {k:v for k, v in word_cts.items() if v >= 5}\n",
        "vocab2idx = {'<PAD>': 0, 'UNK': 1}\n",
        "\n",
        "for i, (word, ct) in enumerate(common.items()):\n",
        "    if ct >= 5:\n",
        "        vocab2idx[word] = i + 2"
      ],
      "execution_count": 30,
      "outputs": []
    },
    {
      "cell_type": "code",
      "metadata": {
        "id": "iwoLeAOe2RfL",
        "colab_type": "code",
        "colab": {}
      },
      "source": [
        "del word_cts, common"
      ],
      "execution_count": 31,
      "outputs": []
    },
    {
      "cell_type": "code",
      "metadata": {
        "id": "NJJ3eV-C2RfO",
        "colab_type": "code",
        "colab": {
          "base_uri": "https://localhost:8080/",
          "height": 34
        },
        "outputId": "4718a6d7-cc07-4490-e55e-933a18ad2c97"
      },
      "source": [
        "len(vocab2idx)"
      ],
      "execution_count": 32,
      "outputs": [
        {
          "output_type": "execute_result",
          "data": {
            "text/plain": [
              "13026"
            ]
          },
          "metadata": {
            "tags": []
          },
          "execution_count": 32
        }
      ]
    },
    {
      "cell_type": "markdown",
      "metadata": {
        "id": "IYNPfROX2RfQ",
        "colab_type": "text"
      },
      "source": [
        "## Review to Vector"
      ]
    },
    {
      "cell_type": "code",
      "metadata": {
        "id": "RiSVsiI82RfQ",
        "colab_type": "code",
        "colab": {}
      },
      "source": [
        "place_reviews_tok = [tok(review) for review in place_reviews.values]"
      ],
      "execution_count": 33,
      "outputs": []
    },
    {
      "cell_type": "code",
      "metadata": {
        "id": "rvr17prD2RfT",
        "colab_type": "code",
        "colab": {
          "base_uri": "https://localhost:8080/",
          "height": 34
        },
        "outputId": "544a8985-7aec-41d4-9380-b16a6a142f9c"
      },
      "source": [
        "lens = [len(rev) for rev in place_reviews_tok]\n",
        "max(lens)"
      ],
      "execution_count": 34,
      "outputs": [
        {
          "output_type": "execute_result",
          "data": {
            "text/plain": [
              "8447"
            ]
          },
          "metadata": {
            "tags": []
          },
          "execution_count": 34
        }
      ]
    },
    {
      "cell_type": "code",
      "metadata": {
        "id": "PBd1FEar2RfV",
        "colab_type": "code",
        "colab": {}
      },
      "source": [
        "del lens"
      ],
      "execution_count": 35,
      "outputs": []
    },
    {
      "cell_type": "code",
      "metadata": {
        "id": "Sr9HQlLN2RfW",
        "colab_type": "code",
        "colab": {}
      },
      "source": [
        "def encode_review(review, N=6412):\n",
        "    enc1 = np.array([vocab2idx.get(w, vocab2idx[\"UNK\"]) for w in review])\n",
        "    enc = np.zeros(N, dtype=np.int32)\n",
        "    l = min(N, len(review))\n",
        "    enc[:l] = enc1[:l]\n",
        "    if l == 0:\n",
        "        l=1\n",
        "    return enc, l"
      ],
      "execution_count": 36,
      "outputs": []
    },
    {
      "cell_type": "code",
      "metadata": {
        "id": "mZF8CgiX2RfY",
        "colab_type": "code",
        "colab": {
          "base_uri": "https://localhost:8080/",
          "height": 34
        },
        "outputId": "130353cc-4f2f-41aa-ef12-48761c54224e"
      },
      "source": [
        "encode_review(place_reviews_tok[0])"
      ],
      "execution_count": 37,
      "outputs": [
        {
          "output_type": "execute_result",
          "data": {
            "text/plain": [
              "(array([2, 3, 4, ..., 0, 0, 0], dtype=int32), 789)"
            ]
          },
          "metadata": {
            "tags": []
          },
          "execution_count": 37
        }
      ]
    },
    {
      "cell_type": "markdown",
      "metadata": {
        "id": "LtiH4V6c2Rfa",
        "colab_type": "text"
      },
      "source": [
        "## Dataset and Data Loader"
      ]
    },
    {
      "cell_type": "code",
      "metadata": {
        "id": "TJ3sHspu2Rfa",
        "colab_type": "code",
        "colab": {}
      },
      "source": [
        "class GoogleDataset(Dataset):\n",
        "    def __init__(self, X, y, reviews):\n",
        "        self.user = X.user.values\n",
        "        self.place = X.place.values\n",
        "        self.y = y\n",
        "        self.reviews = reviews\n",
        "        \n",
        "    def __len__(self):\n",
        "        return len(self.y)\n",
        "    \n",
        "    def __getitem__(self, idx):\n",
        "        user = self.user[idx]\n",
        "        place = self.place[idx]\n",
        "        review_vec, l = encode_review(self.reviews[place])\n",
        "        return user, place, review_vec, l, self.y[idx]"
      ],
      "execution_count": 38,
      "outputs": []
    },
    {
      "cell_type": "code",
      "metadata": {
        "id": "uCJ2oPTM2Rfc",
        "colab_type": "code",
        "colab": {}
      },
      "source": [
        "train_ds = GoogleDataset(train_enc[['place', 'user']], train_enc.rating.values, place_reviews_tok)\n",
        "valid_ds = GoogleDataset(val_enc[['place', 'user']], val_enc.rating.values, place_reviews_tok)"
      ],
      "execution_count": 39,
      "outputs": []
    },
    {
      "cell_type": "code",
      "metadata": {
        "id": "hTYHgYXK2Rfd",
        "colab_type": "code",
        "colab": {
          "base_uri": "https://localhost:8080/",
          "height": 34
        },
        "outputId": "e1fba312-3448-4872-db2c-cdf4e09a60fa"
      },
      "source": [
        "next(iter(train_ds))"
      ],
      "execution_count": 40,
      "outputs": [
        {
          "output_type": "execute_result",
          "data": {
            "text/plain": [
              "(0, 0, array([2, 3, 4, ..., 0, 0, 0], dtype=int32), 789, 4.0)"
            ]
          },
          "metadata": {
            "tags": []
          },
          "execution_count": 40
        }
      ]
    },
    {
      "cell_type": "markdown",
      "metadata": {
        "id": "yYAOtEui2Rfe",
        "colab_type": "text"
      },
      "source": [
        "## Load Pre-Trained Glove"
      ]
    },
    {
      "cell_type": "code",
      "metadata": {
        "id": "l6fmr7np2Rff",
        "colab_type": "code",
        "colab": {}
      },
      "source": [
        "def loadGloveModel(gloveFile='data/glove.6B.50d.txt'):\n",
        "    \"\"\" Loads word vectors into a dictionary.\"\"\"\n",
        "    ! wget http://nlp.stanford.edu/data/glove.6B.zip\n",
        "    !unzip glove*.zip\n",
        "    ! mv gl* data\n",
        "\n",
        "    f = open(gloveFile,'r')\n",
        "    words = []\n",
        "    word_vecs = {}\n",
        "    for line in f:\n",
        "        splitLine = line.split()\n",
        "        word = splitLine[0]\n",
        "        words.append(word)\n",
        "        word_vecs[word] = np.array([float(val) for val in splitLine[1:]])\n",
        "    return word_vecs"
      ],
      "execution_count": 41,
      "outputs": []
    },
    {
      "cell_type": "code",
      "metadata": {
        "id": "YXPnkgr42Rfj",
        "colab_type": "code",
        "colab": {
          "base_uri": "https://localhost:8080/",
          "height": 442
        },
        "outputId": "63944f84-4acd-4b9e-bb85-7bfbfb31dde0"
      },
      "source": [
        "glove = loadGloveModel()"
      ],
      "execution_count": 42,
      "outputs": [
        {
          "output_type": "stream",
          "text": [
            "--2020-06-24 05:48:56--  http://nlp.stanford.edu/data/glove.6B.zip\n",
            "Resolving nlp.stanford.edu (nlp.stanford.edu)... 171.64.67.140\n",
            "Connecting to nlp.stanford.edu (nlp.stanford.edu)|171.64.67.140|:80... connected.\n",
            "HTTP request sent, awaiting response... 302 Found\n",
            "Location: https://nlp.stanford.edu/data/glove.6B.zip [following]\n",
            "--2020-06-24 05:48:56--  https://nlp.stanford.edu/data/glove.6B.zip\n",
            "Connecting to nlp.stanford.edu (nlp.stanford.edu)|171.64.67.140|:443... connected.\n",
            "HTTP request sent, awaiting response... 301 Moved Permanently\n",
            "Location: http://downloads.cs.stanford.edu/nlp/data/glove.6B.zip [following]\n",
            "--2020-06-24 05:48:56--  http://downloads.cs.stanford.edu/nlp/data/glove.6B.zip\n",
            "Resolving downloads.cs.stanford.edu (downloads.cs.stanford.edu)... 171.64.64.22\n",
            "Connecting to downloads.cs.stanford.edu (downloads.cs.stanford.edu)|171.64.64.22|:80... connected.\n",
            "HTTP request sent, awaiting response... 200 OK\n",
            "Length: 862182613 (822M) [application/zip]\n",
            "Saving to: ‘glove.6B.zip’\n",
            "\n",
            "glove.6B.zip        100%[===================>] 822.24M  1.99MB/s    in 6m 29s  \n",
            "\n",
            "2020-06-24 05:55:26 (2.11 MB/s) - ‘glove.6B.zip’ saved [862182613/862182613]\n",
            "\n",
            "Archive:  glove.6B.zip\n",
            "  inflating: glove.6B.50d.txt        \n",
            "  inflating: glove.6B.100d.txt       \n",
            "  inflating: glove.6B.200d.txt       \n",
            "  inflating: glove.6B.300d.txt       \n"
          ],
          "name": "stdout"
        }
      ]
    },
    {
      "cell_type": "code",
      "metadata": {
        "id": "f7aDSLfR2Rfl",
        "colab_type": "code",
        "colab": {}
      },
      "source": [
        "def create_embedding_matrix(word_vecs, vocab2index, emb_size=50):\n",
        "    \"\"\"Creates embedding matrix from word vectors. \"\"\" \n",
        "    V = len(vocab2index.keys())\n",
        "    W = np.random.uniform(-0.25,0.25, (V, emb_size)) # initialize random\n",
        "    # adding a vector for padding\n",
        "    W[0] = np.zeros(emb_size, dtype='float16')\n",
        "    for word, index in vocab2index.items():\n",
        "        if word in word_vecs:\n",
        "            W[index] = word_vecs[word]\n",
        "    return W"
      ],
      "execution_count": 43,
      "outputs": []
    },
    {
      "cell_type": "code",
      "metadata": {
        "id": "-RtptPs22Rfn",
        "colab_type": "code",
        "colab": {
          "base_uri": "https://localhost:8080/",
          "height": 34
        },
        "outputId": "3760b2f9-16ee-4cd5-da09-793c4528376f"
      },
      "source": [
        "max([v for k, v in vocab2idx.items()])"
      ],
      "execution_count": 44,
      "outputs": [
        {
          "output_type": "execute_result",
          "data": {
            "text/plain": [
              "13025"
            ]
          },
          "metadata": {
            "tags": []
          },
          "execution_count": 44
        }
      ]
    },
    {
      "cell_type": "code",
      "metadata": {
        "id": "U7MOxg5f2Rfp",
        "colab_type": "code",
        "colab": {}
      },
      "source": [
        "W = create_embedding_matrix(glove, vocab2idx)"
      ],
      "execution_count": 45,
      "outputs": []
    },
    {
      "cell_type": "code",
      "metadata": {
        "id": "IElB1VNG2Rfs",
        "colab_type": "code",
        "colab": {}
      },
      "source": [
        "del glove"
      ],
      "execution_count": 46,
      "outputs": []
    },
    {
      "cell_type": "markdown",
      "metadata": {
        "id": "bQME9QTz2Rfu",
        "colab_type": "text"
      },
      "source": [
        "## Model"
      ]
    },
    {
      "cell_type": "code",
      "metadata": {
        "id": "wuzEkjnf2Rfu",
        "colab_type": "code",
        "colab": {}
      },
      "source": [
        "class Context_MF_bias(nn.Module):\n",
        "    def __init__(self, num_users, num_places, vocab_size,  emb_size=50, glove_weights=None, bias=True):\n",
        "        super(Context_MF_bias, self).__init__()\n",
        "        self.user_emb = nn.Embedding(num_users, emb_size)\n",
        "        self.place_emb = nn.Embedding(num_places, emb_size)\n",
        "        self.user_emb.weight.data.uniform_(0,0.05)\n",
        "        self.place_emb.weight.data.uniform_(0,0.05)\n",
        "        self.bias = bias\n",
        "        if self.bias:\n",
        "            self.user_bias = nn.Embedding(num_users, 1)\n",
        "            self.place_bias = nn.Embedding(num_places, 1)\n",
        "            self.user_bias.weight.data.uniform_(-0.01,0.01)\n",
        "            self.place_emb.weight.data.uniform_(-0.01,0.01)\n",
        "        \n",
        "        self.embeddings = nn.Embedding(vocab_size, emb_size, padding_idx=0)\n",
        "        if glove_weights is not None:\n",
        "            self.embeddings.weight.data.copy_(torch.from_numpy(glove_weights))\n",
        "            self.embeddings.weight.requires_grad = False ## freeze embeddings\n",
        "        \n",
        "        # input dim and hidden dim must be the same to later combine item vec and review vec\n",
        "        self.gru = nn.GRU(emb_size, emb_size, batch_first=True) \n",
        "        self.dropout = nn.Dropout(0.3)\n",
        "        \n",
        "    def forward(self, u, v, v_review, l):\n",
        "        U = self.user_emb(u)\n",
        "        V = self.place_emb(v)\n",
        "        U, V = self.dropout(U), self.dropout(V)\n",
        "        \n",
        "        emb = self.embeddings(v_review)\n",
        "        emb = self.dropout(emb)\n",
        "        pack1 = pack_padded_sequence(emb, l, batch_first=True, enforce_sorted=False)\n",
        "        _, h1 = self.gru(pack1)\n",
        "        \n",
        "        V_rev = h1[-1]\n",
        "        \n",
        "        V = torch.stack([V, V_rev], dim=1) # combines item vector with review vector\n",
        "        V = torch.mean(V, dim=1)   # still dim 50, avg at each dim from item/review vec\n",
        "        \n",
        "        if self.bias:\n",
        "            b_u = self.user_bias(u).squeeze()\n",
        "            b_v = self.place_bias(v).squeeze()\n",
        "            return (U*V).sum(1) +  b_u  + b_v\n",
        "        \n",
        "        return (U*V).sum(1)"
      ],
      "execution_count": 47,
      "outputs": []
    },
    {
      "cell_type": "markdown",
      "metadata": {
        "id": "o29LhDSY2Rfx",
        "colab_type": "text"
      },
      "source": [
        "## Training Functions"
      ]
    },
    {
      "cell_type": "code",
      "metadata": {
        "id": "TciROMcP2Rfx",
        "colab_type": "code",
        "colab": {}
      },
      "source": [
        "def cosine_segment(start_lr, end_lr, iterations):\n",
        "    i = np.arange(iterations)\n",
        "    c_i = 1 + np.cos(i*np.pi/iterations)\n",
        "    return end_lr + (start_lr - end_lr)/2 *c_i\n",
        "\n",
        "def get_cosine_triangular_lr(max_lr, iterations, div_start=5, div_end=5):\n",
        "    min_start, min_end = max_lr/div_start, max_lr/div_end\n",
        "    iter1 = int(0.3*iterations)\n",
        "    iter2 = iterations - iter1\n",
        "    segs = [cosine_segment(min_start, max_lr, iter1), cosine_segment(max_lr, min_end, iter2)]\n",
        "    return np.concatenate(segs)"
      ],
      "execution_count": 48,
      "outputs": []
    },
    {
      "cell_type": "code",
      "metadata": {
        "id": "pcopOU-J2Rfz",
        "colab_type": "code",
        "colab": {}
      },
      "source": [
        "def set_learning_rate(optimizer, lr):\n",
        "    \"\"\"Changing learning rates without creating a new optimizer\"\"\"\n",
        "    for param_group in optimizer.param_groups:\n",
        "        param_group['lr'] = lr"
      ],
      "execution_count": 49,
      "outputs": []
    },
    {
      "cell_type": "code",
      "metadata": {
        "id": "EKkGHQSq2Rf0",
        "colab_type": "code",
        "colab": {}
      },
      "source": [
        "def train_epocs(model, optimzer, train_dl, valid_dl, epochs=10, max_lr=0.01):\n",
        "    iterations = epochs*len(train_dl)\n",
        "    lrs = get_cosine_triangular_lr(max_lr, iterations)\n",
        "    vals = []\n",
        "    for epoch in range(epochs):\n",
        "        model.train()\n",
        "        sum_loss = 0.0\n",
        "        total = 0\n",
        "        i = 0\n",
        "        for u, v, v_rev, l, y in train_dl:\n",
        "            set_learning_rate(optimizer, lrs[i])\n",
        "            users = u.long().cuda()\n",
        "            places = v.long().cuda()\n",
        "            review_vec = v_rev.long().cuda()\n",
        "            ratings = y.float().cuda()\n",
        "            y_hat = model(users, places, review_vec, l)\n",
        "            loss = F.mse_loss(y_hat, ratings)\n",
        "            optimizer.zero_grad()\n",
        "            loss.backward()\n",
        "            optimizer.step()\n",
        "            sum_loss += loss.item()*y.shape[0]\n",
        "            total += y.shape[0]\n",
        "            i += 1\n",
        "        val_loss = val_metrics(model, valid_dl)\n",
        "        vals.append(val_loss)\n",
        "        #if epoch % 10 == 0: \n",
        "        print(f\"train loss {sum_loss/total:.3f} valid loss {val_loss:.3f}\") #valid accuracy {testaccur:.5f}"
      ],
      "execution_count": 50,
      "outputs": []
    },
    {
      "cell_type": "code",
      "metadata": {
        "id": "LFRrkI0R2Rf2",
        "colab_type": "code",
        "colab": {}
      },
      "source": [
        "def val_metrics(model, valid_dl):\n",
        "    with torch.no_grad(): # reduce memory\n",
        "        model.eval()\n",
        "        correct = 0\n",
        "        total = 0\n",
        "        sum_loss = 0.0\n",
        "        for u, v, v_rev, l, y in valid_dl:\n",
        "            users = u.long().cuda()\n",
        "            places = v.long().cuda()\n",
        "            review_vec = v_rev.long().cuda()\n",
        "            ratings = y.float().cuda()\n",
        "            y_hat = model(users, places, review_vec, l)\n",
        "            loss = F.mse_loss(y_hat, ratings)\n",
        "            #y_pred = y_hat > 0\n",
        "            #correct += (y_pred.float() == y).float().sum()\n",
        "            total += y.shape[0]\n",
        "            sum_loss += loss.item()*y.shape[0]\n",
        "    return sum_loss/total #, correct/total"
      ],
      "execution_count": 51,
      "outputs": []
    },
    {
      "cell_type": "markdown",
      "metadata": {
        "id": "gqvdnPqi2Rf3",
        "colab_type": "text"
      },
      "source": [
        "## Train with Glove"
      ]
    },
    {
      "cell_type": "code",
      "metadata": {
        "id": "Mwuoqc0s2Rf4",
        "colab_type": "code",
        "colab": {
          "base_uri": "https://localhost:8080/",
          "height": 34
        },
        "outputId": "b636a3fd-76bd-4d71-d3bd-4bae14a70231"
      },
      "source": [
        "len(train_enc)"
      ],
      "execution_count": 52,
      "outputs": [
        {
          "output_type": "execute_result",
          "data": {
            "text/plain": [
              "97502"
            ]
          },
          "metadata": {
            "tags": []
          },
          "execution_count": 52
        }
      ]
    },
    {
      "cell_type": "code",
      "metadata": {
        "id": "CrhlocL-2Rf8",
        "colab_type": "code",
        "colab": {}
      },
      "source": [
        "batch_size = 2_500\n",
        "train_dl = DataLoader(train_ds, batch_size=batch_size, shuffle=True)\n",
        "valid_dl = DataLoader(valid_ds, batch_size=batch_size)"
      ],
      "execution_count": 53,
      "outputs": []
    },
    {
      "cell_type": "code",
      "metadata": {
        "id": "nguS900_2Rf-",
        "colab_type": "code",
        "colab": {
          "base_uri": "https://localhost:8080/",
          "height": 34
        },
        "outputId": "2a3c58e7-0f9c-4ec7-e28a-8266051d4290"
      },
      "source": [
        "num_places, num_users, V = len(train_enc.place.unique()), len(train_enc.user.unique()), len(vocab2idx.keys())\n",
        "num_places, num_users, V"
      ],
      "execution_count": 54,
      "outputs": [
        {
          "output_type": "execute_result",
          "data": {
            "text/plain": [
              "(7230, 6104, 13026)"
            ]
          },
          "metadata": {
            "tags": []
          },
          "execution_count": 54
        }
      ]
    },
    {
      "cell_type": "code",
      "metadata": {
        "id": "wHZmTkCb2RgE",
        "colab_type": "code",
        "colab": {}
      },
      "source": [
        "torch.cuda.empty_cache()"
      ],
      "execution_count": 55,
      "outputs": []
    },
    {
      "cell_type": "code",
      "metadata": {
        "id": "0tDYlKaJ2RgG",
        "colab_type": "code",
        "colab": {}
      },
      "source": [
        "model_glove = Context_MF_bias(num_users, num_places, V, emb_size=50, bias=False, glove_weights=W).cuda()"
      ],
      "execution_count": 56,
      "outputs": []
    },
    {
      "cell_type": "code",
      "metadata": {
        "id": "-BmH9bBt2RgI",
        "colab_type": "code",
        "colab": {}
      },
      "source": [
        "parameters = filter(lambda p: p.requires_grad, model_glove.parameters())\n",
        "optimizer = torch.optim.Adam(parameters, lr=0.01, weight_decay=1e-5)"
      ],
      "execution_count": 57,
      "outputs": []
    },
    {
      "cell_type": "code",
      "metadata": {
        "id": "jRDjAp072RgJ",
        "colab_type": "code",
        "colab": {
          "base_uri": "https://localhost:8080/",
          "height": 102
        },
        "outputId": "adbfd53f-0163-41fc-ebcc-b9673be3f418"
      },
      "source": [
        "train_epocs(model_glove, optimizer, train_dl, valid_dl, max_lr=0.01, epochs=5)"
      ],
      "execution_count": 58,
      "outputs": [
        {
          "output_type": "stream",
          "text": [
            "train loss 10.459 valid loss 3.109\n",
            "train loss 2.129 valid loss 1.236\n",
            "train loss 0.993 valid loss 0.821\n",
            "train loss 0.757 valid loss 0.703\n",
            "train loss 0.694 valid loss 0.662\n"
          ],
          "name": "stdout"
        }
      ]
    },
    {
      "cell_type": "code",
      "metadata": {
        "id": "sslkzk0K2RgL",
        "colab_type": "code",
        "colab": {}
      },
      "source": [
        "# unfreezing the embeddings\n",
        "model_glove.embeddings.weight.requires_grad = True\n",
        "parameters = filter(lambda p: p.requires_grad, model_glove.parameters())"
      ],
      "execution_count": 59,
      "outputs": []
    },
    {
      "cell_type": "code",
      "metadata": {
        "id": "4Sfr3zDo2RgP",
        "colab_type": "code",
        "colab": {
          "base_uri": "https://localhost:8080/",
          "height": 527
        },
        "outputId": "a8228b67-ce08-49dd-e943-dbe67deec81a"
      },
      "source": [
        "train_epocs(model_glove, optimizer, train_dl, valid_dl, max_lr=0.01, epochs=30)"
      ],
      "execution_count": 60,
      "outputs": [
        {
          "output_type": "stream",
          "text": [
            "train loss 0.665 valid loss 0.639\n",
            "train loss 0.647 valid loss 0.630\n",
            "train loss 0.643 valid loss 0.626\n",
            "train loss 0.635 valid loss 0.622\n",
            "train loss 0.631 valid loss 0.620\n",
            "train loss 0.629 valid loss 0.617\n",
            "train loss 0.632 valid loss 0.615\n",
            "train loss 0.624 valid loss 0.614\n",
            "train loss 0.623 valid loss 0.613\n",
            "train loss 0.624 valid loss 0.613\n",
            "train loss 0.626 valid loss 0.611\n",
            "train loss 0.624 valid loss 0.610\n",
            "train loss 0.618 valid loss 0.610\n",
            "train loss 0.622 valid loss 0.608\n",
            "train loss 0.614 valid loss 0.605\n",
            "train loss 0.617 valid loss 0.605\n",
            "train loss 0.614 valid loss 0.606\n",
            "train loss 0.615 valid loss 0.605\n",
            "train loss 0.616 valid loss 0.604\n",
            "train loss 0.614 valid loss 0.604\n",
            "train loss 0.612 valid loss 0.603\n",
            "train loss 0.614 valid loss 0.601\n",
            "train loss 0.615 valid loss 0.602\n",
            "train loss 0.612 valid loss 0.601\n",
            "train loss 0.610 valid loss 0.599\n",
            "train loss 0.610 valid loss 0.599\n",
            "train loss 0.611 valid loss 0.599\n",
            "train loss 0.611 valid loss 0.600\n",
            "train loss 0.611 valid loss 0.599\n",
            "train loss 0.613 valid loss 0.596\n"
          ],
          "name": "stdout"
        }
      ]
    }
  ]
}