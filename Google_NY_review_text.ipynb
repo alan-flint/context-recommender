{
  "nbformat": 4,
  "nbformat_minor": 0,
  "metadata": {
    "kernelspec": {
      "display_name": "Python 3",
      "language": "python",
      "name": "python3"
    },
    "language_info": {
      "codemirror_mode": {
        "name": "ipython",
        "version": 3
      },
      "file_extension": ".py",
      "mimetype": "text/x-python",
      "name": "python",
      "nbconvert_exporter": "python",
      "pygments_lexer": "ipython3",
      "version": "3.6.10"
    },
    "colab": {
      "name": "Google_NY_review_text.ipynb",
      "provenance": [],
      "collapsed_sections": [],
      "toc_visible": true
    },
    "accelerator": "GPU"
  },
  "cells": [
    {
      "cell_type": "code",
      "metadata": {
        "id": "zDBIbdMnY75b",
        "colab_type": "code",
        "colab": {}
      },
      "source": [
        "from pathlib import Path\n",
        "import pandas as pd\n",
        "pd.options.mode.chained_assignment = None\n",
        "import numpy as np\n",
        "\n",
        "import torch\n",
        "import torch.nn as nn\n",
        "import torch.nn.functional as F\n",
        "from torch.utils.data import Dataset, DataLoader\n",
        "from torch.nn.utils.rnn import pack_padded_sequence\n",
        "\n",
        "from sklearn.model_selection import train_test_split\n",
        "from collections import Counter"
      ],
      "execution_count": 1,
      "outputs": []
    },
    {
      "cell_type": "code",
      "metadata": {
        "id": "iLgTdbfZY75h",
        "colab_type": "code",
        "colab": {}
      },
      "source": [
        "import gzip\n",
        "import json\n",
        "import io\n",
        "\n",
        "def unpack_dataset():\n",
        "    ! wget http://jmcauley.ucsd.edu/data/googlelocal/kcore/NY_5.json.gz\n",
        "    ! mkdir data\n",
        "    ! mv NY* data\n",
        "\n",
        "def readGz(fname):\n",
        "    gz = gzip.open(fname, 'rb')\n",
        "    f = io.BufferedReader(gz)\n",
        "    data = []\n",
        "        \n",
        "    for l in f.readlines():\n",
        "        data.append(eval(l))\n",
        "        \n",
        "    gz.close()\n",
        "    return data"
      ],
      "execution_count": 2,
      "outputs": []
    },
    {
      "cell_type": "code",
      "metadata": {
        "id": "IyjWdsm9ZCaY",
        "colab_type": "code",
        "colab": {
          "base_uri": "https://localhost:8080/",
          "height": 221
        },
        "outputId": "8b3738c2-2514-440e-cdb5-7a5f555e99c1"
      },
      "source": [
        "unpack_dataset()\n"
      ],
      "execution_count": 3,
      "outputs": [
        {
          "output_type": "stream",
          "text": [
            "--2020-06-24 03:53:58--  http://jmcauley.ucsd.edu/data/googlelocal/kcore/NY_5.json.gz\n",
            "Resolving jmcauley.ucsd.edu (jmcauley.ucsd.edu)... 137.110.160.73\n",
            "Connecting to jmcauley.ucsd.edu (jmcauley.ucsd.edu)|137.110.160.73|:80... connected.\n",
            "HTTP request sent, awaiting response... 200 OK\n",
            "Length: 11983311 (11M) [application/x-gzip]\n",
            "Saving to: ‘NY_5.json.gz’\n",
            "\n",
            "NY_5.json.gz        100%[===================>]  11.43M  8.13MB/s    in 1.4s    \n",
            "\n",
            "2020-06-24 03:54:00 (8.13 MB/s) - ‘NY_5.json.gz’ saved [11983311/11983311]\n",
            "\n",
            "mkdir: cannot create directory ‘data’: File exists\n"
          ],
          "name": "stdout"
        }
      ]
    },
    {
      "cell_type": "code",
      "metadata": {
        "id": "quQWtO1NY75j",
        "colab_type": "code",
        "colab": {}
      },
      "source": [
        "ny5 = readGz('data/NY_5.json.gz')"
      ],
      "execution_count": 4,
      "outputs": []
    },
    {
      "cell_type": "code",
      "metadata": {
        "id": "IVlKayqUY75l",
        "colab_type": "code",
        "colab": {}
      },
      "source": [
        "data = pd.DataFrame(ny5)"
      ],
      "execution_count": 5,
      "outputs": []
    },
    {
      "cell_type": "code",
      "metadata": {
        "id": "SAAO7fCIY75s",
        "colab_type": "code",
        "colab": {}
      },
      "source": [
        "del ny5"
      ],
      "execution_count": 6,
      "outputs": []
    },
    {
      "cell_type": "code",
      "metadata": {
        "id": "tDVYqxx3Y75w",
        "colab_type": "code",
        "colab": {
          "base_uri": "https://localhost:8080/",
          "height": 34
        },
        "outputId": "60ab3588-9776-43bd-d308-f7b25d18620e"
      },
      "source": [
        "data.shape"
      ],
      "execution_count": 7,
      "outputs": [
        {
          "output_type": "execute_result",
          "data": {
            "text/plain": [
              "(121878, 8)"
            ]
          },
          "metadata": {
            "tags": []
          },
          "execution_count": 7
        }
      ]
    },
    {
      "cell_type": "code",
      "metadata": {
        "id": "-IjMVeqiY75z",
        "colab_type": "code",
        "colab": {
          "base_uri": "https://localhost:8080/",
          "height": 479
        },
        "outputId": "73861915-a4db-400b-ea10-480ee49a94a6"
      },
      "source": [
        "data.head()"
      ],
      "execution_count": 8,
      "outputs": [
        {
          "output_type": "execute_result",
          "data": {
            "text/html": [
              "<div>\n",
              "<style scoped>\n",
              "    .dataframe tbody tr th:only-of-type {\n",
              "        vertical-align: middle;\n",
              "    }\n",
              "\n",
              "    .dataframe tbody tr th {\n",
              "        vertical-align: top;\n",
              "    }\n",
              "\n",
              "    .dataframe thead th {\n",
              "        text-align: right;\n",
              "    }\n",
              "</style>\n",
              "<table border=\"1\" class=\"dataframe\">\n",
              "  <thead>\n",
              "    <tr style=\"text-align: right;\">\n",
              "      <th></th>\n",
              "      <th>rating</th>\n",
              "      <th>reviewerName</th>\n",
              "      <th>reviewText</th>\n",
              "      <th>categories</th>\n",
              "      <th>gPlusPlaceId</th>\n",
              "      <th>unixReviewTime</th>\n",
              "      <th>reviewTime</th>\n",
              "      <th>gPlusUserId</th>\n",
              "    </tr>\n",
              "  </thead>\n",
              "  <tbody>\n",
              "    <tr>\n",
              "      <th>0</th>\n",
              "      <td>5.0</td>\n",
              "      <td>Chris Johnson</td>\n",
              "      <td>None</td>\n",
              "      <td>[American Restaurant, Bar]</td>\n",
              "      <td>103654778391814923896</td>\n",
              "      <td>1.311510e+09</td>\n",
              "      <td>Jul 24, 2011</td>\n",
              "      <td>100000524810171549476</td>\n",
              "    </tr>\n",
              "    <tr>\n",
              "      <th>1</th>\n",
              "      <td>5.0</td>\n",
              "      <td>Chris Johnson</td>\n",
              "      <td>service is amazing, the line goes so fast.</td>\n",
              "      <td>[Grocery Store]</td>\n",
              "      <td>105947477166033397439</td>\n",
              "      <td>1.316105e+09</td>\n",
              "      <td>Sep 15, 2011</td>\n",
              "      <td>100000524810171549476</td>\n",
              "    </tr>\n",
              "    <tr>\n",
              "      <th>2</th>\n",
              "      <td>5.0</td>\n",
              "      <td>Chris Johnson</td>\n",
              "      <td>Get the chicken green salad. Yum.</td>\n",
              "      <td>[Chicken Restaurant]</td>\n",
              "      <td>107098981103934500500</td>\n",
              "      <td>1.311509e+09</td>\n",
              "      <td>Jul 24, 2011</td>\n",
              "      <td>100000524810171549476</td>\n",
              "    </tr>\n",
              "    <tr>\n",
              "      <th>3</th>\n",
              "      <td>5.0</td>\n",
              "      <td>Chris Johnson</td>\n",
              "      <td>Never had a falafel bar before. Yum. +1 for su...</td>\n",
              "      <td>[Vegetarian Restaurant, Mediterranean Restaura...</td>\n",
              "      <td>108585910849109169666</td>\n",
              "      <td>1.311509e+09</td>\n",
              "      <td>Jul 24, 2011</td>\n",
              "      <td>100000524810171549476</td>\n",
              "    </tr>\n",
              "    <tr>\n",
              "      <th>4</th>\n",
              "      <td>5.0</td>\n",
              "      <td>Chris Johnson</td>\n",
              "      <td>Incredible short rib hash for breakfast</td>\n",
              "      <td>[French Restaurant, American Restaurant, Wine ...</td>\n",
              "      <td>115453471525181677863</td>\n",
              "      <td>1.320496e+09</td>\n",
              "      <td>Nov 5, 2011</td>\n",
              "      <td>100000524810171549476</td>\n",
              "    </tr>\n",
              "  </tbody>\n",
              "</table>\n",
              "</div>"
            ],
            "text/plain": [
              "   rating   reviewerName  ...    reviewTime            gPlusUserId\n",
              "0     5.0  Chris Johnson  ...  Jul 24, 2011  100000524810171549476\n",
              "1     5.0  Chris Johnson  ...  Sep 15, 2011  100000524810171549476\n",
              "2     5.0  Chris Johnson  ...  Jul 24, 2011  100000524810171549476\n",
              "3     5.0  Chris Johnson  ...  Jul 24, 2011  100000524810171549476\n",
              "4     5.0  Chris Johnson  ...   Nov 5, 2011  100000524810171549476\n",
              "\n",
              "[5 rows x 8 columns]"
            ]
          },
          "metadata": {
            "tags": []
          },
          "execution_count": 8
        }
      ]
    },
    {
      "cell_type": "code",
      "metadata": {
        "id": "c2qhoRowY752",
        "colab_type": "code",
        "colab": {}
      },
      "source": [
        "# now use user, item, reviewText & ratings\n",
        "df = data[['gPlusPlaceId', 'gPlusUserId', 'reviewText', 'rating']]\n",
        "df.columns = ['place', 'user', 'review', 'rating']"
      ],
      "execution_count": 9,
      "outputs": []
    },
    {
      "cell_type": "code",
      "metadata": {
        "id": "pBTLGd87Y754",
        "colab_type": "code",
        "colab": {}
      },
      "source": [
        "del data"
      ],
      "execution_count": 10,
      "outputs": []
    },
    {
      "cell_type": "code",
      "metadata": {
        "id": "GUL8sb8QY756",
        "colab_type": "code",
        "colab": {
          "base_uri": "https://localhost:8080/",
          "height": 204
        },
        "outputId": "9d760427-188c-43e8-ba80-1fe8e2e0b08a"
      },
      "source": [
        "df.head()"
      ],
      "execution_count": 11,
      "outputs": [
        {
          "output_type": "execute_result",
          "data": {
            "text/html": [
              "<div>\n",
              "<style scoped>\n",
              "    .dataframe tbody tr th:only-of-type {\n",
              "        vertical-align: middle;\n",
              "    }\n",
              "\n",
              "    .dataframe tbody tr th {\n",
              "        vertical-align: top;\n",
              "    }\n",
              "\n",
              "    .dataframe thead th {\n",
              "        text-align: right;\n",
              "    }\n",
              "</style>\n",
              "<table border=\"1\" class=\"dataframe\">\n",
              "  <thead>\n",
              "    <tr style=\"text-align: right;\">\n",
              "      <th></th>\n",
              "      <th>place</th>\n",
              "      <th>user</th>\n",
              "      <th>review</th>\n",
              "      <th>rating</th>\n",
              "    </tr>\n",
              "  </thead>\n",
              "  <tbody>\n",
              "    <tr>\n",
              "      <th>0</th>\n",
              "      <td>103654778391814923896</td>\n",
              "      <td>100000524810171549476</td>\n",
              "      <td>None</td>\n",
              "      <td>5.0</td>\n",
              "    </tr>\n",
              "    <tr>\n",
              "      <th>1</th>\n",
              "      <td>105947477166033397439</td>\n",
              "      <td>100000524810171549476</td>\n",
              "      <td>service is amazing, the line goes so fast.</td>\n",
              "      <td>5.0</td>\n",
              "    </tr>\n",
              "    <tr>\n",
              "      <th>2</th>\n",
              "      <td>107098981103934500500</td>\n",
              "      <td>100000524810171549476</td>\n",
              "      <td>Get the chicken green salad. Yum.</td>\n",
              "      <td>5.0</td>\n",
              "    </tr>\n",
              "    <tr>\n",
              "      <th>3</th>\n",
              "      <td>108585910849109169666</td>\n",
              "      <td>100000524810171549476</td>\n",
              "      <td>Never had a falafel bar before. Yum. +1 for su...</td>\n",
              "      <td>5.0</td>\n",
              "    </tr>\n",
              "    <tr>\n",
              "      <th>4</th>\n",
              "      <td>115453471525181677863</td>\n",
              "      <td>100000524810171549476</td>\n",
              "      <td>Incredible short rib hash for breakfast</td>\n",
              "      <td>5.0</td>\n",
              "    </tr>\n",
              "  </tbody>\n",
              "</table>\n",
              "</div>"
            ],
            "text/plain": [
              "                   place  ... rating\n",
              "0  103654778391814923896  ...    5.0\n",
              "1  105947477166033397439  ...    5.0\n",
              "2  107098981103934500500  ...    5.0\n",
              "3  108585910849109169666  ...    5.0\n",
              "4  115453471525181677863  ...    5.0\n",
              "\n",
              "[5 rows x 4 columns]"
            ]
          },
          "metadata": {
            "tags": []
          },
          "execution_count": 11
        }
      ]
    },
    {
      "cell_type": "markdown",
      "metadata": {
        "id": "7x18Ib1OY758",
        "colab_type": "text"
      },
      "source": [
        "## Split Train/Validation"
      ]
    },
    {
      "cell_type": "code",
      "metadata": {
        "id": "kOP78i6iY758",
        "colab_type": "code",
        "colab": {
          "base_uri": "https://localhost:8080/",
          "height": 34
        },
        "outputId": "6500ca24-7b00-45ca-ff5c-d584fd140d20"
      },
      "source": [
        "train, val = train_test_split(df, test_size=0.2)\n",
        "train.shape, val.shape"
      ],
      "execution_count": 12,
      "outputs": [
        {
          "output_type": "execute_result",
          "data": {
            "text/plain": [
              "((97502, 4), (24376, 4))"
            ]
          },
          "metadata": {
            "tags": []
          },
          "execution_count": 12
        }
      ]
    },
    {
      "cell_type": "code",
      "metadata": {
        "id": "OkM-OmRGY75-",
        "colab_type": "code",
        "colab": {}
      },
      "source": [
        "del df"
      ],
      "execution_count": 13,
      "outputs": []
    },
    {
      "cell_type": "markdown",
      "metadata": {
        "id": "DW7wmhpMY76B",
        "colab_type": "text"
      },
      "source": [
        "## Encode Places and Users"
      ]
    },
    {
      "cell_type": "code",
      "metadata": {
        "id": "6HeyzWfNY76B",
        "colab_type": "code",
        "colab": {}
      },
      "source": [
        "def encode_cols(train, val, cols):\n",
        "    for col in cols:\n",
        "        uniq = train[col].unique()\n",
        "        col2idx = {val: i for i, val in enumerate(uniq)}\n",
        "        train[col] = train[col].apply(lambda x: col2idx.get(x, -1))\n",
        "        val[col] = val[col].apply(lambda x: col2idx.get(x, -1))\n",
        "        val = val.loc[val[col] >= 0] \n",
        "    return train, val"
      ],
      "execution_count": 14,
      "outputs": []
    },
    {
      "cell_type": "code",
      "metadata": {
        "id": "xZarASSJY76E",
        "colab_type": "code",
        "colab": {}
      },
      "source": [
        "train_enc, val_enc = encode_cols(train, val, ['place', 'user'])"
      ],
      "execution_count": 15,
      "outputs": []
    },
    {
      "cell_type": "code",
      "metadata": {
        "id": "Fcktk2-9Y76F",
        "colab_type": "code",
        "colab": {
          "base_uri": "https://localhost:8080/",
          "height": 34
        },
        "outputId": "de19d75c-c931-4dd8-d277-1dfeedc03c1b"
      },
      "source": [
        "len(train_enc.user.unique()), len(train_enc.place.unique())"
      ],
      "execution_count": 16,
      "outputs": [
        {
          "output_type": "execute_result",
          "data": {
            "text/plain": [
              "(6101, 7231)"
            ]
          },
          "metadata": {
            "tags": []
          },
          "execution_count": 16
        }
      ]
    },
    {
      "cell_type": "code",
      "metadata": {
        "id": "Khy9u5D-Y76H",
        "colab_type": "code",
        "colab": {
          "base_uri": "https://localhost:8080/",
          "height": 204
        },
        "outputId": "1d1025ee-19ca-48e6-c2fe-7007db068d76"
      },
      "source": [
        "train_enc.head()"
      ],
      "execution_count": 17,
      "outputs": [
        {
          "output_type": "execute_result",
          "data": {
            "text/html": [
              "<div>\n",
              "<style scoped>\n",
              "    .dataframe tbody tr th:only-of-type {\n",
              "        vertical-align: middle;\n",
              "    }\n",
              "\n",
              "    .dataframe tbody tr th {\n",
              "        vertical-align: top;\n",
              "    }\n",
              "\n",
              "    .dataframe thead th {\n",
              "        text-align: right;\n",
              "    }\n",
              "</style>\n",
              "<table border=\"1\" class=\"dataframe\">\n",
              "  <thead>\n",
              "    <tr style=\"text-align: right;\">\n",
              "      <th></th>\n",
              "      <th>place</th>\n",
              "      <th>user</th>\n",
              "      <th>review</th>\n",
              "      <th>rating</th>\n",
              "    </tr>\n",
              "  </thead>\n",
              "  <tbody>\n",
              "    <tr>\n",
              "      <th>113278</th>\n",
              "      <td>0</td>\n",
              "      <td>0</td>\n",
              "      <td>This is probably my least favorite out of the ...</td>\n",
              "      <td>3.0</td>\n",
              "    </tr>\n",
              "    <tr>\n",
              "      <th>17635</th>\n",
              "      <td>1</td>\n",
              "      <td>1</td>\n",
              "      <td>To put it simply, these are the best doughnuts...</td>\n",
              "      <td>5.0</td>\n",
              "    </tr>\n",
              "    <tr>\n",
              "      <th>38287</th>\n",
              "      <td>2</td>\n",
              "      <td>2</td>\n",
              "      <td>None</td>\n",
              "      <td>1.0</td>\n",
              "    </tr>\n",
              "    <tr>\n",
              "      <th>84640</th>\n",
              "      <td>3</td>\n",
              "      <td>3</td>\n",
              "      <td>None</td>\n",
              "      <td>4.0</td>\n",
              "    </tr>\n",
              "    <tr>\n",
              "      <th>16909</th>\n",
              "      <td>4</td>\n",
              "      <td>4</td>\n",
              "      <td>Great coffee with a nice back porch area.</td>\n",
              "      <td>5.0</td>\n",
              "    </tr>\n",
              "  </tbody>\n",
              "</table>\n",
              "</div>"
            ],
            "text/plain": [
              "        place  user                                             review  rating\n",
              "113278      0     0  This is probably my least favorite out of the ...     3.0\n",
              "17635       1     1  To put it simply, these are the best doughnuts...     5.0\n",
              "38287       2     2                                               None     1.0\n",
              "84640       3     3                                               None     4.0\n",
              "16909       4     4          Great coffee with a nice back porch area.     5.0"
            ]
          },
          "metadata": {
            "tags": []
          },
          "execution_count": 17
        }
      ]
    },
    {
      "cell_type": "markdown",
      "metadata": {
        "id": "iNxFuezTY76J",
        "colab_type": "text"
      },
      "source": [
        "## Get text from reviews, create vocab"
      ]
    },
    {
      "cell_type": "code",
      "metadata": {
        "id": "qY9QHgvhY76K",
        "colab_type": "code",
        "colab": {}
      },
      "source": [
        "place_reviews = train_enc.groupby('place').review.apply(list)"
      ],
      "execution_count": 18,
      "outputs": []
    },
    {
      "cell_type": "code",
      "metadata": {
        "id": "MHFs9EQpY76M",
        "colab_type": "code",
        "colab": {
          "base_uri": "https://localhost:8080/",
          "height": 34
        },
        "outputId": "dc0b0545-a173-404c-abe8-bd67b31dbbc2"
      },
      "source": [
        "len(place_reviews), sum([any(review_list) for review_list in place_reviews.values])"
      ],
      "execution_count": 19,
      "outputs": [
        {
          "output_type": "execute_result",
          "data": {
            "text/plain": [
              "(7231, 7191)"
            ]
          },
          "metadata": {
            "tags": []
          },
          "execution_count": 19
        }
      ]
    },
    {
      "cell_type": "code",
      "metadata": {
        "id": "hZetzS11Y76N",
        "colab_type": "code",
        "colab": {}
      },
      "source": [
        "# 40 places without any reviews out of 10476"
      ],
      "execution_count": 20,
      "outputs": []
    },
    {
      "cell_type": "code",
      "metadata": {
        "id": "anDrdt8HY76S",
        "colab_type": "code",
        "colab": {}
      },
      "source": [
        "place_reviews = place_reviews.apply(lambda x: ' '.join([rev for rev in x if rev is not None]))"
      ],
      "execution_count": 21,
      "outputs": []
    },
    {
      "cell_type": "code",
      "metadata": {
        "id": "Hmv5q0CGY76U",
        "colab_type": "code",
        "colab": {
          "base_uri": "https://localhost:8080/",
          "height": 85
        },
        "outputId": "12af1450-1672-4d66-c7dc-1b06e099a343"
      },
      "source": [
        "place_reviews.head(2)"
      ],
      "execution_count": 22,
      "outputs": [
        {
          "output_type": "execute_result",
          "data": {
            "text/plain": [
              "place\n",
              "0    This is probably my least favorite out of the ...\n",
              "1    To put it simply, these are the best doughnuts...\n",
              "Name: review, dtype: object"
            ]
          },
          "metadata": {
            "tags": []
          },
          "execution_count": 22
        }
      ]
    },
    {
      "cell_type": "code",
      "metadata": {
        "id": "Zq05R5mcY76W",
        "colab_type": "code",
        "colab": {}
      },
      "source": [
        "import re"
      ],
      "execution_count": 23,
      "outputs": []
    },
    {
      "cell_type": "code",
      "metadata": {
        "id": "XNMxMaU-Y76Y",
        "colab_type": "code",
        "colab": {}
      },
      "source": [
        "def tok(text):\n",
        "    reg = re.findall(r\"[\\w']+|[.,!?;]\", text, re.UNICODE)\n",
        "    return [w.lower() for w in reg]"
      ],
      "execution_count": 24,
      "outputs": []
    },
    {
      "cell_type": "code",
      "metadata": {
        "id": "-7fLN5NMY76a",
        "colab_type": "code",
        "colab": {
          "base_uri": "https://localhost:8080/",
          "height": 357
        },
        "outputId": "58a6861f-8e81-499f-df38-7fd3973f128d"
      },
      "source": [
        "tok(place_reviews.iloc[0])[:20]"
      ],
      "execution_count": 25,
      "outputs": [
        {
          "output_type": "execute_result",
          "data": {
            "text/plain": [
              "['this',\n",
              " 'is',\n",
              " 'probably',\n",
              " 'my',\n",
              " 'least',\n",
              " 'favorite',\n",
              " 'out',\n",
              " 'of',\n",
              " 'the',\n",
              " 'apple',\n",
              " 'stores',\n",
              " '.',\n",
              " \"it's\",\n",
              " 'too',\n",
              " 'crowded',\n",
              " 'and',\n",
              " 'crazy',\n",
              " 'that',\n",
              " \"it's\",\n",
              " 'almost']"
            ]
          },
          "metadata": {
            "tags": []
          },
          "execution_count": 25
        }
      ]
    },
    {
      "cell_type": "code",
      "metadata": {
        "id": "pGqnOR1QY76d",
        "colab_type": "code",
        "colab": {}
      },
      "source": [
        "all_vocab = [word for review in place_reviews.values for word in tok(review)]"
      ],
      "execution_count": 26,
      "outputs": []
    },
    {
      "cell_type": "code",
      "metadata": {
        "id": "Hb3tUVYvY76f",
        "colab_type": "code",
        "colab": {
          "base_uri": "https://localhost:8080/",
          "height": 34
        },
        "outputId": "13ddc934-2b63-4013-e3b5-679bcf2ff02a"
      },
      "source": [
        "len(all_vocab)"
      ],
      "execution_count": 27,
      "outputs": [
        {
          "output_type": "execute_result",
          "data": {
            "text/plain": [
              "3108620"
            ]
          },
          "metadata": {
            "tags": []
          },
          "execution_count": 27
        }
      ]
    },
    {
      "cell_type": "code",
      "metadata": {
        "id": "t_fl-L3NY76j",
        "colab_type": "code",
        "colab": {
          "base_uri": "https://localhost:8080/",
          "height": 34
        },
        "outputId": "f1eae076-055a-4ed3-f097-82ef1f233b72"
      },
      "source": [
        "word_cts = Counter(all_vocab)\n",
        "len(word_cts)"
      ],
      "execution_count": 28,
      "outputs": [
        {
          "output_type": "execute_result",
          "data": {
            "text/plain": [
              "44998"
            ]
          },
          "metadata": {
            "tags": []
          },
          "execution_count": 28
        }
      ]
    },
    {
      "cell_type": "code",
      "metadata": {
        "id": "yADe8QsFY76m",
        "colab_type": "code",
        "colab": {}
      },
      "source": [
        "del all_vocab"
      ],
      "execution_count": 29,
      "outputs": []
    },
    {
      "cell_type": "code",
      "metadata": {
        "id": "zXxkGa5rY76o",
        "colab_type": "code",
        "colab": {}
      },
      "source": [
        "common = {k:v for k, v in word_cts.items() if v >= 5}\n",
        "vocab2idx = {'<PAD>': 0, 'UNK': 1}\n",
        "\n",
        "for i, (word, ct) in enumerate(common.items()):\n",
        "    if ct >= 5:\n",
        "        vocab2idx[word] = i + 2"
      ],
      "execution_count": 30,
      "outputs": []
    },
    {
      "cell_type": "code",
      "metadata": {
        "id": "6RN-OpkjY76r",
        "colab_type": "code",
        "colab": {}
      },
      "source": [
        "del word_cts, common"
      ],
      "execution_count": 31,
      "outputs": []
    },
    {
      "cell_type": "code",
      "metadata": {
        "id": "5xXcyJl1Y76t",
        "colab_type": "code",
        "colab": {
          "base_uri": "https://localhost:8080/",
          "height": 34
        },
        "outputId": "4766e3dd-b268-45fb-b69f-3a4636f91711"
      },
      "source": [
        "len(vocab2idx)"
      ],
      "execution_count": 32,
      "outputs": [
        {
          "output_type": "execute_result",
          "data": {
            "text/plain": [
              "13013"
            ]
          },
          "metadata": {
            "tags": []
          },
          "execution_count": 32
        }
      ]
    },
    {
      "cell_type": "markdown",
      "metadata": {
        "id": "LuE-st_hY76v",
        "colab_type": "text"
      },
      "source": [
        "## Review to Vector"
      ]
    },
    {
      "cell_type": "code",
      "metadata": {
        "id": "08me06gWY76v",
        "colab_type": "code",
        "colab": {}
      },
      "source": [
        "place_reviews_tok = [tok(review) for review in place_reviews.values]"
      ],
      "execution_count": 33,
      "outputs": []
    },
    {
      "cell_type": "code",
      "metadata": {
        "id": "YHaIQ9yGY76x",
        "colab_type": "code",
        "colab": {
          "base_uri": "https://localhost:8080/",
          "height": 34
        },
        "outputId": "1e3fc8e0-f660-4dc6-f615-b5cab87092c0"
      },
      "source": [
        "lens = [len(rev) for rev in place_reviews_tok]\n",
        "max(lens)"
      ],
      "execution_count": 34,
      "outputs": [
        {
          "output_type": "execute_result",
          "data": {
            "text/plain": [
              "8034"
            ]
          },
          "metadata": {
            "tags": []
          },
          "execution_count": 34
        }
      ]
    },
    {
      "cell_type": "code",
      "metadata": {
        "id": "aX28XPuWY76z",
        "colab_type": "code",
        "colab": {}
      },
      "source": [
        "del lens"
      ],
      "execution_count": 35,
      "outputs": []
    },
    {
      "cell_type": "code",
      "metadata": {
        "id": "NlcdhOMOY760",
        "colab_type": "code",
        "colab": {}
      },
      "source": [
        "def encode_review(review, N=6412):\n",
        "    enc1 = np.array([vocab2idx.get(w, vocab2idx[\"UNK\"]) for w in review])\n",
        "    enc = np.zeros(N, dtype=np.int32)\n",
        "    l = min(N, len(review))\n",
        "    enc[:l] = enc1[:l]\n",
        "    if l == 0:\n",
        "        l=1\n",
        "    return enc, l"
      ],
      "execution_count": 36,
      "outputs": []
    },
    {
      "cell_type": "code",
      "metadata": {
        "id": "gplaqgU5Y762",
        "colab_type": "code",
        "colab": {
          "base_uri": "https://localhost:8080/",
          "height": 34
        },
        "outputId": "124767d2-baae-422d-b581-69d63ef03494"
      },
      "source": [
        "encode_review(place_reviews_tok[0])"
      ],
      "execution_count": 37,
      "outputs": [
        {
          "output_type": "execute_result",
          "data": {
            "text/plain": [
              "(array([2, 3, 4, ..., 0, 0, 0], dtype=int32), 1379)"
            ]
          },
          "metadata": {
            "tags": []
          },
          "execution_count": 37
        }
      ]
    },
    {
      "cell_type": "markdown",
      "metadata": {
        "id": "tPpE82u8Y763",
        "colab_type": "text"
      },
      "source": [
        "## Dataset and Data Loader"
      ]
    },
    {
      "cell_type": "code",
      "metadata": {
        "id": "25nkxvzIY764",
        "colab_type": "code",
        "colab": {}
      },
      "source": [
        "class GoogleDataset(Dataset):\n",
        "    def __init__(self, X, y, reviews):\n",
        "        self.user = X.user.values\n",
        "        self.place = X.place.values\n",
        "        self.y = y\n",
        "        self.reviews = reviews\n",
        "        \n",
        "    def __len__(self):\n",
        "        return len(self.y)\n",
        "    \n",
        "    def __getitem__(self, idx):\n",
        "        user = self.user[idx]\n",
        "        place = self.place[idx]\n",
        "        review_vec, l = encode_review(self.reviews[place])\n",
        "        return user, place, review_vec, l, self.y[idx]"
      ],
      "execution_count": 38,
      "outputs": []
    },
    {
      "cell_type": "code",
      "metadata": {
        "id": "URpbPHSgY765",
        "colab_type": "code",
        "colab": {}
      },
      "source": [
        "train_ds = GoogleDataset(train_enc[['place', 'user']], train_enc.rating.values, place_reviews_tok)\n",
        "valid_ds = GoogleDataset(val_enc[['place', 'user']], val_enc.rating.values, place_reviews_tok)"
      ],
      "execution_count": 39,
      "outputs": []
    },
    {
      "cell_type": "code",
      "metadata": {
        "id": "4FNQzKGzY767",
        "colab_type": "code",
        "colab": {
          "base_uri": "https://localhost:8080/",
          "height": 34
        },
        "outputId": "5cda5ff0-21e3-426b-8325-2ab1ca6d79b8"
      },
      "source": [
        "next(iter(train_ds))"
      ],
      "execution_count": 40,
      "outputs": [
        {
          "output_type": "execute_result",
          "data": {
            "text/plain": [
              "(0, 0, array([2, 3, 4, ..., 0, 0, 0], dtype=int32), 1379, 3.0)"
            ]
          },
          "metadata": {
            "tags": []
          },
          "execution_count": 40
        }
      ]
    },
    {
      "cell_type": "markdown",
      "metadata": {
        "id": "DBm9uGpaY769",
        "colab_type": "text"
      },
      "source": [
        "## Load Pre-Trained Glove"
      ]
    },
    {
      "cell_type": "code",
      "metadata": {
        "id": "GQVl2M6aZ9Ma",
        "colab_type": "code",
        "colab": {}
      },
      "source": [
        ""
      ],
      "execution_count": 40,
      "outputs": []
    },
    {
      "cell_type": "code",
      "metadata": {
        "id": "Wv-AP4VqY769",
        "colab_type": "code",
        "colab": {}
      },
      "source": [
        "def loadGloveModel(gloveFile='data/glove.6B.50d.txt'):\n",
        "    \"\"\" Loads word vectors into a dictionary.\"\"\"\n",
        "    ! wget http://nlp.stanford.edu/data/glove.6B.zip\n",
        "    !unzip glove*.zip\n",
        "    ! mv gl* data\n",
        "\n",
        "    f = open(gloveFile,'r')\n",
        "    words = []\n",
        "    word_vecs = {}\n",
        "    for line in f:\n",
        "        splitLine = line.split()\n",
        "        word = splitLine[0]\n",
        "        words.append(word)\n",
        "        word_vecs[word] = np.array([float(val) for val in splitLine[1:]])\n",
        "    return word_vecs"
      ],
      "execution_count": 41,
      "outputs": []
    },
    {
      "cell_type": "code",
      "metadata": {
        "id": "bwb42vvnZ8Hw",
        "colab_type": "code",
        "colab": {}
      },
      "source": [
        ""
      ],
      "execution_count": 41,
      "outputs": []
    },
    {
      "cell_type": "code",
      "metadata": {
        "id": "AcI10qQjY77C",
        "colab_type": "code",
        "colab": {
          "base_uri": "https://localhost:8080/",
          "height": 442
        },
        "outputId": "554188b6-1162-413f-babc-3d129f24b2c5"
      },
      "source": [
        "glove = loadGloveModel()"
      ],
      "execution_count": 42,
      "outputs": [
        {
          "output_type": "stream",
          "text": [
            "--2020-06-24 03:54:13--  http://nlp.stanford.edu/data/glove.6B.zip\n",
            "Resolving nlp.stanford.edu (nlp.stanford.edu)... 171.64.67.140\n",
            "Connecting to nlp.stanford.edu (nlp.stanford.edu)|171.64.67.140|:80... connected.\n",
            "HTTP request sent, awaiting response... 302 Found\n",
            "Location: https://nlp.stanford.edu/data/glove.6B.zip [following]\n",
            "--2020-06-24 03:54:13--  https://nlp.stanford.edu/data/glove.6B.zip\n",
            "Connecting to nlp.stanford.edu (nlp.stanford.edu)|171.64.67.140|:443... connected.\n",
            "HTTP request sent, awaiting response... 301 Moved Permanently\n",
            "Location: http://downloads.cs.stanford.edu/nlp/data/glove.6B.zip [following]\n",
            "--2020-06-24 03:54:14--  http://downloads.cs.stanford.edu/nlp/data/glove.6B.zip\n",
            "Resolving downloads.cs.stanford.edu (downloads.cs.stanford.edu)... 171.64.64.22\n",
            "Connecting to downloads.cs.stanford.edu (downloads.cs.stanford.edu)|171.64.64.22|:80... connected.\n",
            "HTTP request sent, awaiting response... 200 OK\n",
            "Length: 862182613 (822M) [application/zip]\n",
            "Saving to: ‘glove.6B.zip’\n",
            "\n",
            "glove.6B.zip        100%[===================>] 822.24M  1.96MB/s    in 6m 30s  \n",
            "\n",
            "2020-06-24 04:00:44 (2.11 MB/s) - ‘glove.6B.zip’ saved [862182613/862182613]\n",
            "\n",
            "Archive:  glove.6B.zip\n",
            "  inflating: glove.6B.50d.txt        \n",
            "  inflating: glove.6B.100d.txt       \n",
            "  inflating: glove.6B.200d.txt       \n",
            "  inflating: glove.6B.300d.txt       \n"
          ],
          "name": "stdout"
        }
      ]
    },
    {
      "cell_type": "code",
      "metadata": {
        "id": "rlxPjAdCY77F",
        "colab_type": "code",
        "colab": {}
      },
      "source": [
        "def create_embedding_matrix(word_vecs, vocab2index, emb_size=50):\n",
        "    \"\"\"Creates embedding matrix from word vectors. \"\"\" \n",
        "    V = len(vocab2index.keys())\n",
        "    W = np.random.uniform(-0.25,0.25, (V, emb_size)) # initialize random\n",
        "    # adding a vector for padding\n",
        "    W[0] = np.zeros(emb_size, dtype='float32')\n",
        "    for word, index in vocab2index.items():\n",
        "        if word in word_vecs:\n",
        "            W[index] = word_vecs[word]\n",
        "    return W"
      ],
      "execution_count": 43,
      "outputs": []
    },
    {
      "cell_type": "code",
      "metadata": {
        "id": "gjanBcTlY77H",
        "colab_type": "code",
        "colab": {
          "base_uri": "https://localhost:8080/",
          "height": 34
        },
        "outputId": "b462d99e-c855-40bc-dd41-009cb413953e"
      },
      "source": [
        "max([v for k, v in vocab2idx.items()])"
      ],
      "execution_count": 44,
      "outputs": [
        {
          "output_type": "execute_result",
          "data": {
            "text/plain": [
              "13012"
            ]
          },
          "metadata": {
            "tags": []
          },
          "execution_count": 44
        }
      ]
    },
    {
      "cell_type": "code",
      "metadata": {
        "id": "vZUVYEXLY77K",
        "colab_type": "code",
        "colab": {}
      },
      "source": [
        "W = create_embedding_matrix(glove, vocab2idx)"
      ],
      "execution_count": 45,
      "outputs": []
    },
    {
      "cell_type": "code",
      "metadata": {
        "id": "x6bXs3A6Y77N",
        "colab_type": "code",
        "colab": {}
      },
      "source": [
        "del glove"
      ],
      "execution_count": 46,
      "outputs": []
    },
    {
      "cell_type": "markdown",
      "metadata": {
        "id": "R92_sjF_Y77P",
        "colab_type": "text"
      },
      "source": [
        "## Model"
      ]
    },
    {
      "cell_type": "code",
      "metadata": {
        "id": "9uXMFROwY77P",
        "colab_type": "code",
        "colab": {}
      },
      "source": [
        "class Context_MF_bias(nn.Module):\n",
        "    def __init__(self, num_users, num_places, vocab_size,  emb_size=50, glove_weights=None, bias=True):\n",
        "        super(Context_MF_bias, self).__init__()\n",
        "        self.user_emb = nn.Embedding(num_users, emb_size)\n",
        "        self.place_emb = nn.Embedding(num_places, emb_size)\n",
        "        self.user_emb.weight.data.uniform_(0,0.05)\n",
        "        self.place_emb.weight.data.uniform_(0,0.05)\n",
        "        self.bias = bias\n",
        "        if self.bias:\n",
        "            self.user_bias = nn.Embedding(num_users, 1)\n",
        "            self.place_bias = nn.Embedding(num_places, 1)\n",
        "            self.user_bias.weight.data.uniform_(-0.01,0.01)\n",
        "            self.place_emb.weight.data.uniform_(-0.01,0.01)\n",
        "        \n",
        "        self.embeddings = nn.Embedding(vocab_size, emb_size, padding_idx=0)\n",
        "        if glove_weights is not None:\n",
        "            self.embeddings.weight.data.copy_(torch.from_numpy(glove_weights))\n",
        "            self.embeddings.weight.requires_grad = False ## freeze embeddings\n",
        "        \n",
        "        # input dim and hidden dim must be the same to later combine item vec and review vec\n",
        "        self.gru = nn.GRU(emb_size, emb_size, batch_first=True) \n",
        "        self.dropout = nn.Dropout(0.3)\n",
        "        \n",
        "    def forward(self, u, v, v_review, l):\n",
        "        U = self.user_emb(u)\n",
        "        V = self.place_emb(v)\n",
        "        U, V = self.dropout(U), self.dropout(V)\n",
        "        \n",
        "        emb = self.embeddings(v_review)\n",
        "        emb = self.dropout(emb)\n",
        "        pack1 = pack_padded_sequence(emb, l, batch_first=True, enforce_sorted=False)\n",
        "        _, h1 = self.gru(pack1)\n",
        "        \n",
        "        V_rev = h1[-1]\n",
        "        \n",
        "        V_ = torch.stack([V, V_rev], dim=1) # combines item vector with review vector\n",
        "        V_ = torch.mean(V_, dim=1)   # still dim 50, avg at each dim from item/review vec\n",
        "        \n",
        "        if self.bias:\n",
        "            b_u = self.user_bias(u).squeeze()\n",
        "            b_v = self.place_bias(v).squeeze()\n",
        "            return (U*V_).sum(1) +  b_u  + b_v\n",
        "        \n",
        "        return (U*V_).sum(1)"
      ],
      "execution_count": 47,
      "outputs": []
    },
    {
      "cell_type": "markdown",
      "metadata": {
        "id": "8dqvVMHFY77R",
        "colab_type": "text"
      },
      "source": [
        "## Training Functions"
      ]
    },
    {
      "cell_type": "code",
      "metadata": {
        "id": "7ifR7PeJY77R",
        "colab_type": "code",
        "colab": {}
      },
      "source": [
        "def cosine_segment(start_lr, end_lr, iterations):\n",
        "    i = np.arange(iterations)\n",
        "    c_i = 1 + np.cos(i*np.pi/iterations)\n",
        "    return end_lr + (start_lr - end_lr)/2 *c_i\n",
        "\n",
        "def get_cosine_triangular_lr(max_lr, iterations, div_start=5, div_end=5):\n",
        "    min_start, min_end = max_lr/div_start, max_lr/div_end\n",
        "    iter1 = int(0.3*iterations)\n",
        "    iter2 = iterations - iter1\n",
        "    segs = [cosine_segment(min_start, max_lr, iter1), cosine_segment(max_lr, min_end, iter2)]\n",
        "    return np.concatenate(segs)"
      ],
      "execution_count": 48,
      "outputs": []
    },
    {
      "cell_type": "code",
      "metadata": {
        "id": "5PZlJ_5UY77T",
        "colab_type": "code",
        "colab": {}
      },
      "source": [
        "def set_learning_rate(optimizer, lr):\n",
        "    \"\"\"Changing learning rates without creating a new optimizer\"\"\"\n",
        "    for param_group in optimizer.param_groups:\n",
        "        param_group['lr'] = lr"
      ],
      "execution_count": 49,
      "outputs": []
    },
    {
      "cell_type": "code",
      "metadata": {
        "id": "_EgHC1q1Y77U",
        "colab_type": "code",
        "colab": {}
      },
      "source": [
        "def train_epocs(model, optimzer, train_dl, valid_dl, epochs=10, max_lr=0.01):\n",
        "    iterations = epochs*len(train_dl)\n",
        "    lrs = get_cosine_triangular_lr(max_lr, iterations)\n",
        "    vals = []\n",
        "    for epoch in range(epochs):\n",
        "        model.train()\n",
        "        sum_loss = 0.0\n",
        "        total = 0\n",
        "        i = 0\n",
        "        for u, v, v_rev, l, y in train_dl:\n",
        "            set_learning_rate(optimizer, lrs[i])\n",
        "            users = u.long().cuda()\n",
        "            places = v.long().cuda()\n",
        "            review_vec = v_rev.long().cuda()\n",
        "            ratings = y.float().cuda()\n",
        "            y_hat = model(users, places, review_vec, l)\n",
        "            loss = F.mse_loss(y_hat, ratings)\n",
        "            optimizer.zero_grad()\n",
        "            loss.backward()\n",
        "            optimizer.step()\n",
        "            sum_loss += loss.item()*y.shape[0]\n",
        "            total += y.shape[0]\n",
        "            i += 1\n",
        "        val_loss = val_metrics(model, valid_dl)\n",
        "        vals.append(val_loss)\n",
        "        #if epoch % 10 == 0: \n",
        "        print(f\"train loss {sum_loss/total:.3f} valid loss {val_loss:.3f}\") #valid accuracy {testaccur:.5f}"
      ],
      "execution_count": 50,
      "outputs": []
    },
    {
      "cell_type": "code",
      "metadata": {
        "id": "rWn7CY1uY77W",
        "colab_type": "code",
        "colab": {}
      },
      "source": [
        "def val_metrics(model, valid_dl):\n",
        "    model.eval()\n",
        "    correct = 0\n",
        "    total = 0\n",
        "    sum_loss = 0.0\n",
        "    for u, v, v_rev, l, y in valid_dl:\n",
        "        users = u.long().cuda()\n",
        "        places = v.long().cuda()\n",
        "        review_vec = v_rev.long().cuda()\n",
        "        ratings = y.float().cuda()\n",
        "        y_hat = model(users, places, review_vec, l)\n",
        "        loss = F.mse_loss(y_hat, ratings)\n",
        "        #y_pred = y_hat > 0\n",
        "        #correct += (y_pred.float() == y).float().sum()\n",
        "        total += y.shape[0]\n",
        "        sum_loss += loss.item()*y.shape[0]\n",
        "    return sum_loss/total #, correct/total"
      ],
      "execution_count": 51,
      "outputs": []
    },
    {
      "cell_type": "markdown",
      "metadata": {
        "id": "YyqyiO0pY77X",
        "colab_type": "text"
      },
      "source": [
        "## Train"
      ]
    },
    {
      "cell_type": "code",
      "metadata": {
        "id": "n_-oHI8vY77Y",
        "colab_type": "code",
        "colab": {
          "base_uri": "https://localhost:8080/",
          "height": 34
        },
        "outputId": "c28f83e8-181b-4b5c-f655-d71d68fb5c32"
      },
      "source": [
        "len(train_enc)"
      ],
      "execution_count": 52,
      "outputs": [
        {
          "output_type": "execute_result",
          "data": {
            "text/plain": [
              "97502"
            ]
          },
          "metadata": {
            "tags": []
          },
          "execution_count": 52
        }
      ]
    },
    {
      "cell_type": "code",
      "metadata": {
        "id": "r-uxvVZyY77f",
        "colab_type": "code",
        "colab": {}
      },
      "source": [
        "batch_size = 2_500\n",
        "train_dl = DataLoader(train_ds, batch_size=batch_size, shuffle=True)\n",
        "valid_dl = DataLoader(valid_ds, batch_size=batch_size)"
      ],
      "execution_count": 53,
      "outputs": []
    },
    {
      "cell_type": "code",
      "metadata": {
        "id": "51_RCZHyY77i",
        "colab_type": "code",
        "colab": {
          "base_uri": "https://localhost:8080/",
          "height": 34
        },
        "outputId": "adb65f62-6ee6-48e5-c100-d1cb1f4010eb"
      },
      "source": [
        "num_places, num_users, V = len(train_enc.place.unique()), len(train_enc.user.unique()), len(vocab2idx.keys())\n",
        "num_places, num_users, V"
      ],
      "execution_count": 54,
      "outputs": [
        {
          "output_type": "execute_result",
          "data": {
            "text/plain": [
              "(7231, 6101, 13013)"
            ]
          },
          "metadata": {
            "tags": []
          },
          "execution_count": 54
        }
      ]
    },
    {
      "cell_type": "code",
      "metadata": {
        "id": "dq9gBiJgY77k",
        "colab_type": "code",
        "colab": {}
      },
      "source": [
        "torch.cuda.empty_cache()"
      ],
      "execution_count": 55,
      "outputs": []
    },
    {
      "cell_type": "code",
      "metadata": {
        "id": "0NGx2YPYY77m",
        "colab_type": "code",
        "colab": {}
      },
      "source": [
        "model = Context_MF_bias(num_users, num_places, V, emb_size=50, bias=False).cuda()"
      ],
      "execution_count": 56,
      "outputs": []
    },
    {
      "cell_type": "code",
      "metadata": {
        "id": "XYiijYvMY77o",
        "colab_type": "code",
        "colab": {}
      },
      "source": [
        "optimizer = torch.optim.Adam(model.parameters(), lr=0.01, weight_decay=1e-5)"
      ],
      "execution_count": 57,
      "outputs": []
    },
    {
      "cell_type": "code",
      "metadata": {
        "id": "kRUm2OT3Y77q",
        "colab_type": "code",
        "colab": {
          "base_uri": "https://localhost:8080/",
          "height": 357
        },
        "outputId": "3b44ba8d-2861-47b2-84c5-27382bcaac11"
      },
      "source": [
        "train_epocs(model, optimizer, train_dl, valid_dl, max_lr=0.01, epochs=20)"
      ],
      "execution_count": 58,
      "outputs": [
        {
          "output_type": "stream",
          "text": [
            "train loss 12.527 valid loss 7.136\n",
            "train loss 4.830 valid loss 3.148\n",
            "train loss 2.313 valid loss 1.813\n",
            "train loss 1.427 valid loss 1.244\n",
            "train loss 1.040 valid loss 0.962\n",
            "train loss 0.855 valid loss 0.811\n",
            "train loss 0.756 valid loss 0.730\n",
            "train loss 0.711 valid loss 0.683\n",
            "train loss 0.680 valid loss 0.656\n",
            "train loss 0.663 valid loss 0.639\n",
            "train loss 0.657 valid loss 0.628\n",
            "train loss 0.645 valid loss 0.620\n",
            "train loss 0.641 valid loss 0.616\n",
            "train loss 0.636 valid loss 0.614\n",
            "train loss 0.634 valid loss 0.611\n",
            "train loss 0.627 valid loss 0.609\n",
            "train loss 0.628 valid loss 0.607\n",
            "train loss 0.625 valid loss 0.607\n",
            "train loss 0.627 valid loss 0.605\n",
            "train loss 0.624 valid loss 0.605\n"
          ],
          "name": "stdout"
        }
      ]
    },
    {
      "cell_type": "code",
      "metadata": {
        "id": "xgSTkdrEY77r",
        "colab_type": "code",
        "colab": {
          "base_uri": "https://localhost:8080/",
          "height": 187
        },
        "outputId": "f63fb0a2-e76c-409a-b2a0-3c11949c351a"
      },
      "source": [
        "train_epocs(model, optimizer, train_dl, valid_dl, max_lr=0.001, epochs=10)"
      ],
      "execution_count": 59,
      "outputs": [
        {
          "output_type": "stream",
          "text": [
            "train loss 0.607 valid loss 0.603\n",
            "train loss 0.603 valid loss 0.601\n",
            "train loss 0.604 valid loss 0.599\n",
            "train loss 0.601 valid loss 0.599\n",
            "train loss 0.601 valid loss 0.598\n",
            "train loss 0.600 valid loss 0.597\n",
            "train loss 0.602 valid loss 0.597\n",
            "train loss 0.600 valid loss 0.596\n",
            "train loss 0.602 valid loss 0.596\n",
            "train loss 0.600 valid loss 0.596\n"
          ],
          "name": "stdout"
        }
      ]
    },
    {
      "cell_type": "code",
      "metadata": {
        "id": "TiuWnrcwY77t",
        "colab_type": "code",
        "colab": {}
      },
      "source": [
        ""
      ],
      "execution_count": 59,
      "outputs": []
    }
  ]
}