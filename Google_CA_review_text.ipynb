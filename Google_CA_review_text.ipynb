{
 "cells": [
  {
   "cell_type": "code",
   "execution_count": 1,
   "metadata": {},
   "outputs": [],
   "source": [
    "from pathlib import Path\n",
    "import pandas as pd\n",
    "pd.options.mode.chained_assignment = None\n",
    "import numpy as np\n",
    "\n",
    "import torch\n",
    "import torch.nn as nn\n",
    "import torch.nn.functional as F\n",
    "from torch.utils.data import Dataset, DataLoader\n",
    "from torch.nn.utils.rnn import pack_padded_sequence\n",
    "\n",
    "from sklearn.model_selection import train_test_split\n",
    "from collections import Counter"
   ]
  },
  {
   "cell_type": "code",
   "execution_count": 2,
   "metadata": {},
   "outputs": [],
   "source": [
    "import gzip\n",
    "import json\n",
    "import io\n",
    "\n",
    "def readGz(fname):\n",
    "    gz = gzip.open(fname, 'rb')\n",
    "    f = io.BufferedReader(gz)\n",
    "    data = []\n",
    "        \n",
    "    for l in f.readlines():\n",
    "        data.append(eval(l))\n",
    "        \n",
    "    gz.close()\n",
    "    return data"
   ]
  },
  {
   "cell_type": "code",
   "execution_count": 3,
   "metadata": {},
   "outputs": [],
   "source": [
    "ca5 = readGz('data/CA_5.json.gz')"
   ]
  },
  {
   "cell_type": "code",
   "execution_count": 4,
   "metadata": {},
   "outputs": [],
   "source": [
    "data = pd.DataFrame(ca5)"
   ]
  },
  {
   "cell_type": "code",
   "execution_count": 5,
   "metadata": {},
   "outputs": [],
   "source": [
    "del ca5"
   ]
  },
  {
   "cell_type": "code",
   "execution_count": 6,
   "metadata": {},
   "outputs": [
    {
     "data": {
      "text/plain": [
       "(163408, 8)"
      ]
     },
     "execution_count": 6,
     "metadata": {},
     "output_type": "execute_result"
    }
   ],
   "source": [
    "data.shape"
   ]
  },
  {
   "cell_type": "code",
   "execution_count": 7,
   "metadata": {},
   "outputs": [
    {
     "data": {
      "text/html": [
       "<div>\n",
       "<style scoped>\n",
       "    .dataframe tbody tr th:only-of-type {\n",
       "        vertical-align: middle;\n",
       "    }\n",
       "\n",
       "    .dataframe tbody tr th {\n",
       "        vertical-align: top;\n",
       "    }\n",
       "\n",
       "    .dataframe thead th {\n",
       "        text-align: right;\n",
       "    }\n",
       "</style>\n",
       "<table border=\"1\" class=\"dataframe\">\n",
       "  <thead>\n",
       "    <tr style=\"text-align: right;\">\n",
       "      <th></th>\n",
       "      <th>rating</th>\n",
       "      <th>reviewerName</th>\n",
       "      <th>reviewText</th>\n",
       "      <th>categories</th>\n",
       "      <th>gPlusPlaceId</th>\n",
       "      <th>unixReviewTime</th>\n",
       "      <th>reviewTime</th>\n",
       "      <th>gPlusUserId</th>\n",
       "    </tr>\n",
       "  </thead>\n",
       "  <tbody>\n",
       "    <tr>\n",
       "      <th>0</th>\n",
       "      <td>4.0</td>\n",
       "      <td>Mary Gainza</td>\n",
       "      <td>Gap always has a jean that fits awesomely, i w...</td>\n",
       "      <td>[Clothing Store, Women's Clothing Store, Child...</td>\n",
       "      <td>100556368174926958612</td>\n",
       "      <td>1.355437e+09</td>\n",
       "      <td>Dec 13, 2012</td>\n",
       "      <td>100000715097692381911</td>\n",
       "    </tr>\n",
       "    <tr>\n",
       "      <th>1</th>\n",
       "      <td>4.0</td>\n",
       "      <td>Mary Gainza</td>\n",
       "      <td>Madewell girls are always nice and smiley, i r...</td>\n",
       "      <td>[Women's Clothing Store]</td>\n",
       "      <td>101139208042040218757</td>\n",
       "      <td>1.355437e+09</td>\n",
       "      <td>Dec 13, 2012</td>\n",
       "      <td>100000715097692381911</td>\n",
       "    </tr>\n",
       "    <tr>\n",
       "      <th>2</th>\n",
       "      <td>4.0</td>\n",
       "      <td>Mary Gainza</td>\n",
       "      <td>I like the wide range macy's has in their stor...</td>\n",
       "      <td>[Department Store, Men's Clothing Store]</td>\n",
       "      <td>103732895939896117386</td>\n",
       "      <td>1.355437e+09</td>\n",
       "      <td>Dec 13, 2012</td>\n",
       "      <td>100000715097692381911</td>\n",
       "    </tr>\n",
       "    <tr>\n",
       "      <th>3</th>\n",
       "      <td>5.0</td>\n",
       "      <td>Mary Gainza</td>\n",
       "      <td>I love the guys that work at this store, they ...</td>\n",
       "      <td>[Juice Shop]</td>\n",
       "      <td>105777991601449500815</td>\n",
       "      <td>1.355437e+09</td>\n",
       "      <td>Dec 13, 2012</td>\n",
       "      <td>100000715097692381911</td>\n",
       "    </tr>\n",
       "    <tr>\n",
       "      <th>4</th>\n",
       "      <td>5.0</td>\n",
       "      <td>Mary Gainza</td>\n",
       "      <td>I love Specialty's they have the best semi-swe...</td>\n",
       "      <td>[Cafe]</td>\n",
       "      <td>109907393708736192804</td>\n",
       "      <td>1.355437e+09</td>\n",
       "      <td>Dec 13, 2012</td>\n",
       "      <td>100000715097692381911</td>\n",
       "    </tr>\n",
       "  </tbody>\n",
       "</table>\n",
       "</div>"
      ],
      "text/plain": [
       "   rating reviewerName                                         reviewText  \\\n",
       "0     4.0  Mary Gainza  Gap always has a jean that fits awesomely, i w...   \n",
       "1     4.0  Mary Gainza  Madewell girls are always nice and smiley, i r...   \n",
       "2     4.0  Mary Gainza  I like the wide range macy's has in their stor...   \n",
       "3     5.0  Mary Gainza  I love the guys that work at this store, they ...   \n",
       "4     5.0  Mary Gainza  I love Specialty's they have the best semi-swe...   \n",
       "\n",
       "                                          categories           gPlusPlaceId  \\\n",
       "0  [Clothing Store, Women's Clothing Store, Child...  100556368174926958612   \n",
       "1                           [Women's Clothing Store]  101139208042040218757   \n",
       "2           [Department Store, Men's Clothing Store]  103732895939896117386   \n",
       "3                                       [Juice Shop]  105777991601449500815   \n",
       "4                                             [Cafe]  109907393708736192804   \n",
       "\n",
       "   unixReviewTime    reviewTime            gPlusUserId  \n",
       "0    1.355437e+09  Dec 13, 2012  100000715097692381911  \n",
       "1    1.355437e+09  Dec 13, 2012  100000715097692381911  \n",
       "2    1.355437e+09  Dec 13, 2012  100000715097692381911  \n",
       "3    1.355437e+09  Dec 13, 2012  100000715097692381911  \n",
       "4    1.355437e+09  Dec 13, 2012  100000715097692381911  "
      ]
     },
     "execution_count": 7,
     "metadata": {},
     "output_type": "execute_result"
    }
   ],
   "source": [
    "data.head()"
   ]
  },
  {
   "cell_type": "code",
   "execution_count": 8,
   "metadata": {},
   "outputs": [],
   "source": [
    "# now use user, item, reviewText & ratings\n",
    "df = data[['gPlusPlaceId', 'gPlusUserId', 'reviewText', 'rating']]\n",
    "df.columns = ['place', 'user', 'review', 'rating']"
   ]
  },
  {
   "cell_type": "code",
   "execution_count": 9,
   "metadata": {},
   "outputs": [],
   "source": [
    "del data"
   ]
  },
  {
   "cell_type": "code",
   "execution_count": 10,
   "metadata": {},
   "outputs": [
    {
     "data": {
      "text/html": [
       "<div>\n",
       "<style scoped>\n",
       "    .dataframe tbody tr th:only-of-type {\n",
       "        vertical-align: middle;\n",
       "    }\n",
       "\n",
       "    .dataframe tbody tr th {\n",
       "        vertical-align: top;\n",
       "    }\n",
       "\n",
       "    .dataframe thead th {\n",
       "        text-align: right;\n",
       "    }\n",
       "</style>\n",
       "<table border=\"1\" class=\"dataframe\">\n",
       "  <thead>\n",
       "    <tr style=\"text-align: right;\">\n",
       "      <th></th>\n",
       "      <th>place</th>\n",
       "      <th>user</th>\n",
       "      <th>review</th>\n",
       "      <th>rating</th>\n",
       "    </tr>\n",
       "  </thead>\n",
       "  <tbody>\n",
       "    <tr>\n",
       "      <th>0</th>\n",
       "      <td>100556368174926958612</td>\n",
       "      <td>100000715097692381911</td>\n",
       "      <td>Gap always has a jean that fits awesomely, i w...</td>\n",
       "      <td>4.0</td>\n",
       "    </tr>\n",
       "    <tr>\n",
       "      <th>1</th>\n",
       "      <td>101139208042040218757</td>\n",
       "      <td>100000715097692381911</td>\n",
       "      <td>Madewell girls are always nice and smiley, i r...</td>\n",
       "      <td>4.0</td>\n",
       "    </tr>\n",
       "    <tr>\n",
       "      <th>2</th>\n",
       "      <td>103732895939896117386</td>\n",
       "      <td>100000715097692381911</td>\n",
       "      <td>I like the wide range macy's has in their stor...</td>\n",
       "      <td>4.0</td>\n",
       "    </tr>\n",
       "    <tr>\n",
       "      <th>3</th>\n",
       "      <td>105777991601449500815</td>\n",
       "      <td>100000715097692381911</td>\n",
       "      <td>I love the guys that work at this store, they ...</td>\n",
       "      <td>5.0</td>\n",
       "    </tr>\n",
       "    <tr>\n",
       "      <th>4</th>\n",
       "      <td>109907393708736192804</td>\n",
       "      <td>100000715097692381911</td>\n",
       "      <td>I love Specialty's they have the best semi-swe...</td>\n",
       "      <td>5.0</td>\n",
       "    </tr>\n",
       "  </tbody>\n",
       "</table>\n",
       "</div>"
      ],
      "text/plain": [
       "                   place                   user  \\\n",
       "0  100556368174926958612  100000715097692381911   \n",
       "1  101139208042040218757  100000715097692381911   \n",
       "2  103732895939896117386  100000715097692381911   \n",
       "3  105777991601449500815  100000715097692381911   \n",
       "4  109907393708736192804  100000715097692381911   \n",
       "\n",
       "                                              review  rating  \n",
       "0  Gap always has a jean that fits awesomely, i w...     4.0  \n",
       "1  Madewell girls are always nice and smiley, i r...     4.0  \n",
       "2  I like the wide range macy's has in their stor...     4.0  \n",
       "3  I love the guys that work at this store, they ...     5.0  \n",
       "4  I love Specialty's they have the best semi-swe...     5.0  "
      ]
     },
     "execution_count": 10,
     "metadata": {},
     "output_type": "execute_result"
    }
   ],
   "source": [
    "df.head()"
   ]
  },
  {
   "cell_type": "markdown",
   "metadata": {},
   "source": [
    "## Split Train/Validation"
   ]
  },
  {
   "cell_type": "code",
   "execution_count": 11,
   "metadata": {},
   "outputs": [
    {
     "data": {
      "text/plain": [
       "((130726, 4), (32682, 4))"
      ]
     },
     "execution_count": 11,
     "metadata": {},
     "output_type": "execute_result"
    }
   ],
   "source": [
    "train, val = train_test_split(df, test_size=0.2)\n",
    "train.shape, val.shape"
   ]
  },
  {
   "cell_type": "code",
   "execution_count": 12,
   "metadata": {},
   "outputs": [],
   "source": [
    "del df"
   ]
  },
  {
   "cell_type": "markdown",
   "metadata": {},
   "source": [
    "## Encode Places and Users"
   ]
  },
  {
   "cell_type": "code",
   "execution_count": 13,
   "metadata": {},
   "outputs": [],
   "source": [
    "def encode_cols(train, val, cols):\n",
    "    for col in cols:\n",
    "        uniq = train[col].unique()\n",
    "        col2idx = {val: i for i, val in enumerate(uniq)}\n",
    "        train[col] = train[col].apply(lambda x: col2idx.get(x, -1))\n",
    "        val[col] = val[col].apply(lambda x: col2idx.get(x, -1))\n",
    "        val = val.loc[val[col] >= 0] \n",
    "    return train, val"
   ]
  },
  {
   "cell_type": "code",
   "execution_count": 14,
   "metadata": {},
   "outputs": [],
   "source": [
    "train_enc, val_enc = encode_cols(train, val, ['place', 'user'])"
   ]
  },
  {
   "cell_type": "code",
   "execution_count": 15,
   "metadata": {},
   "outputs": [
    {
     "data": {
      "text/plain": [
       "(9177, 10477)"
      ]
     },
     "execution_count": 15,
     "metadata": {},
     "output_type": "execute_result"
    }
   ],
   "source": [
    "len(train_enc.user.unique()), len(train_enc.place.unique())"
   ]
  },
  {
   "cell_type": "code",
   "execution_count": 16,
   "metadata": {},
   "outputs": [
    {
     "data": {
      "text/html": [
       "<div>\n",
       "<style scoped>\n",
       "    .dataframe tbody tr th:only-of-type {\n",
       "        vertical-align: middle;\n",
       "    }\n",
       "\n",
       "    .dataframe tbody tr th {\n",
       "        vertical-align: top;\n",
       "    }\n",
       "\n",
       "    .dataframe thead th {\n",
       "        text-align: right;\n",
       "    }\n",
       "</style>\n",
       "<table border=\"1\" class=\"dataframe\">\n",
       "  <thead>\n",
       "    <tr style=\"text-align: right;\">\n",
       "      <th></th>\n",
       "      <th>place</th>\n",
       "      <th>user</th>\n",
       "      <th>review</th>\n",
       "      <th>rating</th>\n",
       "    </tr>\n",
       "  </thead>\n",
       "  <tbody>\n",
       "    <tr>\n",
       "      <th>83341</th>\n",
       "      <td>0</td>\n",
       "      <td>0</td>\n",
       "      <td>the best british pub in la</td>\n",
       "      <td>4.0</td>\n",
       "    </tr>\n",
       "    <tr>\n",
       "      <th>12398</th>\n",
       "      <td>1</td>\n",
       "      <td>1</td>\n",
       "      <td>None</td>\n",
       "      <td>5.0</td>\n",
       "    </tr>\n",
       "    <tr>\n",
       "      <th>41876</th>\n",
       "      <td>2</td>\n",
       "      <td>2</td>\n",
       "      <td>None</td>\n",
       "      <td>4.0</td>\n",
       "    </tr>\n",
       "    <tr>\n",
       "      <th>139598</th>\n",
       "      <td>3</td>\n",
       "      <td>3</td>\n",
       "      <td>Can you say unlimiited soup, salad and breadst...</td>\n",
       "      <td>4.0</td>\n",
       "    </tr>\n",
       "    <tr>\n",
       "      <th>72156</th>\n",
       "      <td>4</td>\n",
       "      <td>4</td>\n",
       "      <td>None</td>\n",
       "      <td>4.0</td>\n",
       "    </tr>\n",
       "  </tbody>\n",
       "</table>\n",
       "</div>"
      ],
      "text/plain": [
       "        place  user                                             review  rating\n",
       "83341       0     0                         the best british pub in la     4.0\n",
       "12398       1     1                                               None     5.0\n",
       "41876       2     2                                               None     4.0\n",
       "139598      3     3  Can you say unlimiited soup, salad and breadst...     4.0\n",
       "72156       4     4                                               None     4.0"
      ]
     },
     "execution_count": 16,
     "metadata": {},
     "output_type": "execute_result"
    }
   ],
   "source": [
    "train_enc.head()"
   ]
  },
  {
   "cell_type": "markdown",
   "metadata": {},
   "source": [
    "## Get text from reviews, create vocab"
   ]
  },
  {
   "cell_type": "code",
   "execution_count": 17,
   "metadata": {},
   "outputs": [],
   "source": [
    "place_reviews = train_enc.groupby('place').review.apply(list)"
   ]
  },
  {
   "cell_type": "code",
   "execution_count": 18,
   "metadata": {},
   "outputs": [
    {
     "data": {
      "text/plain": [
       "(10477, 10232)"
      ]
     },
     "execution_count": 18,
     "metadata": {},
     "output_type": "execute_result"
    }
   ],
   "source": [
    "len(place_reviews), sum([any(review_list) for review_list in place_reviews.values])"
   ]
  },
  {
   "cell_type": "code",
   "execution_count": 19,
   "metadata": {},
   "outputs": [],
   "source": [
    "# 261 places without any reviews our ot 10476"
   ]
  },
  {
   "cell_type": "code",
   "execution_count": 20,
   "metadata": {},
   "outputs": [],
   "source": [
    "place_reviews = place_reviews.apply(lambda x: ' '.join([rev for rev in x if rev is not None]))"
   ]
  },
  {
   "cell_type": "code",
   "execution_count": 21,
   "metadata": {},
   "outputs": [
    {
     "data": {
      "text/plain": [
       "place\n",
       "0    the best british pub in la Good pub Great pub ...\n",
       "1    What an amazing view of the City!  I brought m...\n",
       "Name: review, dtype: object"
      ]
     },
     "execution_count": 21,
     "metadata": {},
     "output_type": "execute_result"
    }
   ],
   "source": [
    "place_reviews.head(2)"
   ]
  },
  {
   "cell_type": "code",
   "execution_count": 22,
   "metadata": {},
   "outputs": [],
   "source": [
    "import re"
   ]
  },
  {
   "cell_type": "code",
   "execution_count": 23,
   "metadata": {},
   "outputs": [],
   "source": [
    "def tok(text):\n",
    "    reg = re.findall(r\"[\\w']+|[.,!?;]\", text, re.UNICODE)\n",
    "    return [w.lower() for w in reg]"
   ]
  },
  {
   "cell_type": "code",
   "execution_count": 24,
   "metadata": {},
   "outputs": [
    {
     "data": {
      "text/plain": [
       "['the',\n",
       " 'best',\n",
       " 'british',\n",
       " 'pub',\n",
       " 'in',\n",
       " 'la',\n",
       " 'good',\n",
       " 'pub',\n",
       " 'great',\n",
       " 'pub',\n",
       " 'experience',\n",
       " '.',\n",
       " 'its',\n",
       " 'open',\n",
       " ',',\n",
       " 'friendly',\n",
       " 'and',\n",
       " 'never',\n",
       " 'crowded',\n",
       " '.']"
      ]
     },
     "execution_count": 24,
     "metadata": {},
     "output_type": "execute_result"
    }
   ],
   "source": [
    "tok(place_reviews.iloc[0])[:20]"
   ]
  },
  {
   "cell_type": "code",
   "execution_count": 25,
   "metadata": {},
   "outputs": [],
   "source": [
    "all_vocab = [word for review in place_reviews.values for word in tok(review)]"
   ]
  },
  {
   "cell_type": "code",
   "execution_count": 26,
   "metadata": {},
   "outputs": [
    {
     "data": {
      "text/plain": [
       "2993907"
      ]
     },
     "execution_count": 26,
     "metadata": {},
     "output_type": "execute_result"
    }
   ],
   "source": [
    "len(all_vocab)"
   ]
  },
  {
   "cell_type": "code",
   "execution_count": 27,
   "metadata": {},
   "outputs": [
    {
     "data": {
      "text/plain": [
       "45623"
      ]
     },
     "execution_count": 27,
     "metadata": {},
     "output_type": "execute_result"
    }
   ],
   "source": [
    "word_cts = Counter(all_vocab)\n",
    "len(word_cts)"
   ]
  },
  {
   "cell_type": "code",
   "execution_count": 28,
   "metadata": {},
   "outputs": [],
   "source": [
    "del all_vocab"
   ]
  },
  {
   "cell_type": "code",
   "execution_count": 29,
   "metadata": {},
   "outputs": [],
   "source": [
    "common = {k:v for k, v in word_cts.items() if v >= 5}\n",
    "vocab2idx = {'<PAD>': 0, 'UNK': 1}\n",
    "\n",
    "for i, (word, ct) in enumerate(common.items()):\n",
    "    if ct >= 5:\n",
    "        vocab2idx[word] = i + 2"
   ]
  },
  {
   "cell_type": "code",
   "execution_count": 30,
   "metadata": {},
   "outputs": [],
   "source": [
    "del word_cts, common"
   ]
  },
  {
   "cell_type": "code",
   "execution_count": 31,
   "metadata": {},
   "outputs": [
    {
     "data": {
      "text/plain": [
       "13049"
      ]
     },
     "execution_count": 31,
     "metadata": {},
     "output_type": "execute_result"
    }
   ],
   "source": [
    "len(vocab2idx)"
   ]
  },
  {
   "cell_type": "markdown",
   "metadata": {},
   "source": [
    "## Review to Vector"
   ]
  },
  {
   "cell_type": "code",
   "execution_count": 32,
   "metadata": {},
   "outputs": [],
   "source": [
    "place_reviews_tok = [tok(review) for review in place_reviews.values]"
   ]
  },
  {
   "cell_type": "code",
   "execution_count": 33,
   "metadata": {},
   "outputs": [
    {
     "data": {
      "text/plain": [
       "6237"
      ]
     },
     "execution_count": 33,
     "metadata": {},
     "output_type": "execute_result"
    }
   ],
   "source": [
    "lens = [len(rev) for rev in place_reviews_tok]\n",
    "max(lens)"
   ]
  },
  {
   "cell_type": "code",
   "execution_count": 34,
   "metadata": {},
   "outputs": [],
   "source": [
    "del lens"
   ]
  },
  {
   "cell_type": "code",
   "execution_count": 35,
   "metadata": {},
   "outputs": [],
   "source": [
    "def encode_review(review, N=6412):\n",
    "    enc1 = np.array([vocab2idx.get(w, vocab2idx[\"UNK\"]) for w in review])\n",
    "    enc = np.zeros(N, dtype=np.int32)\n",
    "    l = min(N, len(review))\n",
    "    enc[:l] = enc1[:l]\n",
    "    if l == 0:\n",
    "        l=1\n",
    "    return enc, l"
   ]
  },
  {
   "cell_type": "code",
   "execution_count": 36,
   "metadata": {},
   "outputs": [
    {
     "data": {
      "text/plain": [
       "(array([2, 3, 4, ..., 0, 0, 0], dtype=int32), 191)"
      ]
     },
     "execution_count": 36,
     "metadata": {},
     "output_type": "execute_result"
    }
   ],
   "source": [
    "encode_review(place_reviews_tok[0])"
   ]
  },
  {
   "cell_type": "markdown",
   "metadata": {},
   "source": [
    "## Dataset and Data Loader"
   ]
  },
  {
   "cell_type": "code",
   "execution_count": 37,
   "metadata": {},
   "outputs": [],
   "source": [
    "class GoogleDataset(Dataset):\n",
    "    def __init__(self, X, y, reviews):\n",
    "        self.user = X.user.values\n",
    "        self.place = X.place.values\n",
    "        self.y = y\n",
    "        self.reviews = reviews\n",
    "        \n",
    "    def __len__(self):\n",
    "        return len(self.y)\n",
    "    \n",
    "    def __getitem__(self, idx):\n",
    "        user = self.user[idx]\n",
    "        place = self.place[idx]\n",
    "        review_vec, l = encode_review(self.reviews[place])\n",
    "        return user, place, review_vec, l, self.y[idx]"
   ]
  },
  {
   "cell_type": "code",
   "execution_count": 38,
   "metadata": {},
   "outputs": [],
   "source": [
    "train_ds = GoogleDataset(train_enc[['place', 'user']], train_enc.rating.values, place_reviews_tok)\n",
    "valid_ds = GoogleDataset(val_enc[['place', 'user']], val_enc.rating.values, place_reviews_tok)"
   ]
  },
  {
   "cell_type": "code",
   "execution_count": 39,
   "metadata": {},
   "outputs": [
    {
     "data": {
      "text/plain": [
       "(0, 0, array([2, 3, 4, ..., 0, 0, 0], dtype=int32), 191, 4.0)"
      ]
     },
     "execution_count": 39,
     "metadata": {},
     "output_type": "execute_result"
    }
   ],
   "source": [
    "next(iter(train_ds))"
   ]
  },
  {
   "cell_type": "markdown",
   "metadata": {},
   "source": [
    "## Load Pre-Trained Glove"
   ]
  },
  {
   "cell_type": "code",
   "execution_count": 40,
   "metadata": {},
   "outputs": [],
   "source": [
    "def loadGloveModel(gloveFile='data/glove.6B.50d.txt'):\n",
    "    \"\"\" Loads word vectors into a dictionary.\"\"\"\n",
    "    f = open(gloveFile,'r')\n",
    "    words = []\n",
    "    word_vecs = {}\n",
    "    for line in f:\n",
    "        splitLine = line.split()\n",
    "        word = splitLine[0]\n",
    "        words.append(word)\n",
    "        word_vecs[word] = np.array([float(val) for val in splitLine[1:]])\n",
    "    return word_vecs"
   ]
  },
  {
   "cell_type": "code",
   "execution_count": 41,
   "metadata": {},
   "outputs": [],
   "source": [
    "glove = loadGloveModel()"
   ]
  },
  {
   "cell_type": "code",
   "execution_count": 42,
   "metadata": {},
   "outputs": [],
   "source": [
    "def create_embedding_matrix(word_vecs, vocab2index, emb_size=50):\n",
    "    \"\"\"Creates embedding matrix from word vectors. \"\"\" \n",
    "    V = len(vocab2index.keys())\n",
    "    W = np.random.uniform(-0.25,0.25, (V, emb_size)) # initialize random\n",
    "    # adding a vector for padding\n",
    "    W[0] = np.zeros(emb_size, dtype='float32')\n",
    "    for word, index in vocab2index.items():\n",
    "        if word in word_vecs:\n",
    "            W[index] = word_vecs[word]\n",
    "    return W"
   ]
  },
  {
   "cell_type": "code",
   "execution_count": 43,
   "metadata": {},
   "outputs": [
    {
     "data": {
      "text/plain": [
       "13048"
      ]
     },
     "execution_count": 43,
     "metadata": {},
     "output_type": "execute_result"
    }
   ],
   "source": [
    "max([v for k, v in vocab2idx.items()])"
   ]
  },
  {
   "cell_type": "code",
   "execution_count": 44,
   "metadata": {},
   "outputs": [],
   "source": [
    "W = create_embedding_matrix(glove, vocab2idx)"
   ]
  },
  {
   "cell_type": "code",
   "execution_count": 45,
   "metadata": {},
   "outputs": [],
   "source": [
    "del glove"
   ]
  },
  {
   "cell_type": "markdown",
   "metadata": {},
   "source": [
    "## Model"
   ]
  },
  {
   "cell_type": "code",
   "execution_count": 46,
   "metadata": {},
   "outputs": [],
   "source": [
    "class Context_MF_bias(nn.Module):\n",
    "    def __init__(self, num_users, num_places, vocab_size,  emb_size=50, glove_weights=None, bias=True):\n",
    "        super(Context_MF_bias, self).__init__()\n",
    "        self.user_emb = nn.Embedding(num_users, emb_size)\n",
    "        self.place_emb = nn.Embedding(num_places, emb_size)\n",
    "        self.user_emb.weight.data.uniform_(0,0.05)\n",
    "        self.place_emb.weight.data.uniform_(0,0.05)\n",
    "        self.bias = bias\n",
    "        if self.bias:\n",
    "            self.user_bias = nn.Embedding(num_users, 1)\n",
    "            self.place_bias = nn.Embedding(num_places, 1)\n",
    "            self.user_bias.weight.data.uniform_(-0.01,0.01)\n",
    "            self.place_emb.weight.data.uniform_(-0.01,0.01)\n",
    "        \n",
    "        self.embeddings = nn.Embedding(vocab_size, emb_size, padding_idx=0)\n",
    "        if glove_weights is not None:\n",
    "            self.embeddings.weight.data.copy_(torch.from_numpy(glove_weights))\n",
    "            self.embeddings.weight.requires_grad = False ## freeze embeddings\n",
    "        \n",
    "        # input dim and hidden dim must be the same to later combine item vec and review vec\n",
    "        self.gru = nn.GRU(emb_size, emb_size, batch_first=True) \n",
    "        self.dropout = nn.Dropout(0.3)\n",
    "        \n",
    "    def forward(self, u, v, v_review, l):\n",
    "        U = self.user_emb(u)\n",
    "        V = self.place_emb(v)\n",
    "        U, V = self.dropout(U), self.dropout(V)\n",
    "        \n",
    "        emb = self.embeddings(v_review)\n",
    "        emb = self.dropout(emb)\n",
    "        pack1 = pack_padded_sequence(emb, l, batch_first=True, enforce_sorted=False)\n",
    "        _, h1 = self.gru(pack1)\n",
    "        \n",
    "        V_rev = h1[-1]\n",
    "        \n",
    "        V_ = torch.stack([V, V_rev], dim=1) # combines item vector with review vector\n",
    "        V_ = torch.mean(V_, dim=1)   # still dim 50, avg at each dim from item/review vec\n",
    "        \n",
    "        if self.bias:\n",
    "            b_u = self.user_bias(u).squeeze()\n",
    "            b_v = self.place_bias(v).squeeze()\n",
    "            return (U*V_).sum(1) +  b_u  + b_v\n",
    "        \n",
    "        return (U*V_).sum(1)"
   ]
  },
  {
   "cell_type": "markdown",
   "metadata": {},
   "source": [
    "## Training Functions"
   ]
  },
  {
   "cell_type": "code",
   "execution_count": 47,
   "metadata": {},
   "outputs": [],
   "source": [
    "def cosine_segment(start_lr, end_lr, iterations):\n",
    "    i = np.arange(iterations)\n",
    "    c_i = 1 + np.cos(i*np.pi/iterations)\n",
    "    return end_lr + (start_lr - end_lr)/2 *c_i\n",
    "\n",
    "def get_cosine_triangular_lr(max_lr, iterations, div_start=5, div_end=5):\n",
    "    min_start, min_end = max_lr/div_start, max_lr/div_end\n",
    "    iter1 = int(0.3*iterations)\n",
    "    iter2 = iterations - iter1\n",
    "    segs = [cosine_segment(min_start, max_lr, iter1), cosine_segment(max_lr, min_end, iter2)]\n",
    "    return np.concatenate(segs)"
   ]
  },
  {
   "cell_type": "code",
   "execution_count": 48,
   "metadata": {},
   "outputs": [],
   "source": [
    "def set_learning_rate(optimizer, lr):\n",
    "    \"\"\"Changing learning rates without creating a new optimizer\"\"\"\n",
    "    for param_group in optimizer.param_groups:\n",
    "        param_group['lr'] = lr"
   ]
  },
  {
   "cell_type": "code",
   "execution_count": 49,
   "metadata": {},
   "outputs": [],
   "source": [
    "def train_epocs(model, optimzer, train_dl, valid_dl, epochs=10, max_lr=0.01):\n",
    "    iterations = epochs*len(train_dl)\n",
    "    lrs = get_cosine_triangular_lr(max_lr, iterations)\n",
    "    vals = []\n",
    "    for epoch in range(epochs):\n",
    "        model.train()\n",
    "        sum_loss = 0.0\n",
    "        total = 0\n",
    "        i = 0\n",
    "        for u, v, v_rev, l, y in train_dl:\n",
    "            set_learning_rate(optimizer, lrs[i])\n",
    "            users = u.long().cuda()\n",
    "            places = v.long().cuda()\n",
    "            review_vec = v_rev.long().cuda()\n",
    "            ratings = y.float().cuda()\n",
    "            y_hat = model(users, places, review_vec, l)\n",
    "            loss = F.mse_loss(y_hat, ratings)\n",
    "            optimizer.zero_grad()\n",
    "            loss.backward()\n",
    "            optimizer.step()\n",
    "            sum_loss += loss.item()*y.shape[0]\n",
    "            total += y.shape[0]\n",
    "            i += 1\n",
    "        val_loss = val_metrics(model, valid_dl)\n",
    "        vals.append(val_loss)\n",
    "        #if epoch % 10 == 0: \n",
    "        print(f\"train loss {sum_loss/total:.3f} valid loss {val_loss:.3f}\") #valid accuracy {testaccur:.5f}"
   ]
  },
  {
   "cell_type": "code",
   "execution_count": 50,
   "metadata": {},
   "outputs": [],
   "source": [
    "def val_metrics(model, valid_dl):\n",
    "    model.eval()\n",
    "    correct = 0\n",
    "    total = 0\n",
    "    sum_loss = 0.0\n",
    "    for u, v, v_rev, l, y in valid_dl:\n",
    "        users = u.long().cuda()\n",
    "        places = v.long().cuda()\n",
    "        review_vec = v_rev.long().cuda()\n",
    "        ratings = y.float().cuda()\n",
    "        y_hat = model(users, places, review_vec, l)\n",
    "        loss = F.mse_loss(y_hat, ratings)\n",
    "        #y_pred = y_hat > 0\n",
    "        #correct += (y_pred.float() == y).float().sum()\n",
    "        total += y.shape[0]\n",
    "        sum_loss += loss.item()*y.shape[0]\n",
    "    return sum_loss/total #, correct/total"
   ]
  },
  {
   "cell_type": "markdown",
   "metadata": {},
   "source": [
    "## Train"
   ]
  },
  {
   "cell_type": "code",
   "execution_count": 51,
   "metadata": {},
   "outputs": [
    {
     "data": {
      "text/plain": [
       "130726"
      ]
     },
     "execution_count": 51,
     "metadata": {},
     "output_type": "execute_result"
    }
   ],
   "source": [
    "len(train_enc)"
   ]
  },
  {
   "cell_type": "code",
   "execution_count": 52,
   "metadata": {},
   "outputs": [],
   "source": [
    "batch_size = 2_500\n",
    "train_dl = DataLoader(train_ds, batch_size=batch_size, shuffle=True)\n",
    "valid_dl = DataLoader(valid_ds, batch_size=batch_size)"
   ]
  },
  {
   "cell_type": "code",
   "execution_count": 53,
   "metadata": {},
   "outputs": [
    {
     "data": {
      "text/plain": [
       "(10477, 9177, 13049)"
      ]
     },
     "execution_count": 53,
     "metadata": {},
     "output_type": "execute_result"
    }
   ],
   "source": [
    "num_places, num_users, V = len(train_enc.place.unique()), len(train_enc.user.unique()), len(vocab2idx.keys())\n",
    "num_places, num_users, V"
   ]
  },
  {
   "cell_type": "code",
   "execution_count": 54,
   "metadata": {},
   "outputs": [],
   "source": [
    "torch.cuda.empty_cache()"
   ]
  },
  {
   "cell_type": "code",
   "execution_count": 55,
   "metadata": {},
   "outputs": [],
   "source": [
    "model = Context_MF_bias(num_users, num_places, V, emb_size=50, bias=False).cuda()"
   ]
  },
  {
   "cell_type": "code",
   "execution_count": 56,
   "metadata": {},
   "outputs": [],
   "source": [
    "optimizer = torch.optim.Adam(model.parameters(), lr=0.01, weight_decay=1e-5)"
   ]
  },
  {
   "cell_type": "code",
   "execution_count": null,
   "metadata": {},
   "outputs": [
    {
     "name": "stdout",
     "output_type": "stream",
     "text": [
      "train loss 11.897 valid loss 6.826\n",
      "train loss 4.623 valid loss 3.264\n",
      "train loss 2.355 valid loss 1.969\n",
      "train loss 1.481 valid loss 1.379\n",
      "train loss 1.092 valid loss 1.082\n"
     ]
    }
   ],
   "source": [
    "train_epocs(model, optimizer, train_dl, valid_dl, max_lr=0.01, epochs=20)"
   ]
  },
  {
   "cell_type": "code",
   "execution_count": null,
   "metadata": {},
   "outputs": [],
   "source": []
  }
 ],
 "metadata": {
  "kernelspec": {
   "display_name": "Python 3",
   "language": "python",
   "name": "python3"
  },
  "language_info": {
   "codemirror_mode": {
    "name": "ipython",
    "version": 3
   },
   "file_extension": ".py",
   "mimetype": "text/x-python",
   "name": "python",
   "nbconvert_exporter": "python",
   "pygments_lexer": "ipython3",
   "version": "3.6.10"
  }
 },
 "nbformat": 4,
 "nbformat_minor": 2
}
