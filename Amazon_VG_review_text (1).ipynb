{
  "nbformat": 4,
  "nbformat_minor": 0,
  "metadata": {
    "kernelspec": {
      "display_name": "Python 3",
      "language": "python",
      "name": "python3"
    },
    "language_info": {
      "codemirror_mode": {
        "name": "ipython",
        "version": 3
      },
      "file_extension": ".py",
      "mimetype": "text/x-python",
      "name": "python",
      "nbconvert_exporter": "python",
      "pygments_lexer": "ipython3",
      "version": "3.6.10"
    },
    "colab": {
      "name": "Amazon_VG_review_text.ipynb",
      "provenance": [],
      "collapsed_sections": [],
      "toc_visible": true
    },
    "accelerator": "GPU"
  },
  "cells": [
    {
      "cell_type": "code",
      "metadata": {
        "id": "zDBIbdMnY75b",
        "colab_type": "code",
        "colab": {}
      },
      "source": [
        "from pathlib import Path\n",
        "import pandas as pd\n",
        "pd.options.mode.chained_assignment = None\n",
        "import numpy as np\n",
        "\n",
        "import torch\n",
        "import torch.nn as nn\n",
        "import torch.nn.functional as F\n",
        "from torch.utils.data import Dataset, DataLoader\n",
        "from torch.nn.utils.rnn import pack_padded_sequence\n",
        "\n",
        "from sklearn.model_selection import train_test_split\n",
        "from collections import Counter"
      ],
      "execution_count": 1,
      "outputs": []
    },
    {
      "cell_type": "code",
      "metadata": {
        "id": "iLgTdbfZY75h",
        "colab_type": "code",
        "colab": {}
      },
      "source": [
        "import gzip\n",
        "import json\n",
        "import io\n",
        "\n",
        "def parse(path):\n",
        "    g = gzip.open(path, 'rb')\n",
        "    for l in g:\n",
        "        yield json.loads(l)\n",
        "\n",
        "def unpack_dataset():\n",
        "    ! wget http://deepyeti.ucsd.edu/jianmo/amazon/categoryFilesSmall/Video_Games_5.json.gz\n",
        "    ! mkdir data\n",
        "    ! mv Vid* data\n",
        "\n",
        "def getDF(path):\n",
        "    i = 0\n",
        "    df = {}\n",
        "    for d in parse(path):\n",
        "        df[i] = d\n",
        "        i += 1\n",
        "    return pd.DataFrame.from_dict(df, orient='index')"
      ],
      "execution_count": 2,
      "outputs": []
    },
    {
      "cell_type": "code",
      "metadata": {
        "id": "IyjWdsm9ZCaY",
        "colab_type": "code",
        "colab": {
          "base_uri": "https://localhost:8080/",
          "height": 241
        },
        "outputId": "262b5dd1-6d9d-40f6-bf1f-fdd39dc6ec7e"
      },
      "source": [
        "unpack_dataset()\n"
      ],
      "execution_count": 3,
      "outputs": [
        {
          "output_type": "stream",
          "text": [
            "--2020-06-24 05:26:35--  http://deepyeti.ucsd.edu/jianmo/amazon/categoryFilesSmall/Video_Games_5.json.gz\n",
            "Resolving deepyeti.ucsd.edu (deepyeti.ucsd.edu)... 169.228.63.50\n",
            "Connecting to deepyeti.ucsd.edu (deepyeti.ucsd.edu)|169.228.63.50|:80... connected.\n",
            "HTTP request sent, awaiting response... 200 OK\n",
            "Length: 154050105 (147M) [application/octet-stream]\n",
            "Saving to: ‘Video_Games_5.json.gz’\n",
            "\n",
            "Video_Games_5.json. 100%[===================>] 146.91M  19.5MB/s    in 8.3s    \n",
            "\n",
            "2020-06-24 05:26:43 (17.7 MB/s) - ‘Video_Games_5.json.gz’ saved [154050105/154050105]\n",
            "\n",
            "mkdir: cannot create directory ‘data’: File exists\n"
          ],
          "name": "stdout"
        }
      ]
    },
    {
      "cell_type": "code",
      "metadata": {
        "id": "quQWtO1NY75j",
        "colab_type": "code",
        "colab": {}
      },
      "source": [
        "data = getDF('data/Video_Games_5.json.gz')"
      ],
      "execution_count": 4,
      "outputs": []
    },
    {
      "cell_type": "code",
      "metadata": {
        "id": "tDVYqxx3Y75w",
        "colab_type": "code",
        "colab": {
          "base_uri": "https://localhost:8080/",
          "height": 34
        },
        "outputId": "86c8c741-622b-4c27-9e50-3bba66d706b3"
      },
      "source": [
        "data.shape"
      ],
      "execution_count": 5,
      "outputs": [
        {
          "output_type": "execute_result",
          "data": {
            "text/plain": [
              "(497577, 12)"
            ]
          },
          "metadata": {
            "tags": []
          },
          "execution_count": 5
        }
      ]
    },
    {
      "cell_type": "code",
      "metadata": {
        "id": "-IjMVeqiY75z",
        "colab_type": "code",
        "colab": {
          "base_uri": "https://localhost:8080/",
          "height": 479
        },
        "outputId": "e71ed892-6313-4c73-fc99-38e892d08238"
      },
      "source": [
        "data.head()"
      ],
      "execution_count": 6,
      "outputs": [
        {
          "output_type": "execute_result",
          "data": {
            "text/html": [
              "<div>\n",
              "<style scoped>\n",
              "    .dataframe tbody tr th:only-of-type {\n",
              "        vertical-align: middle;\n",
              "    }\n",
              "\n",
              "    .dataframe tbody tr th {\n",
              "        vertical-align: top;\n",
              "    }\n",
              "\n",
              "    .dataframe thead th {\n",
              "        text-align: right;\n",
              "    }\n",
              "</style>\n",
              "<table border=\"1\" class=\"dataframe\">\n",
              "  <thead>\n",
              "    <tr style=\"text-align: right;\">\n",
              "      <th></th>\n",
              "      <th>overall</th>\n",
              "      <th>verified</th>\n",
              "      <th>reviewTime</th>\n",
              "      <th>reviewerID</th>\n",
              "      <th>asin</th>\n",
              "      <th>reviewerName</th>\n",
              "      <th>reviewText</th>\n",
              "      <th>summary</th>\n",
              "      <th>unixReviewTime</th>\n",
              "      <th>vote</th>\n",
              "      <th>style</th>\n",
              "      <th>image</th>\n",
              "    </tr>\n",
              "  </thead>\n",
              "  <tbody>\n",
              "    <tr>\n",
              "      <th>0</th>\n",
              "      <td>5.0</td>\n",
              "      <td>True</td>\n",
              "      <td>10 17, 2015</td>\n",
              "      <td>A1HP7NVNPFMA4N</td>\n",
              "      <td>0700026657</td>\n",
              "      <td>Ambrosia075</td>\n",
              "      <td>This game is a bit hard to get the hang of, bu...</td>\n",
              "      <td>but when you do it's great.</td>\n",
              "      <td>1445040000</td>\n",
              "      <td>NaN</td>\n",
              "      <td>NaN</td>\n",
              "      <td>NaN</td>\n",
              "    </tr>\n",
              "    <tr>\n",
              "      <th>1</th>\n",
              "      <td>4.0</td>\n",
              "      <td>False</td>\n",
              "      <td>07 27, 2015</td>\n",
              "      <td>A1JGAP0185YJI6</td>\n",
              "      <td>0700026657</td>\n",
              "      <td>travis</td>\n",
              "      <td>I played it a while but it was alright. The st...</td>\n",
              "      <td>But in spite of that it was fun, I liked it</td>\n",
              "      <td>1437955200</td>\n",
              "      <td>NaN</td>\n",
              "      <td>NaN</td>\n",
              "      <td>NaN</td>\n",
              "    </tr>\n",
              "    <tr>\n",
              "      <th>2</th>\n",
              "      <td>3.0</td>\n",
              "      <td>True</td>\n",
              "      <td>02 23, 2015</td>\n",
              "      <td>A1YJWEXHQBWK2B</td>\n",
              "      <td>0700026657</td>\n",
              "      <td>Vincent G. Mezera</td>\n",
              "      <td>ok game.</td>\n",
              "      <td>Three Stars</td>\n",
              "      <td>1424649600</td>\n",
              "      <td>NaN</td>\n",
              "      <td>NaN</td>\n",
              "      <td>NaN</td>\n",
              "    </tr>\n",
              "    <tr>\n",
              "      <th>3</th>\n",
              "      <td>2.0</td>\n",
              "      <td>True</td>\n",
              "      <td>02 20, 2015</td>\n",
              "      <td>A2204E1TH211HT</td>\n",
              "      <td>0700026657</td>\n",
              "      <td>Grandma KR</td>\n",
              "      <td>found the game a bit too complicated, not what...</td>\n",
              "      <td>Two Stars</td>\n",
              "      <td>1424390400</td>\n",
              "      <td>NaN</td>\n",
              "      <td>NaN</td>\n",
              "      <td>NaN</td>\n",
              "    </tr>\n",
              "    <tr>\n",
              "      <th>4</th>\n",
              "      <td>5.0</td>\n",
              "      <td>True</td>\n",
              "      <td>12 25, 2014</td>\n",
              "      <td>A2RF5B5H74JLPE</td>\n",
              "      <td>0700026657</td>\n",
              "      <td>jon</td>\n",
              "      <td>great game, I love it and have played it since...</td>\n",
              "      <td>love this game</td>\n",
              "      <td>1419465600</td>\n",
              "      <td>NaN</td>\n",
              "      <td>NaN</td>\n",
              "      <td>NaN</td>\n",
              "    </tr>\n",
              "  </tbody>\n",
              "</table>\n",
              "</div>"
            ],
            "text/plain": [
              "   overall  verified   reviewTime  ... vote style image\n",
              "0      5.0      True  10 17, 2015  ...  NaN   NaN   NaN\n",
              "1      4.0     False  07 27, 2015  ...  NaN   NaN   NaN\n",
              "2      3.0      True  02 23, 2015  ...  NaN   NaN   NaN\n",
              "3      2.0      True  02 20, 2015  ...  NaN   NaN   NaN\n",
              "4      5.0      True  12 25, 2014  ...  NaN   NaN   NaN\n",
              "\n",
              "[5 rows x 12 columns]"
            ]
          },
          "metadata": {
            "tags": []
          },
          "execution_count": 6
        }
      ]
    },
    {
      "cell_type": "code",
      "metadata": {
        "id": "MIsSVfyYwc7z",
        "colab_type": "code",
        "colab": {}
      },
      "source": [
        "data = data.loc[(data.reviewTime.str.contains('2018'))]# | (data.reviewTime.str.contains('2016')) | (data.reviewTime.str.contains('2017')) | (data.reviewTime.str.contains('2018'))]"
      ],
      "execution_count": 7,
      "outputs": []
    },
    {
      "cell_type": "code",
      "metadata": {
        "id": "c2qhoRowY752",
        "colab_type": "code",
        "colab": {}
      },
      "source": [
        "# now use user, item, reviewText & ratings\n",
        "df = data[['reviewerID', 'asin', 'reviewText', 'overall']]\n",
        "df.columns = ['place', 'user', 'review', 'rating']"
      ],
      "execution_count": 8,
      "outputs": []
    },
    {
      "cell_type": "code",
      "metadata": {
        "id": "pBTLGd87Y754",
        "colab_type": "code",
        "colab": {}
      },
      "source": [
        "del data"
      ],
      "execution_count": 9,
      "outputs": []
    },
    {
      "cell_type": "code",
      "metadata": {
        "id": "GUL8sb8QY756",
        "colab_type": "code",
        "colab": {
          "base_uri": "https://localhost:8080/",
          "height": 204
        },
        "outputId": "2990dbd6-3595-4956-8dfd-fbad9ceb0bfc"
      },
      "source": [
        "df.head()"
      ],
      "execution_count": 10,
      "outputs": [
        {
          "output_type": "execute_result",
          "data": {
            "text/html": [
              "<div>\n",
              "<style scoped>\n",
              "    .dataframe tbody tr th:only-of-type {\n",
              "        vertical-align: middle;\n",
              "    }\n",
              "\n",
              "    .dataframe tbody tr th {\n",
              "        vertical-align: top;\n",
              "    }\n",
              "\n",
              "    .dataframe thead th {\n",
              "        text-align: right;\n",
              "    }\n",
              "</style>\n",
              "<table border=\"1\" class=\"dataframe\">\n",
              "  <thead>\n",
              "    <tr style=\"text-align: right;\">\n",
              "      <th></th>\n",
              "      <th>place</th>\n",
              "      <th>user</th>\n",
              "      <th>review</th>\n",
              "      <th>rating</th>\n",
              "    </tr>\n",
              "  </thead>\n",
              "  <tbody>\n",
              "    <tr>\n",
              "      <th>98</th>\n",
              "      <td>AL529YNQ4YBFE</td>\n",
              "      <td>6050036071</td>\n",
              "      <td>Works great with Xbox 360. I have 2 of these u...</td>\n",
              "      <td>5.0</td>\n",
              "    </tr>\n",
              "    <tr>\n",
              "      <th>2599</th>\n",
              "      <td>AHGW67EQ751LS</td>\n",
              "      <td>B00000J2W7</td>\n",
              "      <td>It won't autosave, and it resets progress on r...</td>\n",
              "      <td>3.0</td>\n",
              "    </tr>\n",
              "    <tr>\n",
              "      <th>2704</th>\n",
              "      <td>AYXTNDD9FJBVK</td>\n",
              "      <td>B00000J97G</td>\n",
              "      <td>Missing battery cover</td>\n",
              "      <td>3.0</td>\n",
              "    </tr>\n",
              "    <tr>\n",
              "      <th>3104</th>\n",
              "      <td>A3ISBEPYLY8IMO</td>\n",
              "      <td>B00000JRSB</td>\n",
              "      <td>Received this in perfect condition. Great rese...</td>\n",
              "      <td>5.0</td>\n",
              "    </tr>\n",
              "    <tr>\n",
              "      <th>6683</th>\n",
              "      <td>A30T51SMB0UQR1</td>\n",
              "      <td>B00002DHEV</td>\n",
              "      <td>one of the best video game systems ever made.....</td>\n",
              "      <td>5.0</td>\n",
              "    </tr>\n",
              "  </tbody>\n",
              "</table>\n",
              "</div>"
            ],
            "text/plain": [
              "               place  ... rating\n",
              "98     AL529YNQ4YBFE  ...    5.0\n",
              "2599   AHGW67EQ751LS  ...    3.0\n",
              "2704   AYXTNDD9FJBVK  ...    3.0\n",
              "3104  A3ISBEPYLY8IMO  ...    5.0\n",
              "6683  A30T51SMB0UQR1  ...    5.0\n",
              "\n",
              "[5 rows x 4 columns]"
            ]
          },
          "metadata": {
            "tags": []
          },
          "execution_count": 10
        }
      ]
    },
    {
      "cell_type": "markdown",
      "metadata": {
        "id": "7x18Ib1OY758",
        "colab_type": "text"
      },
      "source": [
        "## Split Train/Validation"
      ]
    },
    {
      "cell_type": "code",
      "metadata": {
        "id": "kOP78i6iY758",
        "colab_type": "code",
        "colab": {
          "base_uri": "https://localhost:8080/",
          "height": 34
        },
        "outputId": "1dfa0dea-236c-4a02-bad2-0983425d3b59"
      },
      "source": [
        "train, val = train_test_split(df, test_size=0.2)\n",
        "train.shape, val.shape"
      ],
      "execution_count": 11,
      "outputs": [
        {
          "output_type": "execute_result",
          "data": {
            "text/plain": [
              "((9451, 4), (2363, 4))"
            ]
          },
          "metadata": {
            "tags": []
          },
          "execution_count": 11
        }
      ]
    },
    {
      "cell_type": "code",
      "metadata": {
        "id": "OkM-OmRGY75-",
        "colab_type": "code",
        "colab": {}
      },
      "source": [
        "del df"
      ],
      "execution_count": 12,
      "outputs": []
    },
    {
      "cell_type": "markdown",
      "metadata": {
        "id": "DW7wmhpMY76B",
        "colab_type": "text"
      },
      "source": [
        "## Encode Places and Users"
      ]
    },
    {
      "cell_type": "code",
      "metadata": {
        "id": "6HeyzWfNY76B",
        "colab_type": "code",
        "colab": {}
      },
      "source": [
        "def encode_cols(train, val, cols):\n",
        "    for col in cols:\n",
        "        uniq = train[col].unique()\n",
        "        col2idx = {val: i for i, val in enumerate(uniq)}\n",
        "        train[col] = train[col].apply(lambda x: col2idx.get(x, -1))\n",
        "        val[col] = val[col].apply(lambda x: col2idx.get(x, -1))\n",
        "        val = val.loc[val[col] >= 0] \n",
        "    return train, val"
      ],
      "execution_count": 13,
      "outputs": []
    },
    {
      "cell_type": "code",
      "metadata": {
        "id": "xZarASSJY76E",
        "colab_type": "code",
        "colab": {}
      },
      "source": [
        "train_enc, val_enc = encode_cols(train, val, ['place', 'user'])"
      ],
      "execution_count": 14,
      "outputs": []
    },
    {
      "cell_type": "code",
      "metadata": {
        "id": "Fcktk2-9Y76F",
        "colab_type": "code",
        "colab": {
          "base_uri": "https://localhost:8080/",
          "height": 34
        },
        "outputId": "f382ae9a-e471-4320-df76-d660ca97d3b4"
      },
      "source": [
        "len(train_enc.user.unique()), len(train_enc.place.unique())"
      ],
      "execution_count": 15,
      "outputs": [
        {
          "output_type": "execute_result",
          "data": {
            "text/plain": [
              "(4185, 4355)"
            ]
          },
          "metadata": {
            "tags": []
          },
          "execution_count": 15
        }
      ]
    },
    {
      "cell_type": "code",
      "metadata": {
        "id": "Khy9u5D-Y76H",
        "colab_type": "code",
        "colab": {
          "base_uri": "https://localhost:8080/",
          "height": 204
        },
        "outputId": "55510915-77f9-4bd2-c6ed-e56c479246a0"
      },
      "source": [
        "train_enc.head()"
      ],
      "execution_count": 16,
      "outputs": [
        {
          "output_type": "execute_result",
          "data": {
            "text/html": [
              "<div>\n",
              "<style scoped>\n",
              "    .dataframe tbody tr th:only-of-type {\n",
              "        vertical-align: middle;\n",
              "    }\n",
              "\n",
              "    .dataframe tbody tr th {\n",
              "        vertical-align: top;\n",
              "    }\n",
              "\n",
              "    .dataframe thead th {\n",
              "        text-align: right;\n",
              "    }\n",
              "</style>\n",
              "<table border=\"1\" class=\"dataframe\">\n",
              "  <thead>\n",
              "    <tr style=\"text-align: right;\">\n",
              "      <th></th>\n",
              "      <th>place</th>\n",
              "      <th>user</th>\n",
              "      <th>review</th>\n",
              "      <th>rating</th>\n",
              "    </tr>\n",
              "  </thead>\n",
              "  <tbody>\n",
              "    <tr>\n",
              "      <th>494397</th>\n",
              "      <td>0</td>\n",
              "      <td>0</td>\n",
              "      <td>Let's start by stating that even in 2018, you ...</td>\n",
              "      <td>5.0</td>\n",
              "    </tr>\n",
              "    <tr>\n",
              "      <th>444712</th>\n",
              "      <td>1</td>\n",
              "      <td>1</td>\n",
              "      <td>a  ok</td>\n",
              "      <td>5.0</td>\n",
              "    </tr>\n",
              "    <tr>\n",
              "      <th>495561</th>\n",
              "      <td>2</td>\n",
              "      <td>2</td>\n",
              "      <td>nice</td>\n",
              "      <td>4.0</td>\n",
              "    </tr>\n",
              "    <tr>\n",
              "      <th>431940</th>\n",
              "      <td>3</td>\n",
              "      <td>3</td>\n",
              "      <td>Love them.</td>\n",
              "      <td>5.0</td>\n",
              "    </tr>\n",
              "    <tr>\n",
              "      <th>337122</th>\n",
              "      <td>4</td>\n",
              "      <td>4</td>\n",
              "      <td>Good, pretty, cheap</td>\n",
              "      <td>5.0</td>\n",
              "    </tr>\n",
              "  </tbody>\n",
              "</table>\n",
              "</div>"
            ],
            "text/plain": [
              "        place  user                                             review  rating\n",
              "494397      0     0  Let's start by stating that even in 2018, you ...     5.0\n",
              "444712      1     1                                              a  ok     5.0\n",
              "495561      2     2                                               nice     4.0\n",
              "431940      3     3                                         Love them.     5.0\n",
              "337122      4     4                                Good, pretty, cheap     5.0"
            ]
          },
          "metadata": {
            "tags": []
          },
          "execution_count": 16
        }
      ]
    },
    {
      "cell_type": "markdown",
      "metadata": {
        "id": "iNxFuezTY76J",
        "colab_type": "text"
      },
      "source": [
        "## Get text from reviews, create vocab"
      ]
    },
    {
      "cell_type": "code",
      "metadata": {
        "id": "qY9QHgvhY76K",
        "colab_type": "code",
        "colab": {}
      },
      "source": [
        "place_reviews = train_enc.groupby('place').review.apply(list)"
      ],
      "execution_count": 17,
      "outputs": []
    },
    {
      "cell_type": "code",
      "metadata": {
        "id": "MHFs9EQpY76M",
        "colab_type": "code",
        "colab": {
          "base_uri": "https://localhost:8080/",
          "height": 34
        },
        "outputId": "3c0c2c18-2f46-4c2c-c4f1-fdde90334a0e"
      },
      "source": [
        "len(place_reviews), sum([any(review_list) for review_list in place_reviews.values])"
      ],
      "execution_count": 18,
      "outputs": [
        {
          "output_type": "execute_result",
          "data": {
            "text/plain": [
              "(4355, 4355)"
            ]
          },
          "metadata": {
            "tags": []
          },
          "execution_count": 18
        }
      ]
    },
    {
      "cell_type": "code",
      "metadata": {
        "id": "hZetzS11Y76N",
        "colab_type": "code",
        "colab": {
          "base_uri": "https://localhost:8080/",
          "height": 54
        },
        "outputId": "32d1b936-dd1b-4153-edbc-856b7f51bd46"
      },
      "source": [
        "# 0 places without any reviews our ot 55217\n",
        "' '.join(place_reviews[0])"
      ],
      "execution_count": 19,
      "outputs": [
        {
          "output_type": "execute_result",
          "data": {
            "text/plain": [
              "\"Let's start by stating that even in 2018, you will need a good computer to run this game and make it beautiful.\\nIf you are equipped, I do recommend it highly because of the story and immersion.\\nThe world is fairly large, the enemies sometimes fearsome and even more than a year after finishing it, I have some temptation to go and visit it again.\\nIt is an open world survival game.\\nYou will do first person shooting, settlements constructions so it can appeal to many different types of players.\\nEven in 2018, it is a great game to start. It looks fantastic!\""
            ]
          },
          "metadata": {
            "tags": []
          },
          "execution_count": 19
        }
      ]
    },
    {
      "cell_type": "code",
      "metadata": {
        "id": "anDrdt8HY76S",
        "colab_type": "code",
        "colab": {}
      },
      "source": [
        "place_reviews = place_reviews.apply(lambda x: ' '.join([str(rev) for rev in x]))"
      ],
      "execution_count": 20,
      "outputs": []
    },
    {
      "cell_type": "code",
      "metadata": {
        "id": "Hmv5q0CGY76U",
        "colab_type": "code",
        "colab": {
          "base_uri": "https://localhost:8080/",
          "height": 85
        },
        "outputId": "7d12f978-1309-447f-d21f-d0bdce7ad9f1"
      },
      "source": [
        "place_reviews.head(2)"
      ],
      "execution_count": 21,
      "outputs": [
        {
          "output_type": "execute_result",
          "data": {
            "text/plain": [
              "place\n",
              "0    Let's start by stating that even in 2018, you ...\n",
              "1                                       a  ok the best\n",
              "Name: review, dtype: object"
            ]
          },
          "metadata": {
            "tags": []
          },
          "execution_count": 21
        }
      ]
    },
    {
      "cell_type": "code",
      "metadata": {
        "id": "Zq05R5mcY76W",
        "colab_type": "code",
        "colab": {}
      },
      "source": [
        "import re"
      ],
      "execution_count": 22,
      "outputs": []
    },
    {
      "cell_type": "code",
      "metadata": {
        "id": "XNMxMaU-Y76Y",
        "colab_type": "code",
        "colab": {}
      },
      "source": [
        "def tok(text):\n",
        "    reg = re.findall(r\"[\\w']+|[.,!?;]\", text, re.UNICODE)\n",
        "    return [w.lower() for w in reg]"
      ],
      "execution_count": 23,
      "outputs": []
    },
    {
      "cell_type": "code",
      "metadata": {
        "id": "-7fLN5NMY76a",
        "colab_type": "code",
        "colab": {
          "base_uri": "https://localhost:8080/",
          "height": 357
        },
        "outputId": "c1ccf9a3-81a6-4614-8546-7471da1b8c67"
      },
      "source": [
        "tok(place_reviews.iloc[0])[:20]"
      ],
      "execution_count": 24,
      "outputs": [
        {
          "output_type": "execute_result",
          "data": {
            "text/plain": [
              "[\"let's\",\n",
              " 'start',\n",
              " 'by',\n",
              " 'stating',\n",
              " 'that',\n",
              " 'even',\n",
              " 'in',\n",
              " '2018',\n",
              " ',',\n",
              " 'you',\n",
              " 'will',\n",
              " 'need',\n",
              " 'a',\n",
              " 'good',\n",
              " 'computer',\n",
              " 'to',\n",
              " 'run',\n",
              " 'this',\n",
              " 'game',\n",
              " 'and']"
            ]
          },
          "metadata": {
            "tags": []
          },
          "execution_count": 24
        }
      ]
    },
    {
      "cell_type": "code",
      "metadata": {
        "id": "pGqnOR1QY76d",
        "colab_type": "code",
        "colab": {}
      },
      "source": [
        "all_vocab = [word for review in place_reviews.values for word in tok(review)]"
      ],
      "execution_count": 25,
      "outputs": []
    },
    {
      "cell_type": "code",
      "metadata": {
        "id": "Hb3tUVYvY76f",
        "colab_type": "code",
        "colab": {
          "base_uri": "https://localhost:8080/",
          "height": 34
        },
        "outputId": "408affef-c1dc-4bc4-e80b-f5af10e7a9f4"
      },
      "source": [
        "len(all_vocab)"
      ],
      "execution_count": 26,
      "outputs": [
        {
          "output_type": "execute_result",
          "data": {
            "text/plain": [
              "463215"
            ]
          },
          "metadata": {
            "tags": []
          },
          "execution_count": 26
        }
      ]
    },
    {
      "cell_type": "code",
      "metadata": {
        "id": "t_fl-L3NY76j",
        "colab_type": "code",
        "colab": {
          "base_uri": "https://localhost:8080/",
          "height": 34
        },
        "outputId": "8d3a3108-44f7-4ff2-b0a7-2a954aa66cb5"
      },
      "source": [
        "word_cts = Counter(all_vocab)\n",
        "len(word_cts)"
      ],
      "execution_count": 27,
      "outputs": [
        {
          "output_type": "execute_result",
          "data": {
            "text/plain": [
              "15997"
            ]
          },
          "metadata": {
            "tags": []
          },
          "execution_count": 27
        }
      ]
    },
    {
      "cell_type": "code",
      "metadata": {
        "id": "yADe8QsFY76m",
        "colab_type": "code",
        "colab": {}
      },
      "source": [
        "del all_vocab"
      ],
      "execution_count": 28,
      "outputs": []
    },
    {
      "cell_type": "code",
      "metadata": {
        "id": "zXxkGa5rY76o",
        "colab_type": "code",
        "colab": {}
      },
      "source": [
        "common = {k:v for k, v in word_cts.items() if v >= 5}\n",
        "vocab2idx = {'<PAD>': 0, 'UNK': 1}\n",
        "\n",
        "for i, (word, ct) in enumerate(common.items()):\n",
        "    if ct >= 5:\n",
        "        vocab2idx[word] = i + 2"
      ],
      "execution_count": 29,
      "outputs": []
    },
    {
      "cell_type": "code",
      "metadata": {
        "id": "6RN-OpkjY76r",
        "colab_type": "code",
        "colab": {}
      },
      "source": [
        "del word_cts, common"
      ],
      "execution_count": 30,
      "outputs": []
    },
    {
      "cell_type": "code",
      "metadata": {
        "id": "5xXcyJl1Y76t",
        "colab_type": "code",
        "colab": {
          "base_uri": "https://localhost:8080/",
          "height": 34
        },
        "outputId": "635f5c89-f69e-402e-e38c-89419f569af9"
      },
      "source": [
        "len(vocab2idx)"
      ],
      "execution_count": 31,
      "outputs": [
        {
          "output_type": "execute_result",
          "data": {
            "text/plain": [
              "4788"
            ]
          },
          "metadata": {
            "tags": []
          },
          "execution_count": 31
        }
      ]
    },
    {
      "cell_type": "markdown",
      "metadata": {
        "id": "LuE-st_hY76v",
        "colab_type": "text"
      },
      "source": [
        "## Review to Vector"
      ]
    },
    {
      "cell_type": "code",
      "metadata": {
        "id": "08me06gWY76v",
        "colab_type": "code",
        "colab": {}
      },
      "source": [
        "place_reviews_tok = [tok(review) for review in place_reviews.values]"
      ],
      "execution_count": 32,
      "outputs": []
    },
    {
      "cell_type": "code",
      "metadata": {
        "id": "YHaIQ9yGY76x",
        "colab_type": "code",
        "colab": {
          "base_uri": "https://localhost:8080/",
          "height": 34
        },
        "outputId": "95647bfb-2c88-4ae9-f830-a1c87f5862cc"
      },
      "source": [
        "lens = [len(rev) for rev in place_reviews_tok]\n",
        "max(lens)"
      ],
      "execution_count": 33,
      "outputs": [
        {
          "output_type": "execute_result",
          "data": {
            "text/plain": [
              "4588"
            ]
          },
          "metadata": {
            "tags": []
          },
          "execution_count": 33
        }
      ]
    },
    {
      "cell_type": "code",
      "metadata": {
        "id": "aX28XPuWY76z",
        "colab_type": "code",
        "colab": {}
      },
      "source": [
        "del lens"
      ],
      "execution_count": 34,
      "outputs": []
    },
    {
      "cell_type": "code",
      "metadata": {
        "id": "NlcdhOMOY760",
        "colab_type": "code",
        "colab": {}
      },
      "source": [
        "def encode_review(review, N=6412):\n",
        "    enc1 = np.array([vocab2idx.get(w, vocab2idx[\"UNK\"]) for w in review])\n",
        "    enc = np.zeros(N, dtype=np.int32)\n",
        "    l = min(N, len(review))\n",
        "    enc[:l] = enc1[:l]\n",
        "    if l == 0:\n",
        "        l=1\n",
        "    return enc, l"
      ],
      "execution_count": 35,
      "outputs": []
    },
    {
      "cell_type": "code",
      "metadata": {
        "id": "gplaqgU5Y762",
        "colab_type": "code",
        "colab": {
          "base_uri": "https://localhost:8080/",
          "height": 34
        },
        "outputId": "0416f49d-0097-4cc7-da0f-7b258dca4b3b"
      },
      "source": [
        "encode_review(place_reviews_tok[0])"
      ],
      "execution_count": 36,
      "outputs": [
        {
          "output_type": "execute_result",
          "data": {
            "text/plain": [
              "(array([2, 3, 4, ..., 0, 0, 0], dtype=int32), 116)"
            ]
          },
          "metadata": {
            "tags": []
          },
          "execution_count": 36
        }
      ]
    },
    {
      "cell_type": "markdown",
      "metadata": {
        "id": "tPpE82u8Y763",
        "colab_type": "text"
      },
      "source": [
        "## Dataset and Data Loader"
      ]
    },
    {
      "cell_type": "code",
      "metadata": {
        "id": "25nkxvzIY764",
        "colab_type": "code",
        "colab": {}
      },
      "source": [
        "class AmazonDataset(Dataset):\n",
        "    def __init__(self, X, y, reviews):\n",
        "        self.user = X.user.values\n",
        "        self.place = X.place.values\n",
        "        self.y = y\n",
        "        self.reviews = reviews\n",
        "        \n",
        "    def __len__(self):\n",
        "        return len(self.y)\n",
        "    \n",
        "    def __getitem__(self, idx):\n",
        "        user = self.user[idx]\n",
        "        place = self.place[idx]\n",
        "        review_vec, l = encode_review(self.reviews[place])\n",
        "        return user, place, review_vec, l, self.y[idx]"
      ],
      "execution_count": 37,
      "outputs": []
    },
    {
      "cell_type": "code",
      "metadata": {
        "id": "URpbPHSgY765",
        "colab_type": "code",
        "colab": {}
      },
      "source": [
        "train_ds = AmazonDataset(train_enc[['place', 'user']], train_enc.rating.values, place_reviews_tok)\n",
        "valid_ds = AmazonDataset(val_enc[['place', 'user']], val_enc.rating.values, place_reviews_tok)"
      ],
      "execution_count": 38,
      "outputs": []
    },
    {
      "cell_type": "code",
      "metadata": {
        "id": "4FNQzKGzY767",
        "colab_type": "code",
        "colab": {
          "base_uri": "https://localhost:8080/",
          "height": 34
        },
        "outputId": "7a1ec0e1-4431-419a-b8c4-0859cfabd5bd"
      },
      "source": [
        "next(iter(train_ds))"
      ],
      "execution_count": 39,
      "outputs": [
        {
          "output_type": "execute_result",
          "data": {
            "text/plain": [
              "(0, 0, array([2, 3, 4, ..., 0, 0, 0], dtype=int32), 116, 5.0)"
            ]
          },
          "metadata": {
            "tags": []
          },
          "execution_count": 39
        }
      ]
    },
    {
      "cell_type": "markdown",
      "metadata": {
        "id": "DBm9uGpaY769",
        "colab_type": "text"
      },
      "source": [
        "## Load Pre-Trained Glove"
      ]
    },
    {
      "cell_type": "code",
      "metadata": {
        "id": "GQVl2M6aZ9Ma",
        "colab_type": "code",
        "colab": {}
      },
      "source": [
        ""
      ],
      "execution_count": 39,
      "outputs": []
    },
    {
      "cell_type": "code",
      "metadata": {
        "id": "Wv-AP4VqY769",
        "colab_type": "code",
        "colab": {}
      },
      "source": [
        "def loadGloveModel(gloveFile='data/glove.6B.50d.txt'):\n",
        "    \"\"\" Loads word vectors into a dictionary.\"\"\"\n",
        "    ! wget http://nlp.stanford.edu/data/glove.6B.zip\n",
        "    !unzip glove*.zip\n",
        "    ! mv gl* data\n",
        "\n",
        "    f = open(gloveFile,'r')\n",
        "    words = []\n",
        "    word_vecs = {}\n",
        "    for line in f:\n",
        "        splitLine = line.split()\n",
        "        word = splitLine[0]\n",
        "        words.append(word)\n",
        "        word_vecs[word] = np.array([float(val) for val in splitLine[1:]])\n",
        "    return word_vecs"
      ],
      "execution_count": 40,
      "outputs": []
    },
    {
      "cell_type": "code",
      "metadata": {
        "id": "bwb42vvnZ8Hw",
        "colab_type": "code",
        "colab": {}
      },
      "source": [
        ""
      ],
      "execution_count": 40,
      "outputs": []
    },
    {
      "cell_type": "code",
      "metadata": {
        "id": "AcI10qQjY77C",
        "colab_type": "code",
        "colab": {}
      },
      "source": [
        "#glove = loadGloveModel()"
      ],
      "execution_count": 41,
      "outputs": []
    },
    {
      "cell_type": "code",
      "metadata": {
        "id": "rlxPjAdCY77F",
        "colab_type": "code",
        "colab": {}
      },
      "source": [
        "def create_embedding_matrix(word_vecs, vocab2index, emb_size=50):\n",
        "    \"\"\"Creates embedding matrix from word vectors. \"\"\" \n",
        "    V = len(vocab2index.keys())\n",
        "    W = np.random.uniform(-0.25,0.25, (V, emb_size)) # initialize random\n",
        "    # adding a vector for padding\n",
        "    W[0] = np.zeros(emb_size, dtype='float32')\n",
        "    for word, index in vocab2index.items():\n",
        "        if word in word_vecs:\n",
        "            W[index] = word_vecs[word]\n",
        "    return W"
      ],
      "execution_count": 42,
      "outputs": []
    },
    {
      "cell_type": "code",
      "metadata": {
        "id": "gjanBcTlY77H",
        "colab_type": "code",
        "colab": {}
      },
      "source": [
        "#max([v for k, v in vocab2idx.items()])"
      ],
      "execution_count": 43,
      "outputs": []
    },
    {
      "cell_type": "code",
      "metadata": {
        "id": "vZUVYEXLY77K",
        "colab_type": "code",
        "colab": {}
      },
      "source": [
        "#W = create_embedding_matrix(glove, vocab2idx)"
      ],
      "execution_count": 44,
      "outputs": []
    },
    {
      "cell_type": "code",
      "metadata": {
        "id": "x6bXs3A6Y77N",
        "colab_type": "code",
        "colab": {}
      },
      "source": [
        "#del glove"
      ],
      "execution_count": 45,
      "outputs": []
    },
    {
      "cell_type": "markdown",
      "metadata": {
        "id": "R92_sjF_Y77P",
        "colab_type": "text"
      },
      "source": [
        "## Model"
      ]
    },
    {
      "cell_type": "code",
      "metadata": {
        "id": "9uXMFROwY77P",
        "colab_type": "code",
        "colab": {}
      },
      "source": [
        "class Context_MF_bias(nn.Module):\n",
        "    def __init__(self, num_users, num_places, vocab_size,  emb_size=50, glove_weights=None, bias=True):\n",
        "        super(Context_MF_bias, self).__init__()\n",
        "        self.user_emb = nn.Embedding(num_users, emb_size)\n",
        "        self.place_emb = nn.Embedding(num_places, emb_size)\n",
        "        self.user_emb.weight.data.uniform_(0,0.05)\n",
        "        self.place_emb.weight.data.uniform_(0,0.05)\n",
        "        self.bias = bias\n",
        "        if self.bias:\n",
        "            self.user_bias = nn.Embedding(num_users, 1)\n",
        "            self.place_bias = nn.Embedding(num_places, 1)\n",
        "            self.user_bias.weight.data.uniform_(-0.01,0.01)\n",
        "            self.place_emb.weight.data.uniform_(-0.01,0.01)\n",
        "        \n",
        "        self.embeddings = nn.Embedding(vocab_size, emb_size, padding_idx=0)\n",
        "        if glove_weights is not None:\n",
        "            self.embeddings.weight.data.copy_(torch.from_numpy(glove_weights))\n",
        "            self.embeddings.weight.requires_grad = False ## freeze embeddings\n",
        "        \n",
        "        # input dim and hidden dim must be the same to later combine item vec and review vec\n",
        "        self.gru = nn.GRU(emb_size, emb_size, batch_first=True) \n",
        "        self.dropout = nn.Dropout(0.3)\n",
        "        \n",
        "    def forward(self, u, v, v_review, l):\n",
        "        U = self.user_emb(u)\n",
        "        V = self.place_emb(v)\n",
        "        U, V = self.dropout(U), self.dropout(V)\n",
        "        \n",
        "        emb = self.embeddings(v_review)\n",
        "        emb = self.dropout(emb)\n",
        "        pack1 = pack_padded_sequence(emb, l, batch_first=True, enforce_sorted=False)\n",
        "        _, h1 = self.gru(pack1)\n",
        "        \n",
        "        V_rev = h1[-1]\n",
        "        \n",
        "        V_ = torch.stack([V, V_rev], dim=1) # combines item vector with review vector\n",
        "        V_ = torch.mean(V_, dim=1)   # still dim 50, avg at each dim from item/review vec\n",
        "        \n",
        "        if self.bias:\n",
        "            b_u = self.user_bias(u).squeeze()\n",
        "            b_v = self.place_bias(v).squeeze()\n",
        "            return (U*V_).sum(1) +  b_u  + b_v\n",
        "        \n",
        "        return (U*V_).sum(1)"
      ],
      "execution_count": 46,
      "outputs": []
    },
    {
      "cell_type": "markdown",
      "metadata": {
        "id": "8dqvVMHFY77R",
        "colab_type": "text"
      },
      "source": [
        "## Training Functions"
      ]
    },
    {
      "cell_type": "code",
      "metadata": {
        "id": "7ifR7PeJY77R",
        "colab_type": "code",
        "colab": {}
      },
      "source": [
        "def cosine_segment(start_lr, end_lr, iterations):\n",
        "    i = np.arange(iterations)\n",
        "    c_i = 1 + np.cos(i*np.pi/iterations)\n",
        "    return end_lr + (start_lr - end_lr)/2 *c_i\n",
        "\n",
        "def get_cosine_triangular_lr(max_lr, iterations, div_start=5, div_end=5):\n",
        "    min_start, min_end = max_lr/div_start, max_lr/div_end\n",
        "    iter1 = int(0.3*iterations)\n",
        "    iter2 = iterations - iter1\n",
        "    segs = [cosine_segment(min_start, max_lr, iter1), cosine_segment(max_lr, min_end, iter2)]\n",
        "    return np.concatenate(segs)"
      ],
      "execution_count": 47,
      "outputs": []
    },
    {
      "cell_type": "code",
      "metadata": {
        "id": "5PZlJ_5UY77T",
        "colab_type": "code",
        "colab": {}
      },
      "source": [
        "def set_learning_rate(optimizer, lr):\n",
        "    \"\"\"Changing learning rates without creating a new optimizer\"\"\"\n",
        "    for param_group in optimizer.param_groups:\n",
        "        param_group['lr'] = lr"
      ],
      "execution_count": 48,
      "outputs": []
    },
    {
      "cell_type": "code",
      "metadata": {
        "id": "_EgHC1q1Y77U",
        "colab_type": "code",
        "colab": {}
      },
      "source": [
        "def train_epocs(model, optimzer, train_dl, valid_dl, epochs=10, max_lr=0.01):\n",
        "    iterations = epochs*len(train_dl)\n",
        "    lrs = get_cosine_triangular_lr(max_lr, iterations)\n",
        "    vals = []\n",
        "    for epoch in range(epochs):\n",
        "        model.train()\n",
        "        sum_loss = 0.0\n",
        "        total = 0\n",
        "        i = 0\n",
        "        for u, v, v_rev, l, y in train_dl:\n",
        "            set_learning_rate(optimizer, lrs[i])\n",
        "            users = u.long().cuda()\n",
        "            places = v.long().cuda()\n",
        "            review_vec = v_rev.long().cuda()\n",
        "            ratings = y.float().cuda()\n",
        "            y_hat = model(users, places, review_vec, l)\n",
        "            loss = F.mse_loss(y_hat, ratings)\n",
        "            optimizer.zero_grad()\n",
        "            loss.backward()\n",
        "            optimizer.step()\n",
        "            sum_loss += loss.item()*y.shape[0]\n",
        "            total += y.shape[0]\n",
        "            i += 1\n",
        "        val_loss = val_metrics(model, valid_dl)\n",
        "        vals.append(val_loss)\n",
        "        #if epoch % 10 == 0: \n",
        "        print(f\"train loss {sum_loss/total:.3f} valid loss {val_loss:.3f}\") #valid accuracy {testaccur:.5f}"
      ],
      "execution_count": 49,
      "outputs": []
    },
    {
      "cell_type": "code",
      "metadata": {
        "id": "rWn7CY1uY77W",
        "colab_type": "code",
        "colab": {}
      },
      "source": [
        "def val_metrics(model, valid_dl):\n",
        "    model.eval()\n",
        "    correct = 0\n",
        "    total = 0\n",
        "    sum_loss = 0.0\n",
        "    for u, v, v_rev, l, y in valid_dl:\n",
        "        users = u.long().cuda()\n",
        "        places = v.long().cuda()\n",
        "        review_vec = v_rev.long().cuda()\n",
        "        ratings = y.float().cuda()\n",
        "        y_hat = model(users, places, review_vec, l)\n",
        "        loss = F.mse_loss(y_hat, ratings)\n",
        "        #y_pred = y_hat > 0\n",
        "        #correct += (y_pred.float() == y).float().sum()\n",
        "        total += y.shape[0]\n",
        "        sum_loss += loss.item()*y.shape[0]\n",
        "    return sum_loss/total #, correct/total"
      ],
      "execution_count": 50,
      "outputs": []
    },
    {
      "cell_type": "markdown",
      "metadata": {
        "id": "YyqyiO0pY77X",
        "colab_type": "text"
      },
      "source": [
        "## Train"
      ]
    },
    {
      "cell_type": "code",
      "metadata": {
        "id": "n_-oHI8vY77Y",
        "colab_type": "code",
        "colab": {
          "base_uri": "https://localhost:8080/",
          "height": 34
        },
        "outputId": "92b176ed-77e4-4fe0-f3a7-ad1ea9de2947"
      },
      "source": [
        "len(train_enc)"
      ],
      "execution_count": 51,
      "outputs": [
        {
          "output_type": "execute_result",
          "data": {
            "text/plain": [
              "9451"
            ]
          },
          "metadata": {
            "tags": []
          },
          "execution_count": 51
        }
      ]
    },
    {
      "cell_type": "code",
      "metadata": {
        "id": "r-uxvVZyY77f",
        "colab_type": "code",
        "colab": {}
      },
      "source": [
        "batch_size = 1_500\n",
        "train_dl = DataLoader(train_ds, batch_size=batch_size, shuffle=True)\n",
        "valid_dl = DataLoader(valid_ds, batch_size=batch_size)"
      ],
      "execution_count": 52,
      "outputs": []
    },
    {
      "cell_type": "code",
      "metadata": {
        "id": "51_RCZHyY77i",
        "colab_type": "code",
        "colab": {
          "base_uri": "https://localhost:8080/",
          "height": 34
        },
        "outputId": "2539a9c7-fbb7-490f-daaa-3c436fe15b2b"
      },
      "source": [
        "num_places, num_users, V = len(train_enc.place.unique()), len(train_enc.user.unique()), len(vocab2idx.keys())\n",
        "num_places, num_users, V"
      ],
      "execution_count": 53,
      "outputs": [
        {
          "output_type": "execute_result",
          "data": {
            "text/plain": [
              "(4355, 4185, 4788)"
            ]
          },
          "metadata": {
            "tags": []
          },
          "execution_count": 53
        }
      ]
    },
    {
      "cell_type": "code",
      "metadata": {
        "id": "dq9gBiJgY77k",
        "colab_type": "code",
        "colab": {}
      },
      "source": [
        "torch.cuda.empty_cache()"
      ],
      "execution_count": 54,
      "outputs": []
    },
    {
      "cell_type": "code",
      "metadata": {
        "id": "0NGx2YPYY77m",
        "colab_type": "code",
        "colab": {}
      },
      "source": [
        "model = Context_MF_bias(num_users, num_places, V, emb_size=50, bias=False).cuda()"
      ],
      "execution_count": 55,
      "outputs": []
    },
    {
      "cell_type": "code",
      "metadata": {
        "id": "XYiijYvMY77o",
        "colab_type": "code",
        "colab": {}
      },
      "source": [
        "optimizer = torch.optim.Adam(model.parameters(), lr=0.01, weight_decay=1e-5)"
      ],
      "execution_count": 56,
      "outputs": []
    },
    {
      "cell_type": "code",
      "metadata": {
        "id": "kRUm2OT3Y77q",
        "colab_type": "code",
        "colab": {
          "base_uri": "https://localhost:8080/",
          "height": 357
        },
        "outputId": "0ec4f6f3-4018-41c2-b504-cbe04e4e3400"
      },
      "source": [
        "train_epocs(model, optimizer, train_dl, valid_dl, max_lr=0.01, epochs=20)"
      ],
      "execution_count": 57,
      "outputs": [
        {
          "output_type": "stream",
          "text": [
            "train loss 17.795 valid loss 14.188\n",
            "train loss 12.570 valid loss 9.954\n",
            "train loss 9.221 valid loss 7.234\n",
            "train loss 6.891 valid loss 5.392\n",
            "train loss 5.182 valid loss 4.099\n",
            "train loss 3.899 valid loss 3.176\n",
            "train loss 2.958 valid loss 2.527\n",
            "train loss 2.281 valid loss 2.086\n",
            "train loss 1.797 valid loss 1.792\n",
            "train loss 1.428 valid loss 1.598\n",
            "train loss 1.168 valid loss 1.479\n",
            "train loss 0.984 valid loss 1.388\n",
            "train loss 0.870 valid loss 1.361\n",
            "train loss 0.775 valid loss 1.315\n",
            "train loss 0.722 valid loss 1.304\n",
            "train loss 0.674 valid loss 1.282\n",
            "train loss 0.630 valid loss 1.270\n",
            "train loss 0.614 valid loss 1.285\n",
            "train loss 0.596 valid loss 1.278\n",
            "train loss 0.580 valid loss 1.301\n"
          ],
          "name": "stdout"
        }
      ]
    },
    {
      "cell_type": "code",
      "metadata": {
        "id": "xgSTkdrEY77r",
        "colab_type": "code",
        "colab": {
          "base_uri": "https://localhost:8080/",
          "height": 187
        },
        "outputId": "7b0cb198-8624-4572-fcc9-0492b4954a5b"
      },
      "source": [
        "train_epocs(model, optimizer, train_dl, valid_dl, max_lr=0.001, epochs=10)"
      ],
      "execution_count": 58,
      "outputs": [
        {
          "output_type": "stream",
          "text": [
            "train loss 0.538 valid loss 1.295\n",
            "train loss 0.531 valid loss 1.290\n",
            "train loss 0.533 valid loss 1.290\n",
            "train loss 0.532 valid loss 1.285\n",
            "train loss 0.522 valid loss 1.283\n",
            "train loss 0.517 valid loss 1.281\n",
            "train loss 0.519 valid loss 1.280\n",
            "train loss 0.513 valid loss 1.279\n",
            "train loss 0.512 valid loss 1.276\n",
            "train loss 0.514 valid loss 1.275\n"
          ],
          "name": "stdout"
        }
      ]
    },
    {
      "cell_type": "code",
      "metadata": {
        "id": "TiuWnrcwY77t",
        "colab_type": "code",
        "colab": {}
      },
      "source": [
        ""
      ],
      "execution_count": 58,
      "outputs": []
    }
  ]
}