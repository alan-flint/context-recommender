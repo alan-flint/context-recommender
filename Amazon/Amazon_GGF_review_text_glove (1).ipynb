{
  "nbformat": 4,
  "nbformat_minor": 0,
  "metadata": {
    "kernelspec": {
      "display_name": "Python 3",
      "language": "python",
      "name": "python3"
    },
    "language_info": {
      "codemirror_mode": {
        "name": "ipython",
        "version": 3
      },
      "file_extension": ".py",
      "mimetype": "text/x-python",
      "name": "python",
      "nbconvert_exporter": "python",
      "pygments_lexer": "ipython3",
      "version": "3.6.10"
    },
    "colab": {
      "name": "Amazon_GGF_review_text_glove.ipynb",
      "provenance": [],
      "collapsed_sections": []
    },
    "accelerator": "GPU"
  },
  "cells": [
    {
      "cell_type": "code",
      "metadata": {
        "id": "lyYIMBNv2Rd9",
        "colab_type": "code",
        "colab": {}
      },
      "source": [
        "from pathlib import Path\n",
        "import pandas as pd\n",
        "pd.options.mode.chained_assignment = None\n",
        "import numpy as np\n",
        "\n",
        "import torch\n",
        "import torch.nn as nn\n",
        "import torch.nn.functional as F\n",
        "from torch.utils.data import Dataset, DataLoader\n",
        "from torch.nn.utils.rnn import pack_padded_sequence\n",
        "\n",
        "from sklearn.model_selection import train_test_split\n",
        "from collections import Counter"
      ],
      "execution_count": 1,
      "outputs": []
    },
    {
      "cell_type": "code",
      "metadata": {
        "id": "YXWieKeF2ReF",
        "colab_type": "code",
        "colab": {}
      },
      "source": [
        "import gzip\n",
        "import json\n",
        "import io\n",
        "\n",
        "def parse(path):\n",
        "    g = gzip.open(path, 'rb')\n",
        "    for l in g:\n",
        "        yield json.loads(l)\n",
        "\n",
        "def unpack_dataset():\n",
        "    ! wget http://deepyeti.ucsd.edu/jianmo/amazon/categoryFilesSmall/Grocery_and_Gourmet_Food_5.json.gz\n",
        "    ! mkdir data\n",
        "    ! mv Gro* data\n",
        "\n",
        "def getDF(path):\n",
        "    i = 0\n",
        "    df = {}\n",
        "    for d in parse(path):\n",
        "        df[i] = d\n",
        "        i += 1\n",
        "    return pd.DataFrame.from_dict(df, orient='index')"
      ],
      "execution_count": 2,
      "outputs": []
    },
    {
      "cell_type": "code",
      "metadata": {
        "id": "ltyYFeOX2iUW",
        "colab_type": "code",
        "colab": {
          "base_uri": "https://localhost:8080/",
          "height": 204
        },
        "outputId": "521f7d7b-624a-4180-9b0d-8d0d3a7ac932"
      },
      "source": [
        "unpack_dataset()\n"
      ],
      "execution_count": 3,
      "outputs": [
        {
          "output_type": "stream",
          "text": [
            "--2020-06-24 06:09:47--  http://deepyeti.ucsd.edu/jianmo/amazon/categoryFilesSmall/Grocery_and_Gourmet_Food_5.json.gz\n",
            "Resolving deepyeti.ucsd.edu (deepyeti.ucsd.edu)... 169.228.63.50\n",
            "Connecting to deepyeti.ucsd.edu (deepyeti.ucsd.edu)|169.228.63.50|:80... connected.\n",
            "HTTP request sent, awaiting response... 200 OK\n",
            "Length: 146631394 (140M) [application/octet-stream]\n",
            "Saving to: ‘Grocery_and_Gourmet_Food_5.json.gz’\n",
            "\n",
            "Grocery_and_Gourmet 100%[===================>] 139.84M  19.5MB/s    in 8.1s    \n",
            "\n",
            "2020-06-24 06:09:56 (17.3 MB/s) - ‘Grocery_and_Gourmet_Food_5.json.gz’ saved [146631394/146631394]\n",
            "\n"
          ],
          "name": "stdout"
        }
      ]
    },
    {
      "cell_type": "code",
      "metadata": {
        "id": "gZcaI8PR2igx",
        "colab_type": "code",
        "colab": {}
      },
      "source": [
        ""
      ],
      "execution_count": 3,
      "outputs": []
    },
    {
      "cell_type": "code",
      "metadata": {
        "id": "ayIP650E2ReH",
        "colab_type": "code",
        "colab": {}
      },
      "source": [
        "data = getDF('data/Grocery_and_Gourmet_Food_5.json.gz')\n"
      ],
      "execution_count": 4,
      "outputs": []
    },
    {
      "cell_type": "code",
      "metadata": {
        "id": "pHjRJRMG2ReK",
        "colab_type": "code",
        "colab": {}
      },
      "source": [
        "data = data.loc[(data.reviewTime.str.contains('2018'))] #| (data.reviewTime.str.contains('2016')) | (data.reviewTime.str.contains('2017')) | (data.reviewTime.str.contains('2018'))]\n"
      ],
      "execution_count": 6,
      "outputs": []
    },
    {
      "cell_type": "code",
      "metadata": {
        "id": "GxxBasQo2ReP",
        "colab_type": "code",
        "colab": {
          "base_uri": "https://localhost:8080/",
          "height": 34
        },
        "outputId": "6b2eb3c9-f747-42ce-f239-b30397217fcd"
      },
      "source": [
        "data.shape"
      ],
      "execution_count": 7,
      "outputs": [
        {
          "output_type": "execute_result",
          "data": {
            "text/plain": [
              "(98253, 12)"
            ]
          },
          "metadata": {
            "tags": []
          },
          "execution_count": 7
        }
      ]
    },
    {
      "cell_type": "code",
      "metadata": {
        "id": "AM4svA-Z2ReV",
        "colab_type": "code",
        "colab": {
          "base_uri": "https://localhost:8080/",
          "height": 408
        },
        "outputId": "f4a0d073-bf0e-41ba-bd98-736a02a34eed"
      },
      "source": [
        "data.head()"
      ],
      "execution_count": 8,
      "outputs": [
        {
          "output_type": "execute_result",
          "data": {
            "text/html": [
              "<div>\n",
              "<style scoped>\n",
              "    .dataframe tbody tr th:only-of-type {\n",
              "        vertical-align: middle;\n",
              "    }\n",
              "\n",
              "    .dataframe tbody tr th {\n",
              "        vertical-align: top;\n",
              "    }\n",
              "\n",
              "    .dataframe thead th {\n",
              "        text-align: right;\n",
              "    }\n",
              "</style>\n",
              "<table border=\"1\" class=\"dataframe\">\n",
              "  <thead>\n",
              "    <tr style=\"text-align: right;\">\n",
              "      <th></th>\n",
              "      <th>overall</th>\n",
              "      <th>verified</th>\n",
              "      <th>reviewTime</th>\n",
              "      <th>reviewerID</th>\n",
              "      <th>asin</th>\n",
              "      <th>reviewerName</th>\n",
              "      <th>reviewText</th>\n",
              "      <th>summary</th>\n",
              "      <th>unixReviewTime</th>\n",
              "      <th>vote</th>\n",
              "      <th>style</th>\n",
              "      <th>image</th>\n",
              "    </tr>\n",
              "  </thead>\n",
              "  <tbody>\n",
              "    <tr>\n",
              "      <th>50</th>\n",
              "      <td>5.0</td>\n",
              "      <td>True</td>\n",
              "      <td>03 20, 2018</td>\n",
              "      <td>A1U32SY2BN1I4T</td>\n",
              "      <td>9742356831</td>\n",
              "      <td>R. Barath</td>\n",
              "      <td>Use very sparingly unless you love very spicy ...</td>\n",
              "      <td>Five Stars</td>\n",
              "      <td>1521504000</td>\n",
              "      <td>NaN</td>\n",
              "      <td>NaN</td>\n",
              "      <td>NaN</td>\n",
              "    </tr>\n",
              "    <tr>\n",
              "      <th>51</th>\n",
              "      <td>5.0</td>\n",
              "      <td>True</td>\n",
              "      <td>03 15, 2018</td>\n",
              "      <td>A2ULESH6GADUEW</td>\n",
              "      <td>9742356831</td>\n",
              "      <td>Stetson and Megan Jenkins</td>\n",
              "      <td>I LOVE this curry paste.  It beats Thai Kitche...</td>\n",
              "      <td>Best curry paste HANDS DOWN, plus, it'll last ...</td>\n",
              "      <td>1521072000</td>\n",
              "      <td>NaN</td>\n",
              "      <td>NaN</td>\n",
              "      <td>NaN</td>\n",
              "    </tr>\n",
              "    <tr>\n",
              "      <th>52</th>\n",
              "      <td>3.0</td>\n",
              "      <td>True</td>\n",
              "      <td>03 13, 2018</td>\n",
              "      <td>A1TI6UAU422P4Y</td>\n",
              "      <td>9742356831</td>\n",
              "      <td>E. Scott</td>\n",
              "      <td>Has good flavor, but flavor should be stronger...</td>\n",
              "      <td>Three Stars</td>\n",
              "      <td>1520899200</td>\n",
              "      <td>NaN</td>\n",
              "      <td>NaN</td>\n",
              "      <td>NaN</td>\n",
              "    </tr>\n",
              "    <tr>\n",
              "      <th>53</th>\n",
              "      <td>5.0</td>\n",
              "      <td>True</td>\n",
              "      <td>01 11, 2018</td>\n",
              "      <td>A3VG446SHJH37O</td>\n",
              "      <td>9742356831</td>\n",
              "      <td>PLee</td>\n",
              "      <td>Absolutely LOVE this!!! It's spicy but sooooo ...</td>\n",
              "      <td>LOVE!</td>\n",
              "      <td>1515628800</td>\n",
              "      <td>NaN</td>\n",
              "      <td>NaN</td>\n",
              "      <td>NaN</td>\n",
              "    </tr>\n",
              "    <tr>\n",
              "      <th>509</th>\n",
              "      <td>5.0</td>\n",
              "      <td>True</td>\n",
              "      <td>04 12, 2018</td>\n",
              "      <td>A2ZKFKG2PMJA3A</td>\n",
              "      <td>B00008RCN8</td>\n",
              "      <td>tr@st</td>\n",
              "      <td>tastes good</td>\n",
              "      <td>freshhhh</td>\n",
              "      <td>1523491200</td>\n",
              "      <td>NaN</td>\n",
              "      <td>NaN</td>\n",
              "      <td>NaN</td>\n",
              "    </tr>\n",
              "  </tbody>\n",
              "</table>\n",
              "</div>"
            ],
            "text/plain": [
              "     overall  verified   reviewTime  ... vote style image\n",
              "50       5.0      True  03 20, 2018  ...  NaN   NaN   NaN\n",
              "51       5.0      True  03 15, 2018  ...  NaN   NaN   NaN\n",
              "52       3.0      True  03 13, 2018  ...  NaN   NaN   NaN\n",
              "53       5.0      True  01 11, 2018  ...  NaN   NaN   NaN\n",
              "509      5.0      True  04 12, 2018  ...  NaN   NaN   NaN\n",
              "\n",
              "[5 rows x 12 columns]"
            ]
          },
          "metadata": {
            "tags": []
          },
          "execution_count": 8
        }
      ]
    },
    {
      "cell_type": "code",
      "metadata": {
        "id": "KIJzk57K2ReY",
        "colab_type": "code",
        "colab": {}
      },
      "source": [
        "# now use user, item, reviewText & ratings\n",
        "df = data[['asin', 'reviewerID', 'reviewText', 'overall']]\n",
        "df.columns = ['place', 'user', 'review', 'rating']"
      ],
      "execution_count": 10,
      "outputs": []
    },
    {
      "cell_type": "code",
      "metadata": {
        "id": "0oyq3OfD2Rea",
        "colab_type": "code",
        "colab": {}
      },
      "source": [
        "del data"
      ],
      "execution_count": 11,
      "outputs": []
    },
    {
      "cell_type": "code",
      "metadata": {
        "id": "BSWxhFHs2Rec",
        "colab_type": "code",
        "colab": {
          "base_uri": "https://localhost:8080/",
          "height": 204
        },
        "outputId": "e560d6ef-4cdd-47ce-885b-b110b6ab8550"
      },
      "source": [
        "df.head()"
      ],
      "execution_count": 12,
      "outputs": [
        {
          "output_type": "execute_result",
          "data": {
            "text/html": [
              "<div>\n",
              "<style scoped>\n",
              "    .dataframe tbody tr th:only-of-type {\n",
              "        vertical-align: middle;\n",
              "    }\n",
              "\n",
              "    .dataframe tbody tr th {\n",
              "        vertical-align: top;\n",
              "    }\n",
              "\n",
              "    .dataframe thead th {\n",
              "        text-align: right;\n",
              "    }\n",
              "</style>\n",
              "<table border=\"1\" class=\"dataframe\">\n",
              "  <thead>\n",
              "    <tr style=\"text-align: right;\">\n",
              "      <th></th>\n",
              "      <th>place</th>\n",
              "      <th>user</th>\n",
              "      <th>review</th>\n",
              "      <th>rating</th>\n",
              "    </tr>\n",
              "  </thead>\n",
              "  <tbody>\n",
              "    <tr>\n",
              "      <th>50</th>\n",
              "      <td>9742356831</td>\n",
              "      <td>A1U32SY2BN1I4T</td>\n",
              "      <td>Use very sparingly unless you love very spicy ...</td>\n",
              "      <td>5.0</td>\n",
              "    </tr>\n",
              "    <tr>\n",
              "      <th>51</th>\n",
              "      <td>9742356831</td>\n",
              "      <td>A2ULESH6GADUEW</td>\n",
              "      <td>I LOVE this curry paste.  It beats Thai Kitche...</td>\n",
              "      <td>5.0</td>\n",
              "    </tr>\n",
              "    <tr>\n",
              "      <th>52</th>\n",
              "      <td>9742356831</td>\n",
              "      <td>A1TI6UAU422P4Y</td>\n",
              "      <td>Has good flavor, but flavor should be stronger...</td>\n",
              "      <td>3.0</td>\n",
              "    </tr>\n",
              "    <tr>\n",
              "      <th>53</th>\n",
              "      <td>9742356831</td>\n",
              "      <td>A3VG446SHJH37O</td>\n",
              "      <td>Absolutely LOVE this!!! It's spicy but sooooo ...</td>\n",
              "      <td>5.0</td>\n",
              "    </tr>\n",
              "    <tr>\n",
              "      <th>509</th>\n",
              "      <td>B00008RCN8</td>\n",
              "      <td>A2ZKFKG2PMJA3A</td>\n",
              "      <td>tastes good</td>\n",
              "      <td>5.0</td>\n",
              "    </tr>\n",
              "  </tbody>\n",
              "</table>\n",
              "</div>"
            ],
            "text/plain": [
              "          place  ... rating\n",
              "50   9742356831  ...    5.0\n",
              "51   9742356831  ...    5.0\n",
              "52   9742356831  ...    3.0\n",
              "53   9742356831  ...    5.0\n",
              "509  B00008RCN8  ...    5.0\n",
              "\n",
              "[5 rows x 4 columns]"
            ]
          },
          "metadata": {
            "tags": []
          },
          "execution_count": 12
        }
      ]
    },
    {
      "cell_type": "markdown",
      "metadata": {
        "id": "VeAdBnYD2Ree",
        "colab_type": "text"
      },
      "source": [
        "## Split Train/Validation"
      ]
    },
    {
      "cell_type": "code",
      "metadata": {
        "id": "b3p928C-2Ree",
        "colab_type": "code",
        "colab": {
          "base_uri": "https://localhost:8080/",
          "height": 34
        },
        "outputId": "75641956-fa50-4e14-e312-669848b7c472"
      },
      "source": [
        "train, val = train_test_split(df, test_size=0.2)\n",
        "train.shape, val.shape"
      ],
      "execution_count": 13,
      "outputs": [
        {
          "output_type": "execute_result",
          "data": {
            "text/plain": [
              "((78602, 4), (19651, 4))"
            ]
          },
          "metadata": {
            "tags": []
          },
          "execution_count": 13
        }
      ]
    },
    {
      "cell_type": "code",
      "metadata": {
        "id": "k_hgQ4_52Reh",
        "colab_type": "code",
        "colab": {}
      },
      "source": [
        "del df"
      ],
      "execution_count": 14,
      "outputs": []
    },
    {
      "cell_type": "markdown",
      "metadata": {
        "id": "JRS_4gkN2Rej",
        "colab_type": "text"
      },
      "source": [
        "## Encode Places and Users"
      ]
    },
    {
      "cell_type": "code",
      "metadata": {
        "id": "nb0ZRe2J2Rej",
        "colab_type": "code",
        "colab": {}
      },
      "source": [
        "def encode_cols(train, val, cols):\n",
        "    for col in cols:\n",
        "        uniq = train[col].unique()\n",
        "        col2idx = {val: i for i, val in enumerate(uniq)}\n",
        "        train[col] = train[col].apply(lambda x: col2idx.get(x, -1))\n",
        "        val[col] = val[col].apply(lambda x: col2idx.get(x, -1))\n",
        "        val = val.loc[val[col] >= 0] \n",
        "    return train, val"
      ],
      "execution_count": 15,
      "outputs": []
    },
    {
      "cell_type": "code",
      "metadata": {
        "id": "mAj4ZZQ92Rel",
        "colab_type": "code",
        "colab": {}
      },
      "source": [
        "train_enc, val_enc = encode_cols(train, val, ['place', 'user'])"
      ],
      "execution_count": 16,
      "outputs": []
    },
    {
      "cell_type": "code",
      "metadata": {
        "id": "p5yRmTAc2Ren",
        "colab_type": "code",
        "colab": {
          "base_uri": "https://localhost:8080/",
          "height": 34
        },
        "outputId": "152795bc-8916-4726-b6e8-29554a13e421"
      },
      "source": [
        "len(train_enc.user.unique()), len(train_enc.place.unique())"
      ],
      "execution_count": 17,
      "outputs": [
        {
          "output_type": "execute_result",
          "data": {
            "text/plain": [
              "(32931, 19020)"
            ]
          },
          "metadata": {
            "tags": []
          },
          "execution_count": 17
        }
      ]
    },
    {
      "cell_type": "code",
      "metadata": {
        "id": "c1_0RqDr2Rep",
        "colab_type": "code",
        "colab": {
          "base_uri": "https://localhost:8080/",
          "height": 204
        },
        "outputId": "c3c368c5-4882-4d45-91d6-54dce528e405"
      },
      "source": [
        "train_enc.head()"
      ],
      "execution_count": 18,
      "outputs": [
        {
          "output_type": "execute_result",
          "data": {
            "text/html": [
              "<div>\n",
              "<style scoped>\n",
              "    .dataframe tbody tr th:only-of-type {\n",
              "        vertical-align: middle;\n",
              "    }\n",
              "\n",
              "    .dataframe tbody tr th {\n",
              "        vertical-align: top;\n",
              "    }\n",
              "\n",
              "    .dataframe thead th {\n",
              "        text-align: right;\n",
              "    }\n",
              "</style>\n",
              "<table border=\"1\" class=\"dataframe\">\n",
              "  <thead>\n",
              "    <tr style=\"text-align: right;\">\n",
              "      <th></th>\n",
              "      <th>place</th>\n",
              "      <th>user</th>\n",
              "      <th>review</th>\n",
              "      <th>rating</th>\n",
              "    </tr>\n",
              "  </thead>\n",
              "  <tbody>\n",
              "    <tr>\n",
              "      <th>951119</th>\n",
              "      <td>0</td>\n",
              "      <td>0</td>\n",
              "      <td>very bitter</td>\n",
              "      <td>3.0</td>\n",
              "    </tr>\n",
              "    <tr>\n",
              "      <th>1141375</th>\n",
              "      <td>1</td>\n",
              "      <td>1</td>\n",
              "      <td>The best of Nature Valley flavors. Good for br...</td>\n",
              "      <td>5.0</td>\n",
              "    </tr>\n",
              "    <tr>\n",
              "      <th>40189</th>\n",
              "      <td>2</td>\n",
              "      <td>2</td>\n",
              "      <td>This is yummy with 8-12 oz of almond milk</td>\n",
              "      <td>5.0</td>\n",
              "    </tr>\n",
              "    <tr>\n",
              "      <th>1137552</th>\n",
              "      <td>3</td>\n",
              "      <td>3</td>\n",
              "      <td>I love this bread! Nice and fresh!</td>\n",
              "      <td>5.0</td>\n",
              "    </tr>\n",
              "    <tr>\n",
              "      <th>1006747</th>\n",
              "      <td>4</td>\n",
              "      <td>4</td>\n",
              "      <td>Very good Quinoa - fully pre rinsed, I just co...</td>\n",
              "      <td>5.0</td>\n",
              "    </tr>\n",
              "  </tbody>\n",
              "</table>\n",
              "</div>"
            ],
            "text/plain": [
              "         place  user                                             review  rating\n",
              "951119       0     0                                        very bitter     3.0\n",
              "1141375      1     1  The best of Nature Valley flavors. Good for br...     5.0\n",
              "40189        2     2          This is yummy with 8-12 oz of almond milk     5.0\n",
              "1137552      3     3                 I love this bread! Nice and fresh!     5.0\n",
              "1006747      4     4  Very good Quinoa - fully pre rinsed, I just co...     5.0"
            ]
          },
          "metadata": {
            "tags": []
          },
          "execution_count": 18
        }
      ]
    },
    {
      "cell_type": "markdown",
      "metadata": {
        "id": "xZfDjyMn2Rer",
        "colab_type": "text"
      },
      "source": [
        "## Get text from reviews, create vocab"
      ]
    },
    {
      "cell_type": "code",
      "metadata": {
        "id": "-nb5d9ok2Rer",
        "colab_type": "code",
        "colab": {}
      },
      "source": [
        "place_reviews = train_enc.groupby('place').review.apply(list)"
      ],
      "execution_count": 19,
      "outputs": []
    },
    {
      "cell_type": "code",
      "metadata": {
        "id": "UlpjiZtG2Ret",
        "colab_type": "code",
        "colab": {
          "base_uri": "https://localhost:8080/",
          "height": 34
        },
        "outputId": "b0de31b8-9b2f-4c30-8d56-a2e305240497"
      },
      "source": [
        "len(place_reviews), sum([any(review_list) for review_list in place_reviews.values])"
      ],
      "execution_count": 20,
      "outputs": [
        {
          "output_type": "execute_result",
          "data": {
            "text/plain": [
              "(19020, 19020)"
            ]
          },
          "metadata": {
            "tags": []
          },
          "execution_count": 20
        }
      ]
    },
    {
      "cell_type": "code",
      "metadata": {
        "id": "0RHbMgr22Rew",
        "colab_type": "code",
        "colab": {}
      },
      "source": [
        "# 261 places without any reviews our ot 10476"
      ],
      "execution_count": 21,
      "outputs": []
    },
    {
      "cell_type": "code",
      "metadata": {
        "id": "ABqLo1l02Rex",
        "colab_type": "code",
        "colab": {}
      },
      "source": [
        "place_reviews = place_reviews.apply(lambda x: ' '.join([str(rev) for rev in x]))"
      ],
      "execution_count": 28,
      "outputs": []
    },
    {
      "cell_type": "code",
      "metadata": {
        "id": "u2n4DXX92Rez",
        "colab_type": "code",
        "colab": {
          "base_uri": "https://localhost:8080/",
          "height": 85
        },
        "outputId": "21b4dd5f-7761-4093-92c8-5c2391041bb4"
      },
      "source": [
        "place_reviews.head(2)"
      ],
      "execution_count": 29,
      "outputs": [
        {
          "output_type": "execute_result",
          "data": {
            "text/plain": [
              "place\n",
              "0    very bitter SUPER !!!!!! not bold enought for ...\n",
              "1    The best of Nature Valley flavors. Good for br...\n",
              "Name: review, dtype: object"
            ]
          },
          "metadata": {
            "tags": []
          },
          "execution_count": 29
        }
      ]
    },
    {
      "cell_type": "code",
      "metadata": {
        "id": "izoxXI152Re1",
        "colab_type": "code",
        "colab": {}
      },
      "source": [
        "import re"
      ],
      "execution_count": 30,
      "outputs": []
    },
    {
      "cell_type": "code",
      "metadata": {
        "id": "73sKvFgV2Re3",
        "colab_type": "code",
        "colab": {}
      },
      "source": [
        "def tok(text):\n",
        "    reg = re.findall(r\"[\\w']+|[.,!?;]\", text, re.UNICODE)\n",
        "    return [w.lower() for w in reg]"
      ],
      "execution_count": 31,
      "outputs": []
    },
    {
      "cell_type": "code",
      "metadata": {
        "id": "wYfLQv5k2Re6",
        "colab_type": "code",
        "colab": {
          "base_uri": "https://localhost:8080/",
          "height": 357
        },
        "outputId": "3f3b25ad-99de-4a4b-f2c5-684a0f05b919"
      },
      "source": [
        "tok(place_reviews.iloc[0])[:20]"
      ],
      "execution_count": 32,
      "outputs": [
        {
          "output_type": "execute_result",
          "data": {
            "text/plain": [
              "['very',\n",
              " 'bitter',\n",
              " 'super',\n",
              " '!',\n",
              " '!',\n",
              " '!',\n",
              " '!',\n",
              " '!',\n",
              " '!',\n",
              " 'not',\n",
              " 'bold',\n",
              " 'enought',\n",
              " 'for',\n",
              " 'me',\n",
              " 'great',\n",
              " 'coffee',\n",
              " '.',\n",
              " 'best',\n",
              " 'drip',\n",
              " 'coffee']"
            ]
          },
          "metadata": {
            "tags": []
          },
          "execution_count": 32
        }
      ]
    },
    {
      "cell_type": "code",
      "metadata": {
        "id": "EU1Bfi-e2Re8",
        "colab_type": "code",
        "colab": {}
      },
      "source": [
        "all_vocab = [word for review in place_reviews.values for word in tok(review)]"
      ],
      "execution_count": 33,
      "outputs": []
    },
    {
      "cell_type": "code",
      "metadata": {
        "id": "-8yg6XgZ2RfA",
        "colab_type": "code",
        "colab": {
          "base_uri": "https://localhost:8080/",
          "height": 34
        },
        "outputId": "f51423cf-c0ad-4793-b8b9-7b174a627382"
      },
      "source": [
        "len(all_vocab)"
      ],
      "execution_count": 34,
      "outputs": [
        {
          "output_type": "execute_result",
          "data": {
            "text/plain": [
              "2357689"
            ]
          },
          "metadata": {
            "tags": []
          },
          "execution_count": 34
        }
      ]
    },
    {
      "cell_type": "code",
      "metadata": {
        "id": "LZ52939U2RfD",
        "colab_type": "code",
        "colab": {
          "base_uri": "https://localhost:8080/",
          "height": 34
        },
        "outputId": "ae841ffa-926c-4a92-f6cf-d6a59b90249a"
      },
      "source": [
        "word_cts = Counter(all_vocab)\n",
        "len(word_cts)"
      ],
      "execution_count": 35,
      "outputs": [
        {
          "output_type": "execute_result",
          "data": {
            "text/plain": [
              "28121"
            ]
          },
          "metadata": {
            "tags": []
          },
          "execution_count": 35
        }
      ]
    },
    {
      "cell_type": "code",
      "metadata": {
        "id": "yifAr0u-2RfI",
        "colab_type": "code",
        "colab": {}
      },
      "source": [
        "del all_vocab"
      ],
      "execution_count": 36,
      "outputs": []
    },
    {
      "cell_type": "code",
      "metadata": {
        "id": "DAFana8-2RfK",
        "colab_type": "code",
        "colab": {}
      },
      "source": [
        "common = {k:v for k, v in word_cts.items() if v >= 5}\n",
        "vocab2idx = {'<PAD>': 0, 'UNK': 1}\n",
        "\n",
        "for i, (word, ct) in enumerate(common.items()):\n",
        "    if ct >= 5:\n",
        "        vocab2idx[word] = i + 2"
      ],
      "execution_count": 37,
      "outputs": []
    },
    {
      "cell_type": "code",
      "metadata": {
        "id": "iwoLeAOe2RfL",
        "colab_type": "code",
        "colab": {}
      },
      "source": [
        "del word_cts, common"
      ],
      "execution_count": 38,
      "outputs": []
    },
    {
      "cell_type": "code",
      "metadata": {
        "id": "NJJ3eV-C2RfO",
        "colab_type": "code",
        "colab": {
          "base_uri": "https://localhost:8080/",
          "height": 34
        },
        "outputId": "5f53e1e9-9edd-4bf3-8880-d321df749c67"
      },
      "source": [
        "len(vocab2idx)"
      ],
      "execution_count": 39,
      "outputs": [
        {
          "output_type": "execute_result",
          "data": {
            "text/plain": [
              "9430"
            ]
          },
          "metadata": {
            "tags": []
          },
          "execution_count": 39
        }
      ]
    },
    {
      "cell_type": "markdown",
      "metadata": {
        "id": "IYNPfROX2RfQ",
        "colab_type": "text"
      },
      "source": [
        "## Review to Vector"
      ]
    },
    {
      "cell_type": "code",
      "metadata": {
        "id": "RiSVsiI82RfQ",
        "colab_type": "code",
        "colab": {}
      },
      "source": [
        "place_reviews_tok = [tok(review) for review in place_reviews.values]"
      ],
      "execution_count": 40,
      "outputs": []
    },
    {
      "cell_type": "code",
      "metadata": {
        "id": "rvr17prD2RfT",
        "colab_type": "code",
        "colab": {
          "base_uri": "https://localhost:8080/",
          "height": 34
        },
        "outputId": "00b5dc0a-4b2e-4aed-c4ec-cef3a1e3b2f3"
      },
      "source": [
        "lens = [len(rev) for rev in place_reviews_tok]\n",
        "max(lens)"
      ],
      "execution_count": 41,
      "outputs": [
        {
          "output_type": "execute_result",
          "data": {
            "text/plain": [
              "12498"
            ]
          },
          "metadata": {
            "tags": []
          },
          "execution_count": 41
        }
      ]
    },
    {
      "cell_type": "code",
      "metadata": {
        "id": "PBd1FEar2RfV",
        "colab_type": "code",
        "colab": {}
      },
      "source": [
        "del lens"
      ],
      "execution_count": 42,
      "outputs": []
    },
    {
      "cell_type": "code",
      "metadata": {
        "id": "Sr9HQlLN2RfW",
        "colab_type": "code",
        "colab": {}
      },
      "source": [
        "def encode_review(review, N=6412):\n",
        "    enc1 = np.array([vocab2idx.get(w, vocab2idx[\"UNK\"]) for w in review])\n",
        "    enc = np.zeros(N, dtype=np.int32)\n",
        "    l = min(N, len(review))\n",
        "    enc[:l] = enc1[:l]\n",
        "    if l == 0:\n",
        "        l=1\n",
        "    return enc, l"
      ],
      "execution_count": 43,
      "outputs": []
    },
    {
      "cell_type": "code",
      "metadata": {
        "id": "mZF8CgiX2RfY",
        "colab_type": "code",
        "colab": {
          "base_uri": "https://localhost:8080/",
          "height": 34
        },
        "outputId": "2c43937b-cb55-4162-bae7-39c0ae852a57"
      },
      "source": [
        "encode_review(place_reviews_tok[0])"
      ],
      "execution_count": 44,
      "outputs": [
        {
          "output_type": "execute_result",
          "data": {
            "text/plain": [
              "(array([2, 3, 4, ..., 0, 0, 0], dtype=int32), 1419)"
            ]
          },
          "metadata": {
            "tags": []
          },
          "execution_count": 44
        }
      ]
    },
    {
      "cell_type": "markdown",
      "metadata": {
        "id": "LtiH4V6c2Rfa",
        "colab_type": "text"
      },
      "source": [
        "## Dataset and Data Loader"
      ]
    },
    {
      "cell_type": "code",
      "metadata": {
        "id": "TJ3sHspu2Rfa",
        "colab_type": "code",
        "colab": {}
      },
      "source": [
        "class AmazonDataset(Dataset):\n",
        "    def __init__(self, X, y, reviews):\n",
        "        self.user = X.user.values\n",
        "        self.place = X.place.values\n",
        "        self.y = y\n",
        "        self.reviews = reviews\n",
        "        \n",
        "    def __len__(self):\n",
        "        return len(self.y)\n",
        "    \n",
        "    def __getitem__(self, idx):\n",
        "        user = self.user[idx]\n",
        "        place = self.place[idx]\n",
        "        review_vec, l = encode_review(self.reviews[place])\n",
        "        return user, place, review_vec, l, self.y[idx]"
      ],
      "execution_count": 45,
      "outputs": []
    },
    {
      "cell_type": "code",
      "metadata": {
        "id": "uCJ2oPTM2Rfc",
        "colab_type": "code",
        "colab": {}
      },
      "source": [
        "train_ds = AmazonDataset(train_enc[['place', 'user']], train_enc.rating.values, place_reviews_tok)\n",
        "valid_ds = AmazonDataset(val_enc[['place', 'user']], val_enc.rating.values, place_reviews_tok)"
      ],
      "execution_count": 46,
      "outputs": []
    },
    {
      "cell_type": "code",
      "metadata": {
        "id": "hTYHgYXK2Rfd",
        "colab_type": "code",
        "colab": {
          "base_uri": "https://localhost:8080/",
          "height": 34
        },
        "outputId": "f72c0101-b658-4e49-8d1e-87cbbe2cfcc5"
      },
      "source": [
        "next(iter(train_ds))"
      ],
      "execution_count": 47,
      "outputs": [
        {
          "output_type": "execute_result",
          "data": {
            "text/plain": [
              "(0, 0, array([2, 3, 4, ..., 0, 0, 0], dtype=int32), 1419, 3.0)"
            ]
          },
          "metadata": {
            "tags": []
          },
          "execution_count": 47
        }
      ]
    },
    {
      "cell_type": "markdown",
      "metadata": {
        "id": "yYAOtEui2Rfe",
        "colab_type": "text"
      },
      "source": [
        "## Load Pre-Trained Glove"
      ]
    },
    {
      "cell_type": "code",
      "metadata": {
        "id": "l6fmr7np2Rff",
        "colab_type": "code",
        "colab": {}
      },
      "source": [
        "def loadGloveModel(gloveFile='data/glove.6B.50d.txt'):\n",
        "    \"\"\" Loads word vectors into a dictionary.\"\"\"\n",
        "    ! wget http://nlp.stanford.edu/data/glove.6B.zip\n",
        "    !unzip glove*.zip\n",
        "    ! mv gl* data\n",
        "\n",
        "    f = open(gloveFile,'r')\n",
        "    words = []\n",
        "    word_vecs = {}\n",
        "    for line in f:\n",
        "        splitLine = line.split()\n",
        "        word = splitLine[0]\n",
        "        words.append(word)\n",
        "        word_vecs[word] = np.array([float(val) for val in splitLine[1:]])\n",
        "    return word_vecs"
      ],
      "execution_count": 48,
      "outputs": []
    },
    {
      "cell_type": "code",
      "metadata": {
        "id": "YXPnkgr42Rfj",
        "colab_type": "code",
        "colab": {
          "base_uri": "https://localhost:8080/",
          "height": 442
        },
        "outputId": "b66353c0-7fb9-4c97-da13-69d6da9ce1ee"
      },
      "source": [
        "glove = loadGloveModel()"
      ],
      "execution_count": 49,
      "outputs": [
        {
          "output_type": "stream",
          "text": [
            "--2020-06-24 06:12:56--  http://nlp.stanford.edu/data/glove.6B.zip\n",
            "Resolving nlp.stanford.edu (nlp.stanford.edu)... 171.64.67.140\n",
            "Connecting to nlp.stanford.edu (nlp.stanford.edu)|171.64.67.140|:80... connected.\n",
            "HTTP request sent, awaiting response... 302 Found\n",
            "Location: https://nlp.stanford.edu/data/glove.6B.zip [following]\n",
            "--2020-06-24 06:12:56--  https://nlp.stanford.edu/data/glove.6B.zip\n",
            "Connecting to nlp.stanford.edu (nlp.stanford.edu)|171.64.67.140|:443... connected.\n",
            "HTTP request sent, awaiting response... 301 Moved Permanently\n",
            "Location: http://downloads.cs.stanford.edu/nlp/data/glove.6B.zip [following]\n",
            "--2020-06-24 06:12:57--  http://downloads.cs.stanford.edu/nlp/data/glove.6B.zip\n",
            "Resolving downloads.cs.stanford.edu (downloads.cs.stanford.edu)... 171.64.64.22\n",
            "Connecting to downloads.cs.stanford.edu (downloads.cs.stanford.edu)|171.64.64.22|:80... connected.\n",
            "HTTP request sent, awaiting response... 200 OK\n",
            "Length: 862182613 (822M) [application/zip]\n",
            "Saving to: ‘glove.6B.zip’\n",
            "\n",
            "glove.6B.zip        100%[===================>] 822.24M  2.18MB/s    in 6m 29s  \n",
            "\n",
            "2020-06-24 06:19:26 (2.11 MB/s) - ‘glove.6B.zip’ saved [862182613/862182613]\n",
            "\n",
            "Archive:  glove.6B.zip\n",
            "  inflating: glove.6B.50d.txt        \n",
            "  inflating: glove.6B.100d.txt       \n",
            "  inflating: glove.6B.200d.txt       \n",
            "  inflating: glove.6B.300d.txt       \n"
          ],
          "name": "stdout"
        }
      ]
    },
    {
      "cell_type": "code",
      "metadata": {
        "id": "f7aDSLfR2Rfl",
        "colab_type": "code",
        "colab": {}
      },
      "source": [
        "def create_embedding_matrix(word_vecs, vocab2index, emb_size=50):\n",
        "    \"\"\"Creates embedding matrix from word vectors. \"\"\" \n",
        "    V = len(vocab2index.keys())\n",
        "    W = np.random.uniform(-0.25,0.25, (V, emb_size)) # initialize random\n",
        "    # adding a vector for padding\n",
        "    W[0] = np.zeros(emb_size, dtype='float16')\n",
        "    for word, index in vocab2index.items():\n",
        "        if word in word_vecs:\n",
        "            W[index] = word_vecs[word]\n",
        "    return W"
      ],
      "execution_count": 50,
      "outputs": []
    },
    {
      "cell_type": "code",
      "metadata": {
        "id": "-RtptPs22Rfn",
        "colab_type": "code",
        "colab": {
          "base_uri": "https://localhost:8080/",
          "height": 34
        },
        "outputId": "9cadf13f-47c2-40e2-ae18-437b212db67f"
      },
      "source": [
        "max([v for k, v in vocab2idx.items()])"
      ],
      "execution_count": 51,
      "outputs": [
        {
          "output_type": "execute_result",
          "data": {
            "text/plain": [
              "9429"
            ]
          },
          "metadata": {
            "tags": []
          },
          "execution_count": 51
        }
      ]
    },
    {
      "cell_type": "code",
      "metadata": {
        "id": "U7MOxg5f2Rfp",
        "colab_type": "code",
        "colab": {}
      },
      "source": [
        "W = create_embedding_matrix(glove, vocab2idx)"
      ],
      "execution_count": 52,
      "outputs": []
    },
    {
      "cell_type": "code",
      "metadata": {
        "id": "IElB1VNG2Rfs",
        "colab_type": "code",
        "colab": {}
      },
      "source": [
        "del glove"
      ],
      "execution_count": 53,
      "outputs": []
    },
    {
      "cell_type": "markdown",
      "metadata": {
        "id": "bQME9QTz2Rfu",
        "colab_type": "text"
      },
      "source": [
        "## Model"
      ]
    },
    {
      "cell_type": "code",
      "metadata": {
        "id": "wuzEkjnf2Rfu",
        "colab_type": "code",
        "colab": {}
      },
      "source": [
        "class Context_MF_bias(nn.Module):\n",
        "    def __init__(self, num_users, num_places, vocab_size,  emb_size=50, glove_weights=None, bias=True):\n",
        "        super(Context_MF_bias, self).__init__()\n",
        "        self.user_emb = nn.Embedding(num_users, emb_size)\n",
        "        self.place_emb = nn.Embedding(num_places, emb_size)\n",
        "        self.user_emb.weight.data.uniform_(0,0.05)\n",
        "        self.place_emb.weight.data.uniform_(0,0.05)\n",
        "        self.bias = bias\n",
        "        if self.bias:\n",
        "            self.user_bias = nn.Embedding(num_users, 1)\n",
        "            self.place_bias = nn.Embedding(num_places, 1)\n",
        "            self.user_bias.weight.data.uniform_(-0.01,0.01)\n",
        "            self.place_emb.weight.data.uniform_(-0.01,0.01)\n",
        "        \n",
        "        self.embeddings = nn.Embedding(vocab_size, emb_size, padding_idx=0)\n",
        "        if glove_weights is not None:\n",
        "            self.embeddings.weight.data.copy_(torch.from_numpy(glove_weights))\n",
        "            self.embeddings.weight.requires_grad = False ## freeze embeddings\n",
        "        \n",
        "        # input dim and hidden dim must be the same to later combine item vec and review vec\n",
        "        self.gru = nn.GRU(emb_size, emb_size, batch_first=True) \n",
        "        self.dropout = nn.Dropout(0.3)\n",
        "        \n",
        "    def forward(self, u, v, v_review, l):\n",
        "        U = self.user_emb(u)\n",
        "        V = self.place_emb(v)\n",
        "        U, V = self.dropout(U), self.dropout(V)\n",
        "        \n",
        "        emb = self.embeddings(v_review)\n",
        "        emb = self.dropout(emb)\n",
        "        pack1 = pack_padded_sequence(emb, l, batch_first=True, enforce_sorted=False)\n",
        "        _, h1 = self.gru(pack1)\n",
        "        \n",
        "        V_rev = h1[-1]\n",
        "        \n",
        "        V = torch.stack([V, V_rev], dim=1) # combines item vector with review vector\n",
        "        V = torch.mean(V, dim=1)   # still dim 50, avg at each dim from item/review vec\n",
        "        \n",
        "        if self.bias:\n",
        "            b_u = self.user_bias(u).squeeze()\n",
        "            b_v = self.place_bias(v).squeeze()\n",
        "            return (U*V).sum(1) +  b_u  + b_v\n",
        "        \n",
        "        return (U*V).sum(1)"
      ],
      "execution_count": 54,
      "outputs": []
    },
    {
      "cell_type": "markdown",
      "metadata": {
        "id": "o29LhDSY2Rfx",
        "colab_type": "text"
      },
      "source": [
        "## Training Functions"
      ]
    },
    {
      "cell_type": "code",
      "metadata": {
        "id": "TciROMcP2Rfx",
        "colab_type": "code",
        "colab": {}
      },
      "source": [
        "def cosine_segment(start_lr, end_lr, iterations):\n",
        "    i = np.arange(iterations)\n",
        "    c_i = 1 + np.cos(i*np.pi/iterations)\n",
        "    return end_lr + (start_lr - end_lr)/2 *c_i\n",
        "\n",
        "def get_cosine_triangular_lr(max_lr, iterations, div_start=5, div_end=5):\n",
        "    min_start, min_end = max_lr/div_start, max_lr/div_end\n",
        "    iter1 = int(0.3*iterations)\n",
        "    iter2 = iterations - iter1\n",
        "    segs = [cosine_segment(min_start, max_lr, iter1), cosine_segment(max_lr, min_end, iter2)]\n",
        "    return np.concatenate(segs)"
      ],
      "execution_count": 55,
      "outputs": []
    },
    {
      "cell_type": "code",
      "metadata": {
        "id": "pcopOU-J2Rfz",
        "colab_type": "code",
        "colab": {}
      },
      "source": [
        "def set_learning_rate(optimizer, lr):\n",
        "    \"\"\"Changing learning rates without creating a new optimizer\"\"\"\n",
        "    for param_group in optimizer.param_groups:\n",
        "        param_group['lr'] = lr"
      ],
      "execution_count": 56,
      "outputs": []
    },
    {
      "cell_type": "code",
      "metadata": {
        "id": "EKkGHQSq2Rf0",
        "colab_type": "code",
        "colab": {}
      },
      "source": [
        "def train_epocs(model, optimzer, train_dl, valid_dl, epochs=10, max_lr=0.01):\n",
        "    iterations = epochs*len(train_dl)\n",
        "    lrs = get_cosine_triangular_lr(max_lr, iterations)\n",
        "    vals = []\n",
        "    for epoch in range(epochs):\n",
        "        model.train()\n",
        "        sum_loss = 0.0\n",
        "        total = 0\n",
        "        i = 0\n",
        "        for u, v, v_rev, l, y in train_dl:\n",
        "            set_learning_rate(optimizer, lrs[i])\n",
        "            users = u.long().cuda()\n",
        "            places = v.long().cuda()\n",
        "            review_vec = v_rev.long().cuda()\n",
        "            ratings = y.float().cuda()\n",
        "            y_hat = model(users, places, review_vec, l)\n",
        "            loss = F.mse_loss(y_hat, ratings)\n",
        "            optimizer.zero_grad()\n",
        "            loss.backward()\n",
        "            optimizer.step()\n",
        "            sum_loss += loss.item()*y.shape[0]\n",
        "            total += y.shape[0]\n",
        "            i += 1\n",
        "        val_loss = val_metrics(model, valid_dl)\n",
        "        vals.append(val_loss)\n",
        "        #if epoch % 10 == 0: \n",
        "        print(f\"train loss {sum_loss/total:.3f} valid loss {val_loss:.3f}\") #valid accuracy {testaccur:.5f}"
      ],
      "execution_count": 57,
      "outputs": []
    },
    {
      "cell_type": "code",
      "metadata": {
        "id": "LFRrkI0R2Rf2",
        "colab_type": "code",
        "colab": {}
      },
      "source": [
        "def val_metrics(model, valid_dl):\n",
        "    with torch.no_grad(): # reduce memory\n",
        "        model.eval()\n",
        "        correct = 0\n",
        "        total = 0\n",
        "        sum_loss = 0.0\n",
        "        for u, v, v_rev, l, y in valid_dl:\n",
        "            users = u.long().cuda()\n",
        "            places = v.long().cuda()\n",
        "            review_vec = v_rev.long().cuda()\n",
        "            ratings = y.float().cuda()\n",
        "            y_hat = model(users, places, review_vec, l)\n",
        "            loss = F.mse_loss(y_hat, ratings)\n",
        "            #y_pred = y_hat > 0\n",
        "            #correct += (y_pred.float() == y).float().sum()\n",
        "            total += y.shape[0]\n",
        "            sum_loss += loss.item()*y.shape[0]\n",
        "    return sum_loss/total #, correct/total"
      ],
      "execution_count": 58,
      "outputs": []
    },
    {
      "cell_type": "markdown",
      "metadata": {
        "id": "gqvdnPqi2Rf3",
        "colab_type": "text"
      },
      "source": [
        "## Train with Glove"
      ]
    },
    {
      "cell_type": "code",
      "metadata": {
        "id": "Mwuoqc0s2Rf4",
        "colab_type": "code",
        "colab": {
          "base_uri": "https://localhost:8080/",
          "height": 34
        },
        "outputId": "129784dd-8cdc-4c19-8373-0f2a2be7e6ad"
      },
      "source": [
        "len(train_enc)"
      ],
      "execution_count": 59,
      "outputs": [
        {
          "output_type": "execute_result",
          "data": {
            "text/plain": [
              "78602"
            ]
          },
          "metadata": {
            "tags": []
          },
          "execution_count": 59
        }
      ]
    },
    {
      "cell_type": "code",
      "metadata": {
        "id": "CrhlocL-2Rf8",
        "colab_type": "code",
        "colab": {}
      },
      "source": [
        "batch_size = 2_500\n",
        "train_dl = DataLoader(train_ds, batch_size=batch_size, shuffle=True)\n",
        "valid_dl = DataLoader(valid_ds, batch_size=batch_size)"
      ],
      "execution_count": 60,
      "outputs": []
    },
    {
      "cell_type": "code",
      "metadata": {
        "id": "nguS900_2Rf-",
        "colab_type": "code",
        "colab": {
          "base_uri": "https://localhost:8080/",
          "height": 34
        },
        "outputId": "5d656a9b-a354-4727-f032-c94372e2d5b9"
      },
      "source": [
        "num_places, num_users, V = len(train_enc.place.unique()), len(train_enc.user.unique()), len(vocab2idx.keys())\n",
        "num_places, num_users, V"
      ],
      "execution_count": 61,
      "outputs": [
        {
          "output_type": "execute_result",
          "data": {
            "text/plain": [
              "(19020, 32931, 9430)"
            ]
          },
          "metadata": {
            "tags": []
          },
          "execution_count": 61
        }
      ]
    },
    {
      "cell_type": "code",
      "metadata": {
        "id": "wHZmTkCb2RgE",
        "colab_type": "code",
        "colab": {}
      },
      "source": [
        "torch.cuda.empty_cache()"
      ],
      "execution_count": 62,
      "outputs": []
    },
    {
      "cell_type": "code",
      "metadata": {
        "id": "0tDYlKaJ2RgG",
        "colab_type": "code",
        "colab": {}
      },
      "source": [
        "model_glove = Context_MF_bias(num_users, num_places, V, emb_size=50, bias=False, glove_weights=W).cuda()"
      ],
      "execution_count": 63,
      "outputs": []
    },
    {
      "cell_type": "code",
      "metadata": {
        "id": "-BmH9bBt2RgI",
        "colab_type": "code",
        "colab": {}
      },
      "source": [
        "parameters = filter(lambda p: p.requires_grad, model_glove.parameters())\n",
        "optimizer = torch.optim.Adam(parameters, lr=0.01, weight_decay=1e-5)"
      ],
      "execution_count": 64,
      "outputs": []
    },
    {
      "cell_type": "code",
      "metadata": {
        "id": "jRDjAp072RgJ",
        "colab_type": "code",
        "colab": {
          "base_uri": "https://localhost:8080/",
          "height": 102
        },
        "outputId": "e3d3d0ee-844c-45ff-ba6e-b5e98ba641cf"
      },
      "source": [
        "train_epocs(model_glove, optimizer, train_dl, valid_dl, max_lr=0.01, epochs=5)"
      ],
      "execution_count": 65,
      "outputs": [
        {
          "output_type": "stream",
          "text": [
            "train loss 18.620 valid loss 13.990\n",
            "train loss 11.792 valid loss 8.230\n",
            "train loss 6.819 valid loss 4.851\n",
            "train loss 4.052 valid loss 3.099\n",
            "train loss 2.591 valid loss 2.197\n"
          ],
          "name": "stdout"
        }
      ]
    },
    {
      "cell_type": "code",
      "metadata": {
        "id": "sslkzk0K2RgL",
        "colab_type": "code",
        "colab": {}
      },
      "source": [
        "# unfreezing the embeddings\n",
        "model_glove.embeddings.weight.requires_grad = True\n",
        "parameters = filter(lambda p: p.requires_grad, model_glove.parameters())"
      ],
      "execution_count": 66,
      "outputs": []
    },
    {
      "cell_type": "code",
      "metadata": {
        "id": "4Sfr3zDo2RgP",
        "colab_type": "code",
        "colab": {
          "base_uri": "https://localhost:8080/",
          "height": 527
        },
        "outputId": "9cdc8e34-1b94-45d6-8816-d83daf655510"
      },
      "source": [
        "train_epocs(model_glove, optimizer, train_dl, valid_dl, max_lr=0.01, epochs=30)"
      ],
      "execution_count": 67,
      "outputs": [
        {
          "output_type": "stream",
          "text": [
            "train loss 1.805 valid loss 1.938\n",
            "train loss 1.556 valid loss 1.745\n",
            "train loss 1.360 valid loss 1.593\n",
            "train loss 1.196 valid loss 1.484\n",
            "train loss 1.075 valid loss 1.398\n",
            "train loss 0.976 valid loss 1.336\n",
            "train loss 0.902 valid loss 1.289\n",
            "train loss 0.838 valid loss 1.254\n",
            "train loss 0.791 valid loss 1.226\n",
            "train loss 0.754 valid loss 1.204\n",
            "train loss 0.723 valid loss 1.193\n",
            "train loss 0.694 valid loss 1.185\n",
            "train loss 0.679 valid loss 1.172\n",
            "train loss 0.663 valid loss 1.164\n",
            "train loss 0.651 valid loss 1.163\n",
            "train loss 0.638 valid loss 1.157\n",
            "train loss 0.631 valid loss 1.155\n",
            "train loss 0.627 valid loss 1.150\n",
            "train loss 0.620 valid loss 1.147\n",
            "train loss 0.609 valid loss 1.147\n",
            "train loss 0.605 valid loss 1.148\n",
            "train loss 0.607 valid loss 1.151\n",
            "train loss 0.600 valid loss 1.149\n",
            "train loss 0.598 valid loss 1.146\n",
            "train loss 0.594 valid loss 1.144\n",
            "train loss 0.589 valid loss 1.146\n",
            "train loss 0.589 valid loss 1.143\n",
            "train loss 0.585 valid loss 1.143\n",
            "train loss 0.580 valid loss 1.142\n",
            "train loss 0.578 valid loss 1.143\n"
          ],
          "name": "stdout"
        }
      ]
    },
    {
      "cell_type": "code",
      "metadata": {
        "id": "XnpPDoHf2RgQ",
        "colab_type": "code",
        "colab": {}
      },
      "source": [
        ""
      ],
      "execution_count": 67,
      "outputs": []
    }
  ]
}