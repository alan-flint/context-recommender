{
  "nbformat": 4,
  "nbformat_minor": 0,
  "metadata": {
    "kernelspec": {
      "display_name": "Python 3",
      "language": "python",
      "name": "python3"
    },
    "language_info": {
      "codemirror_mode": {
        "name": "ipython",
        "version": 3
      },
      "file_extension": ".py",
      "mimetype": "text/x-python",
      "name": "python",
      "nbconvert_exporter": "python",
      "pygments_lexer": "ipython3",
      "version": "3.6.10"
    },
    "colab": {
      "name": "Amazon_VG_baseline_MF.ipynb",
      "provenance": [],
      "collapsed_sections": []
    },
    "accelerator": "GPU"
  },
  "cells": [
    {
      "cell_type": "code",
      "metadata": {
        "id": "xD7VKObQhzTv",
        "colab_type": "code",
        "colab": {}
      },
      "source": [
        "from pathlib import Path\n",
        "import pandas as pd\n",
        "pd.options.mode.chained_assignment = None\n",
        "import numpy as np\n",
        "\n",
        "import torch\n",
        "import torch.nn as nn\n",
        "import torch.nn.functional as F\n",
        "from torch.utils.data import Dataset, DataLoader\n",
        "\n",
        "from sklearn.model_selection import train_test_split\n",
        "from collections import Counter"
      ],
      "execution_count": 1,
      "outputs": []
    },
    {
      "cell_type": "code",
      "metadata": {
        "id": "O5Bw7U40hzTy",
        "colab_type": "code",
        "colab": {}
      },
      "source": [
        "import gzip\n",
        "import json\n",
        "import io\n",
        "\n",
        "def parse(path):\n",
        "    g = gzip.open(path, 'rb')\n",
        "    for l in g:\n",
        "        yield json.loads(l)\n",
        "\n",
        "def getDF(path):\n",
        "    i = 0\n",
        "    df = {}\n",
        "    for d in parse(path):\n",
        "        df[i] = d\n",
        "        i += 1\n",
        "    return pd.DataFrame.from_dict(df, orient='index')\n",
        "def unpack_dataset():\n",
        "    ! wget http://deepyeti.ucsd.edu/jianmo/amazon/categoryFilesSmall/Video_Games_5.json.gz\n",
        "    ! mkdir data\n",
        "    ! mv Vid* data"
      ],
      "execution_count": 2,
      "outputs": []
    },
    {
      "cell_type": "code",
      "metadata": {
        "id": "JLMsgK0_eLlF",
        "colab_type": "code",
        "colab": {
          "base_uri": "https://localhost:8080/",
          "height": 204
        },
        "outputId": "23b8a660-876f-4949-cb1b-d2b7ee5ce59d"
      },
      "source": [
        "unpack_dataset()"
      ],
      "execution_count": 3,
      "outputs": [
        {
          "output_type": "stream",
          "text": [
            "--2020-06-24 20:33:28--  http://deepyeti.ucsd.edu/jianmo/amazon/categoryFilesSmall/Video_Games_5.json.gz\n",
            "Resolving deepyeti.ucsd.edu (deepyeti.ucsd.edu)... 169.228.63.50\n",
            "Connecting to deepyeti.ucsd.edu (deepyeti.ucsd.edu)|169.228.63.50|:80... connected.\n",
            "HTTP request sent, awaiting response... 200 OK\n",
            "Length: 154050105 (147M) [application/octet-stream]\n",
            "Saving to: ‘Video_Games_5.json.gz’\n",
            "\n",
            "Video_Games_5.json. 100%[===================>] 146.91M  14.6MB/s    in 11s     \n",
            "\n",
            "2020-06-24 20:33:40 (13.4 MB/s) - ‘Video_Games_5.json.gz’ saved [154050105/154050105]\n",
            "\n"
          ],
          "name": "stdout"
        }
      ]
    },
    {
      "cell_type": "code",
      "metadata": {
        "id": "xmNz-1CrhzT0",
        "colab_type": "code",
        "colab": {}
      },
      "source": [
        "data = getDF('data/Video_Games_5.json.gz')"
      ],
      "execution_count": 4,
      "outputs": []
    },
    {
      "cell_type": "code",
      "metadata": {
        "id": "PCqlDYuIhzT3",
        "colab_type": "code",
        "colab": {
          "base_uri": "https://localhost:8080/",
          "height": 34
        },
        "outputId": "e4dc45fc-d13b-4bb7-949c-050af948ceec"
      },
      "source": [
        "data.shape"
      ],
      "execution_count": 5,
      "outputs": [
        {
          "output_type": "execute_result",
          "data": {
            "text/plain": [
              "(497577, 12)"
            ]
          },
          "metadata": {
            "tags": []
          },
          "execution_count": 5
        }
      ]
    },
    {
      "cell_type": "code",
      "metadata": {
        "id": "T5BlD-TThzT7",
        "colab_type": "code",
        "colab": {
          "base_uri": "https://localhost:8080/",
          "height": 357
        },
        "outputId": "71649904-6a1a-40fa-fc73-c4568128d525"
      },
      "source": [
        "data.head()"
      ],
      "execution_count": 6,
      "outputs": [
        {
          "output_type": "execute_result",
          "data": {
            "text/html": [
              "<div>\n",
              "<style scoped>\n",
              "    .dataframe tbody tr th:only-of-type {\n",
              "        vertical-align: middle;\n",
              "    }\n",
              "\n",
              "    .dataframe tbody tr th {\n",
              "        vertical-align: top;\n",
              "    }\n",
              "\n",
              "    .dataframe thead th {\n",
              "        text-align: right;\n",
              "    }\n",
              "</style>\n",
              "<table border=\"1\" class=\"dataframe\">\n",
              "  <thead>\n",
              "    <tr style=\"text-align: right;\">\n",
              "      <th></th>\n",
              "      <th>overall</th>\n",
              "      <th>verified</th>\n",
              "      <th>reviewTime</th>\n",
              "      <th>reviewerID</th>\n",
              "      <th>asin</th>\n",
              "      <th>reviewerName</th>\n",
              "      <th>reviewText</th>\n",
              "      <th>summary</th>\n",
              "      <th>unixReviewTime</th>\n",
              "      <th>vote</th>\n",
              "      <th>style</th>\n",
              "      <th>image</th>\n",
              "    </tr>\n",
              "  </thead>\n",
              "  <tbody>\n",
              "    <tr>\n",
              "      <th>0</th>\n",
              "      <td>5.0</td>\n",
              "      <td>True</td>\n",
              "      <td>10 17, 2015</td>\n",
              "      <td>A1HP7NVNPFMA4N</td>\n",
              "      <td>0700026657</td>\n",
              "      <td>Ambrosia075</td>\n",
              "      <td>This game is a bit hard to get the hang of, bu...</td>\n",
              "      <td>but when you do it's great.</td>\n",
              "      <td>1445040000</td>\n",
              "      <td>NaN</td>\n",
              "      <td>NaN</td>\n",
              "      <td>NaN</td>\n",
              "    </tr>\n",
              "    <tr>\n",
              "      <th>1</th>\n",
              "      <td>4.0</td>\n",
              "      <td>False</td>\n",
              "      <td>07 27, 2015</td>\n",
              "      <td>A1JGAP0185YJI6</td>\n",
              "      <td>0700026657</td>\n",
              "      <td>travis</td>\n",
              "      <td>I played it a while but it was alright. The st...</td>\n",
              "      <td>But in spite of that it was fun, I liked it</td>\n",
              "      <td>1437955200</td>\n",
              "      <td>NaN</td>\n",
              "      <td>NaN</td>\n",
              "      <td>NaN</td>\n",
              "    </tr>\n",
              "    <tr>\n",
              "      <th>2</th>\n",
              "      <td>3.0</td>\n",
              "      <td>True</td>\n",
              "      <td>02 23, 2015</td>\n",
              "      <td>A1YJWEXHQBWK2B</td>\n",
              "      <td>0700026657</td>\n",
              "      <td>Vincent G. Mezera</td>\n",
              "      <td>ok game.</td>\n",
              "      <td>Three Stars</td>\n",
              "      <td>1424649600</td>\n",
              "      <td>NaN</td>\n",
              "      <td>NaN</td>\n",
              "      <td>NaN</td>\n",
              "    </tr>\n",
              "    <tr>\n",
              "      <th>3</th>\n",
              "      <td>2.0</td>\n",
              "      <td>True</td>\n",
              "      <td>02 20, 2015</td>\n",
              "      <td>A2204E1TH211HT</td>\n",
              "      <td>0700026657</td>\n",
              "      <td>Grandma KR</td>\n",
              "      <td>found the game a bit too complicated, not what...</td>\n",
              "      <td>Two Stars</td>\n",
              "      <td>1424390400</td>\n",
              "      <td>NaN</td>\n",
              "      <td>NaN</td>\n",
              "      <td>NaN</td>\n",
              "    </tr>\n",
              "    <tr>\n",
              "      <th>4</th>\n",
              "      <td>5.0</td>\n",
              "      <td>True</td>\n",
              "      <td>12 25, 2014</td>\n",
              "      <td>A2RF5B5H74JLPE</td>\n",
              "      <td>0700026657</td>\n",
              "      <td>jon</td>\n",
              "      <td>great game, I love it and have played it since...</td>\n",
              "      <td>love this game</td>\n",
              "      <td>1419465600</td>\n",
              "      <td>NaN</td>\n",
              "      <td>NaN</td>\n",
              "      <td>NaN</td>\n",
              "    </tr>\n",
              "  </tbody>\n",
              "</table>\n",
              "</div>"
            ],
            "text/plain": [
              "   overall  verified   reviewTime  ... vote style image\n",
              "0      5.0      True  10 17, 2015  ...  NaN   NaN   NaN\n",
              "1      4.0     False  07 27, 2015  ...  NaN   NaN   NaN\n",
              "2      3.0      True  02 23, 2015  ...  NaN   NaN   NaN\n",
              "3      2.0      True  02 20, 2015  ...  NaN   NaN   NaN\n",
              "4      5.0      True  12 25, 2014  ...  NaN   NaN   NaN\n",
              "\n",
              "[5 rows x 12 columns]"
            ]
          },
          "metadata": {
            "tags": []
          },
          "execution_count": 6
        }
      ]
    },
    {
      "cell_type": "code",
      "metadata": {
        "id": "SwYiLi96d6u0",
        "colab_type": "code",
        "colab": {}
      },
      "source": [
        "data = data.loc[data.reviewTime.str.contains('2018')]"
      ],
      "execution_count": 7,
      "outputs": []
    },
    {
      "cell_type": "code",
      "metadata": {
        "id": "Gs7DQLpyeOuc",
        "colab_type": "code",
        "colab": {
          "base_uri": "https://localhost:8080/",
          "height": 34
        },
        "outputId": "fce24e37-4a29-4946-e575-af1d19fd6f1f"
      },
      "source": [
        "data.shape"
      ],
      "execution_count": 8,
      "outputs": [
        {
          "output_type": "execute_result",
          "data": {
            "text/plain": [
              "(11814, 12)"
            ]
          },
          "metadata": {
            "tags": []
          },
          "execution_count": 8
        }
      ]
    },
    {
      "cell_type": "code",
      "metadata": {
        "id": "rzPFjBw1hzT-",
        "colab_type": "code",
        "colab": {}
      },
      "source": [
        "# only use user, item, & ratings\n",
        "df = data[['reviewerID', 'asin', 'overall']]\n",
        "df.columns = ['user', 'item', 'rating']"
      ],
      "execution_count": 9,
      "outputs": []
    },
    {
      "cell_type": "code",
      "metadata": {
        "id": "CziI9J1uhzUA",
        "colab_type": "code",
        "colab": {}
      },
      "source": [
        "del data"
      ],
      "execution_count": 10,
      "outputs": []
    },
    {
      "cell_type": "code",
      "metadata": {
        "id": "OVNwlC9ihzUD",
        "colab_type": "code",
        "colab": {
          "base_uri": "https://localhost:8080/",
          "height": 204
        },
        "outputId": "9870af53-97a4-4b59-e15b-4e61127c318f"
      },
      "source": [
        "df.head()"
      ],
      "execution_count": 11,
      "outputs": [
        {
          "output_type": "execute_result",
          "data": {
            "text/html": [
              "<div>\n",
              "<style scoped>\n",
              "    .dataframe tbody tr th:only-of-type {\n",
              "        vertical-align: middle;\n",
              "    }\n",
              "\n",
              "    .dataframe tbody tr th {\n",
              "        vertical-align: top;\n",
              "    }\n",
              "\n",
              "    .dataframe thead th {\n",
              "        text-align: right;\n",
              "    }\n",
              "</style>\n",
              "<table border=\"1\" class=\"dataframe\">\n",
              "  <thead>\n",
              "    <tr style=\"text-align: right;\">\n",
              "      <th></th>\n",
              "      <th>user</th>\n",
              "      <th>item</th>\n",
              "      <th>rating</th>\n",
              "    </tr>\n",
              "  </thead>\n",
              "  <tbody>\n",
              "    <tr>\n",
              "      <th>98</th>\n",
              "      <td>AL529YNQ4YBFE</td>\n",
              "      <td>6050036071</td>\n",
              "      <td>5.0</td>\n",
              "    </tr>\n",
              "    <tr>\n",
              "      <th>2599</th>\n",
              "      <td>AHGW67EQ751LS</td>\n",
              "      <td>B00000J2W7</td>\n",
              "      <td>3.0</td>\n",
              "    </tr>\n",
              "    <tr>\n",
              "      <th>2704</th>\n",
              "      <td>AYXTNDD9FJBVK</td>\n",
              "      <td>B00000J97G</td>\n",
              "      <td>3.0</td>\n",
              "    </tr>\n",
              "    <tr>\n",
              "      <th>3104</th>\n",
              "      <td>A3ISBEPYLY8IMO</td>\n",
              "      <td>B00000JRSB</td>\n",
              "      <td>5.0</td>\n",
              "    </tr>\n",
              "    <tr>\n",
              "      <th>6683</th>\n",
              "      <td>A30T51SMB0UQR1</td>\n",
              "      <td>B00002DHEV</td>\n",
              "      <td>5.0</td>\n",
              "    </tr>\n",
              "  </tbody>\n",
              "</table>\n",
              "</div>"
            ],
            "text/plain": [
              "                user        item  rating\n",
              "98     AL529YNQ4YBFE  6050036071     5.0\n",
              "2599   AHGW67EQ751LS  B00000J2W7     3.0\n",
              "2704   AYXTNDD9FJBVK  B00000J97G     3.0\n",
              "3104  A3ISBEPYLY8IMO  B00000JRSB     5.0\n",
              "6683  A30T51SMB0UQR1  B00002DHEV     5.0"
            ]
          },
          "metadata": {
            "tags": []
          },
          "execution_count": 11
        }
      ]
    },
    {
      "cell_type": "markdown",
      "metadata": {
        "id": "4m_CguquhzUG",
        "colab_type": "text"
      },
      "source": [
        "## Split Train/Validation"
      ]
    },
    {
      "cell_type": "code",
      "metadata": {
        "id": "euH78uzchzUG",
        "colab_type": "code",
        "colab": {
          "base_uri": "https://localhost:8080/",
          "height": 34
        },
        "outputId": "544d632a-8432-4e5f-bd39-ac4243af6fe2"
      },
      "source": [
        "train, val = train_test_split(df, test_size=0.2)\n",
        "train.shape, val.shape"
      ],
      "execution_count": 12,
      "outputs": [
        {
          "output_type": "execute_result",
          "data": {
            "text/plain": [
              "((9451, 3), (2363, 3))"
            ]
          },
          "metadata": {
            "tags": []
          },
          "execution_count": 12
        }
      ]
    },
    {
      "cell_type": "markdown",
      "metadata": {
        "id": "UZH6h8aNhzUJ",
        "colab_type": "text"
      },
      "source": [
        "## Encode Places and Users"
      ]
    },
    {
      "cell_type": "code",
      "metadata": {
        "id": "uwsdjMy1hzUJ",
        "colab_type": "code",
        "colab": {}
      },
      "source": [
        "def encode_cols(train, val, cols):\n",
        "    for col in cols:\n",
        "        uniq = train[col].unique()\n",
        "        col2idx = {val: i for i, val in enumerate(uniq)}\n",
        "        train[col] = train[col].apply(lambda x: col2idx.get(x, -1))\n",
        "        val[col] = val[col].apply(lambda x: col2idx.get(x, -1))\n",
        "        val = val.loc[val[col] >= 0] \n",
        "    return train, val"
      ],
      "execution_count": 13,
      "outputs": []
    },
    {
      "cell_type": "code",
      "metadata": {
        "id": "ceB9JppZhzUM",
        "colab_type": "code",
        "colab": {}
      },
      "source": [
        "train_enc, val_enc = encode_cols(train, val, ['user', 'item'])"
      ],
      "execution_count": 14,
      "outputs": []
    },
    {
      "cell_type": "code",
      "metadata": {
        "id": "9LlVL_VthzUO",
        "colab_type": "code",
        "colab": {
          "base_uri": "https://localhost:8080/",
          "height": 34
        },
        "outputId": "3e8a0601-c669-4e9a-bf64-119f45c11eeb"
      },
      "source": [
        "len(train_enc.user.unique()), len(train_enc.item.unique())"
      ],
      "execution_count": 15,
      "outputs": [
        {
          "output_type": "execute_result",
          "data": {
            "text/plain": [
              "(4345, 4158)"
            ]
          },
          "metadata": {
            "tags": []
          },
          "execution_count": 15
        }
      ]
    },
    {
      "cell_type": "code",
      "metadata": {
        "id": "JXQjGAgchzUU",
        "colab_type": "code",
        "colab": {
          "base_uri": "https://localhost:8080/",
          "height": 204
        },
        "outputId": "f7d9abe2-4739-456c-a8f9-18c2c74c7324"
      },
      "source": [
        "train_enc.head()"
      ],
      "execution_count": 16,
      "outputs": [
        {
          "output_type": "execute_result",
          "data": {
            "text/html": [
              "<div>\n",
              "<style scoped>\n",
              "    .dataframe tbody tr th:only-of-type {\n",
              "        vertical-align: middle;\n",
              "    }\n",
              "\n",
              "    .dataframe tbody tr th {\n",
              "        vertical-align: top;\n",
              "    }\n",
              "\n",
              "    .dataframe thead th {\n",
              "        text-align: right;\n",
              "    }\n",
              "</style>\n",
              "<table border=\"1\" class=\"dataframe\">\n",
              "  <thead>\n",
              "    <tr style=\"text-align: right;\">\n",
              "      <th></th>\n",
              "      <th>user</th>\n",
              "      <th>item</th>\n",
              "      <th>rating</th>\n",
              "    </tr>\n",
              "  </thead>\n",
              "  <tbody>\n",
              "    <tr>\n",
              "      <th>471553</th>\n",
              "      <td>0</td>\n",
              "      <td>0</td>\n",
              "      <td>5.0</td>\n",
              "    </tr>\n",
              "    <tr>\n",
              "      <th>479288</th>\n",
              "      <td>1</td>\n",
              "      <td>1</td>\n",
              "      <td>5.0</td>\n",
              "    </tr>\n",
              "    <tr>\n",
              "      <th>405244</th>\n",
              "      <td>2</td>\n",
              "      <td>2</td>\n",
              "      <td>4.0</td>\n",
              "    </tr>\n",
              "    <tr>\n",
              "      <th>474350</th>\n",
              "      <td>3</td>\n",
              "      <td>3</td>\n",
              "      <td>3.0</td>\n",
              "    </tr>\n",
              "    <tr>\n",
              "      <th>267922</th>\n",
              "      <td>4</td>\n",
              "      <td>4</td>\n",
              "      <td>4.0</td>\n",
              "    </tr>\n",
              "  </tbody>\n",
              "</table>\n",
              "</div>"
            ],
            "text/plain": [
              "        user  item  rating\n",
              "471553     0     0     5.0\n",
              "479288     1     1     5.0\n",
              "405244     2     2     4.0\n",
              "474350     3     3     3.0\n",
              "267922     4     4     4.0"
            ]
          },
          "metadata": {
            "tags": []
          },
          "execution_count": 16
        }
      ]
    },
    {
      "cell_type": "markdown",
      "metadata": {
        "id": "psHAKbRZhzUV",
        "colab_type": "text"
      },
      "source": [
        "## Dataset and Data Loader"
      ]
    },
    {
      "cell_type": "code",
      "metadata": {
        "id": "elJdtKH6hzUW",
        "colab_type": "code",
        "colab": {}
      },
      "source": [
        "class AmazonDataset(Dataset):\n",
        "    def __init__(self, X, y):\n",
        "        self.user = X.user.values\n",
        "        self.item = X.item.values\n",
        "        self.y = y\n",
        "        \n",
        "    def __len__(self):\n",
        "        return len(self.y)\n",
        "    \n",
        "    def __getitem__(self, idx):\n",
        "        return self.user[idx], self.item[idx], self.y[idx]"
      ],
      "execution_count": 17,
      "outputs": []
    },
    {
      "cell_type": "code",
      "metadata": {
        "id": "ocR3jW_GhzUY",
        "colab_type": "code",
        "colab": {}
      },
      "source": [
        "train_ds = AmazonDataset(train_enc[['item', 'user']], train_enc.rating.values)\n",
        "valid_ds = AmazonDataset(val_enc[['item', 'user']], val_enc.rating.values)"
      ],
      "execution_count": 18,
      "outputs": []
    },
    {
      "cell_type": "code",
      "metadata": {
        "id": "iNezA3S2hzUa",
        "colab_type": "code",
        "colab": {}
      },
      "source": [
        "batch_size = 5_000\n",
        "train_dl = DataLoader(train_ds, batch_size=batch_size, shuffle=True)\n",
        "valid_dl = DataLoader(valid_ds, batch_size=batch_size)"
      ],
      "execution_count": 19,
      "outputs": []
    },
    {
      "cell_type": "code",
      "metadata": {
        "id": "TD25jpp4hzUc",
        "colab_type": "code",
        "colab": {
          "base_uri": "https://localhost:8080/",
          "height": 68
        },
        "outputId": "414baae1-2a9c-410a-8445-4cfbaf74eaf2"
      },
      "source": [
        "next(iter(train_dl))"
      ],
      "execution_count": 20,
      "outputs": [
        {
          "output_type": "execute_result",
          "data": {
            "text/plain": [
              "[tensor([ 584, 1843, 3440,  ..., 1049, 2927,  177]),\n",
              " tensor([2891, 1640,   20,  ...,  932, 1523,  161]),\n",
              " tensor([3., 5., 5.,  ..., 5., 5., 5.], dtype=torch.float64)]"
            ]
          },
          "metadata": {
            "tags": []
          },
          "execution_count": 20
        }
      ]
    },
    {
      "cell_type": "markdown",
      "metadata": {
        "id": "B_xKt949hzUe",
        "colab_type": "text"
      },
      "source": [
        "## Model"
      ]
    },
    {
      "cell_type": "code",
      "metadata": {
        "id": "fGdVxpw9hzUf",
        "colab_type": "code",
        "colab": {}
      },
      "source": [
        "class MF_bias(nn.Module):\n",
        "    def __init__(self, num_users, num_places, emb_size=100, bias=True):\n",
        "        super(MF_bias, self).__init__()\n",
        "        self.user_emb = nn.Embedding(num_users, emb_size)\n",
        "        self.place_emb = nn.Embedding(num_places, emb_size)\n",
        "        \n",
        "        self.user_emb.weight.data.uniform_(0,0.05)\n",
        "        self.place_emb.weight.data.uniform_(0,0.05)\n",
        "        \n",
        "        self.bias = bias\n",
        "        if self.bias:\n",
        "            self.user_bias = nn.Embedding(num_users, 1)\n",
        "            self.place_bias = nn.Embedding(num_places, 1)\n",
        "            \n",
        "            self.user_bias.weight.data.uniform_(-0.01,0.01)\n",
        "            self.place_emb.weight.data.uniform_(-0.01,0.01)\n",
        "            \n",
        "        self.dropout = nn.Dropout(0.3)\n",
        "        \n",
        "    def forward(self, u, v):\n",
        "        U = self.user_emb(u)\n",
        "        V = self.place_emb(v)\n",
        "        U, V = self.dropout(U), self.dropout(V)\n",
        "        if self.bias:\n",
        "            b_u = self.user_bias(u).squeeze()\n",
        "            b_v = self.place_bias(v).squeeze()\n",
        "            return (U*V).sum(1) +  b_u  + b_v\n",
        "        return (U*V).sum(1)"
      ],
      "execution_count": 21,
      "outputs": []
    },
    {
      "cell_type": "markdown",
      "metadata": {
        "id": "ffxzqwHHhzUh",
        "colab_type": "text"
      },
      "source": [
        "## Training Functions"
      ]
    },
    {
      "cell_type": "code",
      "metadata": {
        "id": "-eMIhTd2hzUh",
        "colab_type": "code",
        "colab": {}
      },
      "source": [
        "def cosine_segment(start_lr, end_lr, iterations):\n",
        "    i = np.arange(iterations)\n",
        "    c_i = 1 + np.cos(i*np.pi/iterations)\n",
        "    return end_lr + (start_lr - end_lr)/2 *c_i\n",
        "\n",
        "def get_cosine_triangular_lr(max_lr, iterations, div_start=5, div_end=5):\n",
        "    min_start, min_end = max_lr/div_start, max_lr/div_end\n",
        "    iter1 = int(0.3*iterations)\n",
        "    iter2 = iterations - iter1\n",
        "    segs = [cosine_segment(min_start, max_lr, iter1), cosine_segment(max_lr, min_end, iter2)]\n",
        "    return np.concatenate(segs)"
      ],
      "execution_count": 22,
      "outputs": []
    },
    {
      "cell_type": "code",
      "metadata": {
        "id": "uM06iiJLhzUj",
        "colab_type": "code",
        "colab": {}
      },
      "source": [
        "def set_learning_rate(optimizer, lr):\n",
        "    \"\"\"Changing learning rates without creating a new optimizer\"\"\"\n",
        "    for param_group in optimizer.param_groups:\n",
        "        param_group['lr'] = lr"
      ],
      "execution_count": 23,
      "outputs": []
    },
    {
      "cell_type": "code",
      "metadata": {
        "id": "dtHiFNe4hzUm",
        "colab_type": "code",
        "colab": {}
      },
      "source": [
        "def train_epocs(model, optimzer, train_dl, valid_dl, epochs=10, max_lr=0.01):\n",
        "    iterations = epochs*len(train_dl)\n",
        "    lrs = get_cosine_triangular_lr(max_lr, iterations)\n",
        "    vals = []\n",
        "    for epoch in range(epochs):\n",
        "        model.train()\n",
        "        sum_loss = 0.0\n",
        "        total = 0\n",
        "        i = 0\n",
        "        for u, v, y in train_dl:\n",
        "            set_learning_rate(optimizer, lrs[i])\n",
        "            users = u.long().cuda()\n",
        "            places = v.long().cuda()\n",
        "            ratings = y.float().cuda()\n",
        "            y_hat = model(users, places)\n",
        "            loss = F.mse_loss(y_hat, ratings)\n",
        "            optimizer.zero_grad()\n",
        "            loss.backward()\n",
        "            optimizer.step()\n",
        "            sum_loss += loss.item()*y.shape[0]\n",
        "            total += y.shape[0]\n",
        "            i += 1\n",
        "        val_loss = val_metrics(model, valid_dl)\n",
        "        vals.append(val_loss)\n",
        "        if epoch % 10 == 0: \n",
        "            print(f\"train loss {sum_loss/total:.3f} valid loss {val_loss:.3f}\") #valid accuracy {testaccur:.5f}"
      ],
      "execution_count": 24,
      "outputs": []
    },
    {
      "cell_type": "code",
      "metadata": {
        "id": "vnleRxsKhzUn",
        "colab_type": "code",
        "colab": {}
      },
      "source": [
        "def val_metrics(model, valid_dl):\n",
        "    model.eval()\n",
        "    correct = 0\n",
        "    total = 0\n",
        "    sum_loss = 0.0\n",
        "    for u, v, y in valid_dl:\n",
        "        users = u.long().cuda()\n",
        "        places = v.long().cuda()\n",
        "        ratings = y.float().cuda()\n",
        "        y_hat = model(users, places)\n",
        "        loss = F.mse_loss(y_hat, ratings)\n",
        "        #y_pred = y_hat > 0\n",
        "        #correct += (y_pred.float() == y).float().sum()\n",
        "        total += y.shape[0]\n",
        "        sum_loss += loss.item()*y.shape[0]\n",
        "    return sum_loss/total #, correct/total"
      ],
      "execution_count": 25,
      "outputs": []
    },
    {
      "cell_type": "markdown",
      "metadata": {
        "id": "MQrWOd8ahzUp",
        "colab_type": "text"
      },
      "source": [
        "## Train"
      ]
    },
    {
      "cell_type": "code",
      "metadata": {
        "id": "nLtUC3-shzUq",
        "colab_type": "code",
        "colab": {
          "base_uri": "https://localhost:8080/",
          "height": 34
        },
        "outputId": "44d600f6-ba0d-4dba-ee49-85e376a3aab1"
      },
      "source": [
        "num_items, num_users = len(train_enc.item.unique()), len(train_enc.user.unique())\n",
        "num_items, num_users"
      ],
      "execution_count": 26,
      "outputs": [
        {
          "output_type": "execute_result",
          "data": {
            "text/plain": [
              "(4158, 4345)"
            ]
          },
          "metadata": {
            "tags": []
          },
          "execution_count": 26
        }
      ]
    },
    {
      "cell_type": "code",
      "metadata": {
        "id": "teJ_TV2ghzUt",
        "colab_type": "code",
        "colab": {}
      },
      "source": [
        "model = MF_bias(num_users, num_items, emb_size=100, bias=False).cuda()"
      ],
      "execution_count": 27,
      "outputs": []
    },
    {
      "cell_type": "code",
      "metadata": {
        "id": "iq4kgOzehzUv",
        "colab_type": "code",
        "colab": {}
      },
      "source": [
        "optimizer = torch.optim.Adam(model.parameters(), lr=0.01, weight_decay=1e-5)"
      ],
      "execution_count": 28,
      "outputs": []
    },
    {
      "cell_type": "code",
      "metadata": {
        "id": "UhzgVlbVhzUx",
        "colab_type": "code",
        "colab": {
          "base_uri": "https://localhost:8080/",
          "height": 442
        },
        "outputId": "f609c293-d14e-4f02-f55f-fb9ccfea43d4"
      },
      "source": [
        "train_epocs(model, optimizer, train_dl, valid_dl, max_lr=0.01, epochs=250)"
      ],
      "execution_count": 29,
      "outputs": [
        {
          "output_type": "stream",
          "text": [
            "train loss 19.585 valid loss 19.963\n",
            "train loss 17.873 valid loss 18.039\n",
            "train loss 14.587 valid loss 14.466\n",
            "train loss 10.110 valid loss 9.768\n",
            "train loss 5.756 valid loss 5.426\n",
            "train loss 2.776 valid loss 2.778\n",
            "train loss 1.352 valid loss 1.746\n",
            "train loss 0.820 valid loss 1.446\n",
            "train loss 0.589 valid loss 1.353\n",
            "train loss 0.497 valid loss 1.317\n",
            "train loss 0.462 valid loss 1.303\n",
            "train loss 0.426 valid loss 1.302\n",
            "train loss 0.418 valid loss 1.300\n",
            "train loss 0.408 valid loss 1.308\n",
            "train loss 0.392 valid loss 1.312\n",
            "train loss 0.385 valid loss 1.324\n",
            "train loss 0.371 valid loss 1.338\n",
            "train loss 0.365 valid loss 1.357\n",
            "train loss 0.357 valid loss 1.372\n",
            "train loss 0.362 valid loss 1.383\n",
            "train loss 0.354 valid loss 1.392\n",
            "train loss 0.350 valid loss 1.397\n",
            "train loss 0.337 valid loss 1.410\n",
            "train loss 0.339 valid loss 1.426\n",
            "train loss 0.333 valid loss 1.440\n"
          ],
          "name": "stdout"
        }
      ]
    },
    {
      "cell_type": "code",
      "metadata": {
        "id": "9Rkzrc76hzUz",
        "colab_type": "code",
        "colab": {}
      },
      "source": [
        ""
      ],
      "execution_count": 29,
      "outputs": []
    }
  ]
}
