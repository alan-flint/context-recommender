{
  "nbformat": 4,
  "nbformat_minor": 0,
  "metadata": {
    "kernelspec": {
      "display_name": "Python 3",
      "language": "python",
      "name": "python3"
    },
    "language_info": {
      "codemirror_mode": {
        "name": "ipython",
        "version": 3
      },
      "file_extension": ".py",
      "mimetype": "text/x-python",
      "name": "python",
      "nbconvert_exporter": "python",
      "pygments_lexer": "ipython3",
      "version": "3.6.10"
    },
    "colab": {
      "name": "Amazon_GGF_baseline_MF.ipynb",
      "provenance": [],
      "collapsed_sections": []
    },
    "accelerator": "GPU"
  },
  "cells": [
    {
      "cell_type": "code",
      "metadata": {
        "id": "hGmsOT4m-gDP",
        "colab_type": "code",
        "colab": {}
      },
      "source": [
        "from pathlib import Path\n",
        "import pandas as pd\n",
        "pd.options.mode.chained_assignment = None\n",
        "import numpy as np\n",
        "\n",
        "import torch\n",
        "import torch.nn as nn\n",
        "import torch.nn.functional as F\n",
        "from torch.utils.data import Dataset, DataLoader\n",
        "\n",
        "from sklearn.model_selection import train_test_split\n",
        "from collections import Counter"
      ],
      "execution_count": 1,
      "outputs": []
    },
    {
      "cell_type": "code",
      "metadata": {
        "id": "spDtYntK-gDe",
        "colab_type": "code",
        "colab": {}
      },
      "source": [
        "import gzip\n",
        "import json\n",
        "import io\n",
        "\n",
        "def parse(path):\n",
        "    g = gzip.open(path, 'rb')\n",
        "    for l in g:\n",
        "        yield json.loads(l)\n",
        "\n",
        "def unpack_dataset():\n",
        "    ! wget http://deepyeti.ucsd.edu/jianmo/amazon/categoryFilesSmall/Grocery_and_Gourmet_Food_5.json.gz\n",
        "    ! mkdir data\n",
        "    ! mv Gro* data\n",
        "\n",
        "def getDF(path):\n",
        "    i = 0\n",
        "    df = {}\n",
        "    for d in parse(path):\n",
        "        df[i] = d\n",
        "        i += 1\n",
        "    return pd.DataFrame.from_dict(df, orient='index')"
      ],
      "execution_count": 2,
      "outputs": []
    },
    {
      "cell_type": "code",
      "metadata": {
        "id": "L9l5SiE7-sQq",
        "colab_type": "code",
        "colab": {
          "base_uri": "https://localhost:8080/",
          "height": 204
        },
        "outputId": "e885e51d-6477-464d-c6fb-d6162ccc480a"
      },
      "source": [
        "unpack_dataset()\n"
      ],
      "execution_count": 3,
      "outputs": [
        {
          "output_type": "stream",
          "text": [
            "--2020-06-24 06:19:46--  http://deepyeti.ucsd.edu/jianmo/amazon/categoryFilesSmall/Grocery_and_Gourmet_Food_5.json.gz\n",
            "Resolving deepyeti.ucsd.edu (deepyeti.ucsd.edu)... 169.228.63.50\n",
            "Connecting to deepyeti.ucsd.edu (deepyeti.ucsd.edu)|169.228.63.50|:80... connected.\n",
            "HTTP request sent, awaiting response... 200 OK\n",
            "Length: 146631394 (140M) [application/octet-stream]\n",
            "Saving to: ‘Grocery_and_Gourmet_Food_5.json.gz’\n",
            "\n",
            "Grocery_and_Gourmet 100%[===================>] 139.84M  21.4MB/s    in 7.4s    \n",
            "\n",
            "2020-06-24 06:19:53 (18.8 MB/s) - ‘Grocery_and_Gourmet_Food_5.json.gz’ saved [146631394/146631394]\n",
            "\n"
          ],
          "name": "stdout"
        }
      ]
    },
    {
      "cell_type": "code",
      "metadata": {
        "id": "c9C3CFA8-gDn",
        "colab_type": "code",
        "colab": {}
      },
      "source": [
        "data = getDF('data/Grocery_and_Gourmet_Food_5.json.gz')"
      ],
      "execution_count": 4,
      "outputs": []
    },
    {
      "cell_type": "code",
      "metadata": {
        "id": "62hxkZZR-gDv",
        "colab_type": "code",
        "colab": {
          "base_uri": "https://localhost:8080/",
          "height": 34
        },
        "outputId": "8ae7e46d-7afd-428e-c096-923e2e70a149"
      },
      "source": [
        "data.shape"
      ],
      "execution_count": 5,
      "outputs": [
        {
          "output_type": "execute_result",
          "data": {
            "text/plain": [
              "(1143860, 12)"
            ]
          },
          "metadata": {
            "tags": []
          },
          "execution_count": 5
        }
      ]
    },
    {
      "cell_type": "code",
      "metadata": {
        "id": "icoTHXfb-gD4",
        "colab_type": "code",
        "colab": {
          "base_uri": "https://localhost:8080/",
          "height": 272
        },
        "outputId": "fcc8ef48-70cb-4a31-fec3-30beec881d7a"
      },
      "source": [
        "data.head()"
      ],
      "execution_count": 6,
      "outputs": [
        {
          "output_type": "execute_result",
          "data": {
            "text/html": [
              "<div>\n",
              "<style scoped>\n",
              "    .dataframe tbody tr th:only-of-type {\n",
              "        vertical-align: middle;\n",
              "    }\n",
              "\n",
              "    .dataframe tbody tr th {\n",
              "        vertical-align: top;\n",
              "    }\n",
              "\n",
              "    .dataframe thead th {\n",
              "        text-align: right;\n",
              "    }\n",
              "</style>\n",
              "<table border=\"1\" class=\"dataframe\">\n",
              "  <thead>\n",
              "    <tr style=\"text-align: right;\">\n",
              "      <th></th>\n",
              "      <th>overall</th>\n",
              "      <th>verified</th>\n",
              "      <th>reviewTime</th>\n",
              "      <th>reviewerID</th>\n",
              "      <th>asin</th>\n",
              "      <th>reviewerName</th>\n",
              "      <th>reviewText</th>\n",
              "      <th>summary</th>\n",
              "      <th>unixReviewTime</th>\n",
              "      <th>vote</th>\n",
              "      <th>style</th>\n",
              "      <th>image</th>\n",
              "    </tr>\n",
              "  </thead>\n",
              "  <tbody>\n",
              "    <tr>\n",
              "      <th>0</th>\n",
              "      <td>5.0</td>\n",
              "      <td>True</td>\n",
              "      <td>11 19, 2014</td>\n",
              "      <td>A1QVBUH9E1V6I8</td>\n",
              "      <td>4639725183</td>\n",
              "      <td>Jamshed Mathur</td>\n",
              "      <td>No adverse comment.</td>\n",
              "      <td>Five Stars</td>\n",
              "      <td>1416355200</td>\n",
              "      <td>NaN</td>\n",
              "      <td>NaN</td>\n",
              "      <td>NaN</td>\n",
              "    </tr>\n",
              "    <tr>\n",
              "      <th>1</th>\n",
              "      <td>5.0</td>\n",
              "      <td>True</td>\n",
              "      <td>10 13, 2016</td>\n",
              "      <td>A3GEOILWLK86XM</td>\n",
              "      <td>4639725183</td>\n",
              "      <td>itsjustme</td>\n",
              "      <td>Gift for college student.</td>\n",
              "      <td>Great product.</td>\n",
              "      <td>1476316800</td>\n",
              "      <td>NaN</td>\n",
              "      <td>NaN</td>\n",
              "      <td>NaN</td>\n",
              "    </tr>\n",
              "    <tr>\n",
              "      <th>2</th>\n",
              "      <td>5.0</td>\n",
              "      <td>True</td>\n",
              "      <td>11 21, 2015</td>\n",
              "      <td>A32RD6L701BIGP</td>\n",
              "      <td>4639725183</td>\n",
              "      <td>Krystal Clifton</td>\n",
              "      <td>If you like strong tea, this is for you. It mi...</td>\n",
              "      <td>Strong</td>\n",
              "      <td>1448064000</td>\n",
              "      <td>NaN</td>\n",
              "      <td>NaN</td>\n",
              "      <td>NaN</td>\n",
              "    </tr>\n",
              "    <tr>\n",
              "      <th>3</th>\n",
              "      <td>5.0</td>\n",
              "      <td>True</td>\n",
              "      <td>08 12, 2015</td>\n",
              "      <td>A2UY1O1FBGKIE6</td>\n",
              "      <td>4639725183</td>\n",
              "      <td>U. Kane</td>\n",
              "      <td>Love the tea. The flavor is way better than th...</td>\n",
              "      <td>Great tea</td>\n",
              "      <td>1439337600</td>\n",
              "      <td>NaN</td>\n",
              "      <td>NaN</td>\n",
              "      <td>NaN</td>\n",
              "    </tr>\n",
              "    <tr>\n",
              "      <th>4</th>\n",
              "      <td>5.0</td>\n",
              "      <td>True</td>\n",
              "      <td>05 28, 2015</td>\n",
              "      <td>A3QHVBQYDV7Z6U</td>\n",
              "      <td>4639725183</td>\n",
              "      <td>The Nana</td>\n",
              "      <td>I have searched everywhere until I browsed Ama...</td>\n",
              "      <td>This is the tea I remembered!</td>\n",
              "      <td>1432771200</td>\n",
              "      <td>NaN</td>\n",
              "      <td>NaN</td>\n",
              "      <td>NaN</td>\n",
              "    </tr>\n",
              "  </tbody>\n",
              "</table>\n",
              "</div>"
            ],
            "text/plain": [
              "   overall  verified   reviewTime  ... vote style image\n",
              "0      5.0      True  11 19, 2014  ...  NaN   NaN   NaN\n",
              "1      5.0      True  10 13, 2016  ...  NaN   NaN   NaN\n",
              "2      5.0      True  11 21, 2015  ...  NaN   NaN   NaN\n",
              "3      5.0      True  08 12, 2015  ...  NaN   NaN   NaN\n",
              "4      5.0      True  05 28, 2015  ...  NaN   NaN   NaN\n",
              "\n",
              "[5 rows x 12 columns]"
            ]
          },
          "metadata": {
            "tags": []
          },
          "execution_count": 6
        }
      ]
    },
    {
      "cell_type": "code",
      "metadata": {
        "id": "UQcITxHY-vjP",
        "colab_type": "code",
        "colab": {}
      },
      "source": [
        "data = data.loc[(data.reviewTime.str.contains('2018'))] #| (data.reviewTime.str.contains('2016')) | (data.reviewTime.str.contains('2017')) | (data.reviewTime.str.contains('2018'))]\n"
      ],
      "execution_count": 7,
      "outputs": []
    },
    {
      "cell_type": "code",
      "metadata": {
        "id": "IwHUnhMf-vom",
        "colab_type": "code",
        "colab": {
          "base_uri": "https://localhost:8080/",
          "height": 34
        },
        "outputId": "3ec62291-56fc-4aa2-e797-0a631abb70af"
      },
      "source": [
        "data.shape"
      ],
      "execution_count": 8,
      "outputs": [
        {
          "output_type": "execute_result",
          "data": {
            "text/plain": [
              "(98253, 12)"
            ]
          },
          "metadata": {
            "tags": []
          },
          "execution_count": 8
        }
      ]
    },
    {
      "cell_type": "code",
      "metadata": {
        "id": "GXrirwU--gD9",
        "colab_type": "code",
        "colab": {}
      },
      "source": [
        "# only use user, item, & ratings\n",
        "df = data[['reviewerID', 'asin', 'overall']]\n",
        "df.columns = ['user', 'item', 'rating']"
      ],
      "execution_count": 9,
      "outputs": []
    },
    {
      "cell_type": "code",
      "metadata": {
        "id": "NR5dl14x-gEA",
        "colab_type": "code",
        "colab": {}
      },
      "source": [
        "del data"
      ],
      "execution_count": 10,
      "outputs": []
    },
    {
      "cell_type": "code",
      "metadata": {
        "id": "Td0DmBjW-gEC",
        "colab_type": "code",
        "colab": {
          "base_uri": "https://localhost:8080/",
          "height": 204
        },
        "outputId": "f64d805b-cb37-485e-e10a-a9052bf8c713"
      },
      "source": [
        "df.head()"
      ],
      "execution_count": 11,
      "outputs": [
        {
          "output_type": "execute_result",
          "data": {
            "text/html": [
              "<div>\n",
              "<style scoped>\n",
              "    .dataframe tbody tr th:only-of-type {\n",
              "        vertical-align: middle;\n",
              "    }\n",
              "\n",
              "    .dataframe tbody tr th {\n",
              "        vertical-align: top;\n",
              "    }\n",
              "\n",
              "    .dataframe thead th {\n",
              "        text-align: right;\n",
              "    }\n",
              "</style>\n",
              "<table border=\"1\" class=\"dataframe\">\n",
              "  <thead>\n",
              "    <tr style=\"text-align: right;\">\n",
              "      <th></th>\n",
              "      <th>user</th>\n",
              "      <th>item</th>\n",
              "      <th>rating</th>\n",
              "    </tr>\n",
              "  </thead>\n",
              "  <tbody>\n",
              "    <tr>\n",
              "      <th>50</th>\n",
              "      <td>A1U32SY2BN1I4T</td>\n",
              "      <td>9742356831</td>\n",
              "      <td>5.0</td>\n",
              "    </tr>\n",
              "    <tr>\n",
              "      <th>51</th>\n",
              "      <td>A2ULESH6GADUEW</td>\n",
              "      <td>9742356831</td>\n",
              "      <td>5.0</td>\n",
              "    </tr>\n",
              "    <tr>\n",
              "      <th>52</th>\n",
              "      <td>A1TI6UAU422P4Y</td>\n",
              "      <td>9742356831</td>\n",
              "      <td>3.0</td>\n",
              "    </tr>\n",
              "    <tr>\n",
              "      <th>53</th>\n",
              "      <td>A3VG446SHJH37O</td>\n",
              "      <td>9742356831</td>\n",
              "      <td>5.0</td>\n",
              "    </tr>\n",
              "    <tr>\n",
              "      <th>509</th>\n",
              "      <td>A2ZKFKG2PMJA3A</td>\n",
              "      <td>B00008RCN8</td>\n",
              "      <td>5.0</td>\n",
              "    </tr>\n",
              "  </tbody>\n",
              "</table>\n",
              "</div>"
            ],
            "text/plain": [
              "               user        item  rating\n",
              "50   A1U32SY2BN1I4T  9742356831     5.0\n",
              "51   A2ULESH6GADUEW  9742356831     5.0\n",
              "52   A1TI6UAU422P4Y  9742356831     3.0\n",
              "53   A3VG446SHJH37O  9742356831     5.0\n",
              "509  A2ZKFKG2PMJA3A  B00008RCN8     5.0"
            ]
          },
          "metadata": {
            "tags": []
          },
          "execution_count": 11
        }
      ]
    },
    {
      "cell_type": "markdown",
      "metadata": {
        "id": "MRNB3bNZ-gEE",
        "colab_type": "text"
      },
      "source": [
        "## Split Train/Validation"
      ]
    },
    {
      "cell_type": "code",
      "metadata": {
        "id": "CnfUcRlm-gEF",
        "colab_type": "code",
        "colab": {
          "base_uri": "https://localhost:8080/",
          "height": 34
        },
        "outputId": "270dced6-161e-4499-cb29-bd897a7145b2"
      },
      "source": [
        "train, val = train_test_split(df, test_size=0.2)\n",
        "train.shape, val.shape"
      ],
      "execution_count": 12,
      "outputs": [
        {
          "output_type": "execute_result",
          "data": {
            "text/plain": [
              "((78602, 3), (19651, 3))"
            ]
          },
          "metadata": {
            "tags": []
          },
          "execution_count": 12
        }
      ]
    },
    {
      "cell_type": "markdown",
      "metadata": {
        "id": "ZbzVCiox-gEM",
        "colab_type": "text"
      },
      "source": [
        "## Encode Places and Users"
      ]
    },
    {
      "cell_type": "code",
      "metadata": {
        "id": "aeTK3Lis-gEM",
        "colab_type": "code",
        "colab": {}
      },
      "source": [
        "def encode_cols(train, val, cols):\n",
        "    for col in cols:\n",
        "        uniq = train[col].unique()\n",
        "        col2idx = {val: i for i, val in enumerate(uniq)}\n",
        "        train[col] = train[col].apply(lambda x: col2idx.get(x, -1))\n",
        "        val[col] = val[col].apply(lambda x: col2idx.get(x, -1))\n",
        "        val = val.loc[val[col] >= 0] \n",
        "    return train, val"
      ],
      "execution_count": 13,
      "outputs": []
    },
    {
      "cell_type": "code",
      "metadata": {
        "id": "V3qyEdce-gEP",
        "colab_type": "code",
        "colab": {}
      },
      "source": [
        "train_enc, val_enc = encode_cols(train, val, ['user', 'item'])"
      ],
      "execution_count": 14,
      "outputs": []
    },
    {
      "cell_type": "code",
      "metadata": {
        "id": "oMri34Ha-gER",
        "colab_type": "code",
        "colab": {
          "base_uri": "https://localhost:8080/",
          "height": 34
        },
        "outputId": "3c8933a9-f117-4a02-ee3f-2433f905c274"
      },
      "source": [
        "len(train_enc.user.unique()), len(train_enc.item.unique())"
      ],
      "execution_count": 15,
      "outputs": [
        {
          "output_type": "execute_result",
          "data": {
            "text/plain": [
              "(32894, 19063)"
            ]
          },
          "metadata": {
            "tags": []
          },
          "execution_count": 15
        }
      ]
    },
    {
      "cell_type": "code",
      "metadata": {
        "id": "7DE1l82M-gET",
        "colab_type": "code",
        "colab": {
          "base_uri": "https://localhost:8080/",
          "height": 204
        },
        "outputId": "d1715748-bc45-4e4c-fb55-2d3ce26be72a"
      },
      "source": [
        "train_enc.head()"
      ],
      "execution_count": 16,
      "outputs": [
        {
          "output_type": "execute_result",
          "data": {
            "text/html": [
              "<div>\n",
              "<style scoped>\n",
              "    .dataframe tbody tr th:only-of-type {\n",
              "        vertical-align: middle;\n",
              "    }\n",
              "\n",
              "    .dataframe tbody tr th {\n",
              "        vertical-align: top;\n",
              "    }\n",
              "\n",
              "    .dataframe thead th {\n",
              "        text-align: right;\n",
              "    }\n",
              "</style>\n",
              "<table border=\"1\" class=\"dataframe\">\n",
              "  <thead>\n",
              "    <tr style=\"text-align: right;\">\n",
              "      <th></th>\n",
              "      <th>user</th>\n",
              "      <th>item</th>\n",
              "      <th>rating</th>\n",
              "    </tr>\n",
              "  </thead>\n",
              "  <tbody>\n",
              "    <tr>\n",
              "      <th>1121042</th>\n",
              "      <td>0</td>\n",
              "      <td>0</td>\n",
              "      <td>5.0</td>\n",
              "    </tr>\n",
              "    <tr>\n",
              "      <th>430661</th>\n",
              "      <td>1</td>\n",
              "      <td>1</td>\n",
              "      <td>5.0</td>\n",
              "    </tr>\n",
              "    <tr>\n",
              "      <th>1077703</th>\n",
              "      <td>2</td>\n",
              "      <td>2</td>\n",
              "      <td>5.0</td>\n",
              "    </tr>\n",
              "    <tr>\n",
              "      <th>1019290</th>\n",
              "      <td>3</td>\n",
              "      <td>3</td>\n",
              "      <td>5.0</td>\n",
              "    </tr>\n",
              "    <tr>\n",
              "      <th>654388</th>\n",
              "      <td>4</td>\n",
              "      <td>4</td>\n",
              "      <td>4.0</td>\n",
              "    </tr>\n",
              "  </tbody>\n",
              "</table>\n",
              "</div>"
            ],
            "text/plain": [
              "         user  item  rating\n",
              "1121042     0     0     5.0\n",
              "430661      1     1     5.0\n",
              "1077703     2     2     5.0\n",
              "1019290     3     3     5.0\n",
              "654388      4     4     4.0"
            ]
          },
          "metadata": {
            "tags": []
          },
          "execution_count": 16
        }
      ]
    },
    {
      "cell_type": "markdown",
      "metadata": {
        "id": "tAIyAIk0-gEX",
        "colab_type": "text"
      },
      "source": [
        "## Dataset and Data Loader"
      ]
    },
    {
      "cell_type": "code",
      "metadata": {
        "id": "4SLUwiCW-gEX",
        "colab_type": "code",
        "colab": {}
      },
      "source": [
        "class AmazonDataset(Dataset):\n",
        "    def __init__(self, X, y):\n",
        "        self.user = X.user.values\n",
        "        self.item = X.item.values\n",
        "        self.y = y\n",
        "        \n",
        "    def __len__(self):\n",
        "        return len(self.y)\n",
        "    \n",
        "    def __getitem__(self, idx):\n",
        "        return self.user[idx], self.item[idx], self.y[idx]"
      ],
      "execution_count": 17,
      "outputs": []
    },
    {
      "cell_type": "code",
      "metadata": {
        "id": "atcFFp2q-gEZ",
        "colab_type": "code",
        "colab": {}
      },
      "source": [
        "train_ds = AmazonDataset(train_enc[['item', 'user']], train_enc.rating.values)\n",
        "valid_ds = AmazonDataset(val_enc[['item', 'user']], val_enc.rating.values)"
      ],
      "execution_count": 18,
      "outputs": []
    },
    {
      "cell_type": "code",
      "metadata": {
        "id": "QF-yv42L-gEc",
        "colab_type": "code",
        "colab": {}
      },
      "source": [
        "batch_size = 5_000\n",
        "train_dl = DataLoader(train_ds, batch_size=batch_size, shuffle=True)\n",
        "valid_dl = DataLoader(valid_ds, batch_size=batch_size)"
      ],
      "execution_count": 19,
      "outputs": []
    },
    {
      "cell_type": "code",
      "metadata": {
        "id": "VuC1VESn-gEf",
        "colab_type": "code",
        "colab": {
          "base_uri": "https://localhost:8080/",
          "height": 68
        },
        "outputId": "88c9b98c-036c-419d-a715-a69df845b580"
      },
      "source": [
        "next(iter(train_dl))"
      ],
      "execution_count": 20,
      "outputs": [
        {
          "output_type": "execute_result",
          "data": {
            "text/plain": [
              "[tensor([19189, 13776,  4682,  ..., 20076,  7974, 24793]),\n",
              " tensor([6354, 4840,  233,  ..., 6298, 4581, 5981]),\n",
              " tensor([5., 5., 5.,  ..., 4., 4., 5.], dtype=torch.float64)]"
            ]
          },
          "metadata": {
            "tags": []
          },
          "execution_count": 20
        }
      ]
    },
    {
      "cell_type": "markdown",
      "metadata": {
        "id": "o0mtVSi6-gEh",
        "colab_type": "text"
      },
      "source": [
        "## Model"
      ]
    },
    {
      "cell_type": "code",
      "metadata": {
        "id": "yJPJSv1O-gEh",
        "colab_type": "code",
        "colab": {}
      },
      "source": [
        "class MF_bias(nn.Module):\n",
        "    def __init__(self, num_users, num_places, emb_size=100, bias=True):\n",
        "        super(MF_bias, self).__init__()\n",
        "        self.user_emb = nn.Embedding(num_users, emb_size)\n",
        "        self.place_emb = nn.Embedding(num_places, emb_size)\n",
        "        \n",
        "        self.user_emb.weight.data.uniform_(0,0.05)\n",
        "        self.place_emb.weight.data.uniform_(0,0.05)\n",
        "        \n",
        "        self.bias = bias\n",
        "        if self.bias:\n",
        "            self.user_bias = nn.Embedding(num_users, 1)\n",
        "            self.place_bias = nn.Embedding(num_places, 1)\n",
        "            \n",
        "            self.user_bias.weight.data.uniform_(-0.01,0.01)\n",
        "            self.place_emb.weight.data.uniform_(-0.01,0.01)\n",
        "            \n",
        "        self.dropout = nn.Dropout(0.3)\n",
        "        \n",
        "    def forward(self, u, v):\n",
        "        U = self.user_emb(u)\n",
        "        V = self.place_emb(v)\n",
        "        U, V = self.dropout(U), self.dropout(V)\n",
        "        if self.bias:\n",
        "            b_u = self.user_bias(u).squeeze()\n",
        "            b_v = self.place_bias(v).squeeze()\n",
        "            return (U*V).sum(1) +  b_u  + b_v\n",
        "        return (U*V).sum(1)"
      ],
      "execution_count": 21,
      "outputs": []
    },
    {
      "cell_type": "markdown",
      "metadata": {
        "id": "TORO7RHT-gEk",
        "colab_type": "text"
      },
      "source": [
        "## Training Functions"
      ]
    },
    {
      "cell_type": "code",
      "metadata": {
        "id": "cWr8wl3_-gEk",
        "colab_type": "code",
        "colab": {}
      },
      "source": [
        "def cosine_segment(start_lr, end_lr, iterations):\n",
        "    i = np.arange(iterations)\n",
        "    c_i = 1 + np.cos(i*np.pi/iterations)\n",
        "    return end_lr + (start_lr - end_lr)/2 *c_i\n",
        "\n",
        "def get_cosine_triangular_lr(max_lr, iterations, div_start=5, div_end=5):\n",
        "    min_start, min_end = max_lr/div_start, max_lr/div_end\n",
        "    iter1 = int(0.3*iterations)\n",
        "    iter2 = iterations - iter1\n",
        "    segs = [cosine_segment(min_start, max_lr, iter1), cosine_segment(max_lr, min_end, iter2)]\n",
        "    return np.concatenate(segs)"
      ],
      "execution_count": 22,
      "outputs": []
    },
    {
      "cell_type": "code",
      "metadata": {
        "id": "hzPrKi3z-gEm",
        "colab_type": "code",
        "colab": {}
      },
      "source": [
        "def set_learning_rate(optimizer, lr):\n",
        "    \"\"\"Changing learning rates without creating a new optimizer\"\"\"\n",
        "    for param_group in optimizer.param_groups:\n",
        "        param_group['lr'] = lr"
      ],
      "execution_count": 23,
      "outputs": []
    },
    {
      "cell_type": "code",
      "metadata": {
        "id": "_ROshXKP-gEn",
        "colab_type": "code",
        "colab": {}
      },
      "source": [
        "def train_epocs(model, optimzer, train_dl, valid_dl, epochs=10, max_lr=0.01):\n",
        "    iterations = epochs*len(train_dl)\n",
        "    lrs = get_cosine_triangular_lr(max_lr, iterations)\n",
        "    vals = []\n",
        "    for epoch in range(epochs):\n",
        "        model.train()\n",
        "        sum_loss = 0.0\n",
        "        total = 0\n",
        "        i = 0\n",
        "        for u, v, y in train_dl:\n",
        "            set_learning_rate(optimizer, lrs[i])\n",
        "            users = u.long().cuda()\n",
        "            places = v.long().cuda()\n",
        "            ratings = y.float().cuda()\n",
        "            y_hat = model(users, places)\n",
        "            loss = F.mse_loss(y_hat, ratings)\n",
        "            optimizer.zero_grad()\n",
        "            loss.backward()\n",
        "            optimizer.step()\n",
        "            sum_loss += loss.item()*y.shape[0]\n",
        "            total += y.shape[0]\n",
        "            i += 1\n",
        "        val_loss = val_metrics(model, valid_dl)\n",
        "        vals.append(val_loss)\n",
        "        if epoch % 10 == 0: \n",
        "            print(f\"train loss {sum_loss/total:.3f} valid loss {val_loss:.3f}\") #valid accuracy {testaccur:.5f}"
      ],
      "execution_count": 24,
      "outputs": []
    },
    {
      "cell_type": "code",
      "metadata": {
        "id": "9XupIE93-gEp",
        "colab_type": "code",
        "colab": {}
      },
      "source": [
        "def val_metrics(model, valid_dl):\n",
        "    model.eval()\n",
        "    correct = 0\n",
        "    total = 0\n",
        "    sum_loss = 0.0\n",
        "    for u, v, y in valid_dl:\n",
        "        users = u.long().cuda()\n",
        "        places = v.long().cuda()\n",
        "        ratings = y.float().cuda()\n",
        "        y_hat = model(users, places)\n",
        "        loss = F.mse_loss(y_hat, ratings)\n",
        "        #y_pred = y_hat > 0\n",
        "        #correct += (y_pred.float() == y).float().sum()\n",
        "        total += y.shape[0]\n",
        "        sum_loss += loss.item()*y.shape[0]\n",
        "    return sum_loss/total #, correct/total"
      ],
      "execution_count": 25,
      "outputs": []
    },
    {
      "cell_type": "markdown",
      "metadata": {
        "id": "ZSwassBO-gEq",
        "colab_type": "text"
      },
      "source": [
        "## Train"
      ]
    },
    {
      "cell_type": "code",
      "metadata": {
        "id": "RnqzYFgO-gEq",
        "colab_type": "code",
        "colab": {
          "base_uri": "https://localhost:8080/",
          "height": 34
        },
        "outputId": "34d81e93-989d-4a8f-cd6f-60d12bc71319"
      },
      "source": [
        "num_items, num_users = len(train_enc.item.unique()), len(train_enc.user.unique())\n",
        "num_items, num_users"
      ],
      "execution_count": 26,
      "outputs": [
        {
          "output_type": "execute_result",
          "data": {
            "text/plain": [
              "(19063, 32894)"
            ]
          },
          "metadata": {
            "tags": []
          },
          "execution_count": 26
        }
      ]
    },
    {
      "cell_type": "code",
      "metadata": {
        "id": "QuXgo7R4-gEs",
        "colab_type": "code",
        "colab": {}
      },
      "source": [
        "model = MF_bias(num_users, num_items, emb_size=100, bias=False).cuda()"
      ],
      "execution_count": 27,
      "outputs": []
    },
    {
      "cell_type": "code",
      "metadata": {
        "id": "_HFbcGtU-gEu",
        "colab_type": "code",
        "colab": {}
      },
      "source": [
        "optimizer = torch.optim.Adam(model.parameters(), lr=0.01, weight_decay=1e-5)"
      ],
      "execution_count": 28,
      "outputs": []
    },
    {
      "cell_type": "code",
      "metadata": {
        "id": "0UPh4Zf0-gEv",
        "colab_type": "code",
        "colab": {
          "base_uri": "https://localhost:8080/",
          "height": 102
        },
        "outputId": "04e36aa2-584d-40dd-9461-33ecb25bc53c"
      },
      "source": [
        "train_epocs(model, optimizer, train_dl, valid_dl, max_lr=0.005, epochs=50)"
      ],
      "execution_count": 29,
      "outputs": [
        {
          "output_type": "stream",
          "text": [
            "train loss 20.076 valid loss 20.220\n",
            "train loss 13.983 valid loss 13.583\n",
            "train loss 6.133 valid loss 6.068\n",
            "train loss 2.907 valid loss 3.387\n",
            "train loss 1.650 valid loss 2.420\n"
          ],
          "name": "stdout"
        }
      ]
    },
    {
      "cell_type": "code",
      "metadata": {
        "id": "cf89pvV8-gEx",
        "colab_type": "code",
        "colab": {
          "base_uri": "https://localhost:8080/",
          "height": 34
        },
        "outputId": "a25cef7a-0b60-4b57-f512-7920cb647b55"
      },
      "source": [
        "val_metrics(model, valid_dl)"
      ],
      "execution_count": 30,
      "outputs": [
        {
          "output_type": "execute_result",
          "data": {
            "text/plain": [
              "2.0288543015365472"
            ]
          },
          "metadata": {
            "tags": []
          },
          "execution_count": 30
        }
      ]
    },
    {
      "cell_type": "code",
      "metadata": {
        "id": "jdvJdl7S-gEz",
        "colab_type": "code",
        "colab": {}
      },
      "source": [
        ""
      ],
      "execution_count": null,
      "outputs": []
    }
  ]
}