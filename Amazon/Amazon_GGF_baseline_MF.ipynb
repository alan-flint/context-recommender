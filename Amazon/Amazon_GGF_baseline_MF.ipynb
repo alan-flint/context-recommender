{
  "nbformat": 4,
  "nbformat_minor": 0,
  "metadata": {
    "kernelspec": {
      "display_name": "Python 3",
      "language": "python",
      "name": "python3"
    },
    "language_info": {
      "codemirror_mode": {
        "name": "ipython",
        "version": 3
      },
      "file_extension": ".py",
      "mimetype": "text/x-python",
      "name": "python",
      "nbconvert_exporter": "python",
      "pygments_lexer": "ipython3",
      "version": "3.6.10"
    },
    "colab": {
      "name": "Amazon_GGF_baseline_MF.ipynb",
      "provenance": [],
      "collapsed_sections": []
    },
    "accelerator": "GPU"
  },
  "cells": [
    {
      "cell_type": "code",
      "metadata": {
        "id": "mcEZDAB6YIy4",
        "colab_type": "code",
        "colab": {}
      },
      "source": [
        "from pathlib import Path\n",
        "import pandas as pd\n",
        "pd.options.mode.chained_assignment = None\n",
        "import numpy as np\n",
        "\n",
        "import torch\n",
        "import torch.nn as nn\n",
        "import torch.nn.functional as F\n",
        "from torch.utils.data import Dataset, DataLoader\n",
        "\n",
        "from sklearn.model_selection import train_test_split\n",
        "from collections import Counter"
      ],
      "execution_count": 1,
      "outputs": []
    },
    {
      "cell_type": "code",
      "metadata": {
        "id": "N8QmfSo_YIy8",
        "colab_type": "code",
        "colab": {}
      },
      "source": [
        "import gzip\n",
        "import json\n",
        "import io\n",
        "\n",
        "def parse(path):\n",
        "    g = gzip.open(path, 'rb')\n",
        "    for l in g:\n",
        "        yield json.loads(l)\n",
        "\n",
        "def unpack_dataset():\n",
        "    ! wget http://deepyeti.ucsd.edu/jianmo/amazon/categoryFilesSmall/Grocery_and_Gourmet_Food_5.json.gz\n",
        "    #! wget http://snap.stanford.edu/data/amazon/productGraph/categoryFiles/ratings_Grocery_and_Gourmet_Food.csv\n",
        "    ! mkdir data\n",
        "    ! mv Gro* data\n",
        "\n",
        "def getDF(path):\n",
        "    i = 0\n",
        "    df = {}\n",
        "    for d in parse(path):\n",
        "        df[i] = d\n",
        "        i += 1\n",
        "    return pd.DataFrame.from_dict(df, orient='index')"
      ],
      "execution_count": 2,
      "outputs": []
    },
    {
      "cell_type": "code",
      "metadata": {
        "id": "_OH58qnfYXpM",
        "colab_type": "code",
        "colab": {
          "base_uri": "https://localhost:8080/",
          "height": 204
        },
        "outputId": "24da29ca-da9b-4804-9d96-6559326b1250"
      },
      "source": [
        "unpack_dataset()"
      ],
      "execution_count": 3,
      "outputs": [
        {
          "output_type": "stream",
          "text": [
            "--2020-06-24 20:37:39--  http://deepyeti.ucsd.edu/jianmo/amazon/categoryFilesSmall/Grocery_and_Gourmet_Food_5.json.gz\n",
            "Resolving deepyeti.ucsd.edu (deepyeti.ucsd.edu)... 169.228.63.50\n",
            "Connecting to deepyeti.ucsd.edu (deepyeti.ucsd.edu)|169.228.63.50|:80... connected.\n",
            "HTTP request sent, awaiting response... 200 OK\n",
            "Length: 146631394 (140M) [application/octet-stream]\n",
            "Saving to: ‘Grocery_and_Gourmet_Food_5.json.gz’\n",
            "\n",
            "Grocery_and_Gourmet 100%[===================>] 139.84M  11.2MB/s    in 11s     \n",
            "\n",
            "2020-06-24 20:37:51 (12.5 MB/s) - ‘Grocery_and_Gourmet_Food_5.json.gz’ saved [146631394/146631394]\n",
            "\n"
          ],
          "name": "stdout"
        }
      ]
    },
    {
      "cell_type": "code",
      "metadata": {
        "id": "lNnd5irJYIy_",
        "colab_type": "code",
        "colab": {}
      },
      "source": [
        "data = getDF('data/Grocery_and_Gourmet_Food_5.json.gz')"
      ],
      "execution_count": 4,
      "outputs": []
    },
    {
      "cell_type": "code",
      "metadata": {
        "id": "zKjsHocEYIzC",
        "colab_type": "code",
        "colab": {
          "base_uri": "https://localhost:8080/",
          "height": 34
        },
        "outputId": "19e0e5ae-cbeb-406a-a2cc-808e453fcc9d"
      },
      "source": [
        "data.shape"
      ],
      "execution_count": 5,
      "outputs": [
        {
          "output_type": "execute_result",
          "data": {
            "text/plain": [
              "(1143860, 12)"
            ]
          },
          "metadata": {
            "tags": []
          },
          "execution_count": 5
        }
      ]
    },
    {
      "cell_type": "code",
      "metadata": {
        "id": "bEW1w39kYIzF",
        "colab_type": "code",
        "colab": {}
      },
      "source": [
        "data = data.loc[(data.reviewTime.str.contains('2018'))] #| (data.reviewTime.str.contains('2016')) | (data.reviewTime.str.contains('2017')) | (data.reviewTime.str.contains('2018'))]"
      ],
      "execution_count": 6,
      "outputs": []
    },
    {
      "cell_type": "code",
      "metadata": {
        "id": "S-Pm_l1UDJbk",
        "colab_type": "code",
        "colab": {
          "base_uri": "https://localhost:8080/",
          "height": 34
        },
        "outputId": "e47bc043-7c15-45ec-cdf2-31c9aeacc9bb"
      },
      "source": [
        "data.shape"
      ],
      "execution_count": 7,
      "outputs": [
        {
          "output_type": "execute_result",
          "data": {
            "text/plain": [
              "(98253, 12)"
            ]
          },
          "metadata": {
            "tags": []
          },
          "execution_count": 7
        }
      ]
    },
    {
      "cell_type": "code",
      "metadata": {
        "id": "2Exfoo-LYIzH",
        "colab_type": "code",
        "colab": {}
      },
      "source": [
        "# only use user, item, & ratings\n",
        "df = data[['reviewerID', 'asin', 'overall']]\n",
        "df.columns = ['user', 'item', 'rating']"
      ],
      "execution_count": 8,
      "outputs": []
    },
    {
      "cell_type": "code",
      "metadata": {
        "id": "yX4Q500RYIzJ",
        "colab_type": "code",
        "colab": {}
      },
      "source": [
        "del data"
      ],
      "execution_count": 9,
      "outputs": []
    },
    {
      "cell_type": "code",
      "metadata": {
        "id": "PPJ--QJCYIzM",
        "colab_type": "code",
        "colab": {
          "base_uri": "https://localhost:8080/",
          "height": 204
        },
        "outputId": "2d188e74-c0e7-4a61-a24d-a9ccdc0b96ec"
      },
      "source": [
        "df.head()"
      ],
      "execution_count": 10,
      "outputs": [
        {
          "output_type": "execute_result",
          "data": {
            "text/html": [
              "<div>\n",
              "<style scoped>\n",
              "    .dataframe tbody tr th:only-of-type {\n",
              "        vertical-align: middle;\n",
              "    }\n",
              "\n",
              "    .dataframe tbody tr th {\n",
              "        vertical-align: top;\n",
              "    }\n",
              "\n",
              "    .dataframe thead th {\n",
              "        text-align: right;\n",
              "    }\n",
              "</style>\n",
              "<table border=\"1\" class=\"dataframe\">\n",
              "  <thead>\n",
              "    <tr style=\"text-align: right;\">\n",
              "      <th></th>\n",
              "      <th>user</th>\n",
              "      <th>item</th>\n",
              "      <th>rating</th>\n",
              "    </tr>\n",
              "  </thead>\n",
              "  <tbody>\n",
              "    <tr>\n",
              "      <th>50</th>\n",
              "      <td>A1U32SY2BN1I4T</td>\n",
              "      <td>9742356831</td>\n",
              "      <td>5.0</td>\n",
              "    </tr>\n",
              "    <tr>\n",
              "      <th>51</th>\n",
              "      <td>A2ULESH6GADUEW</td>\n",
              "      <td>9742356831</td>\n",
              "      <td>5.0</td>\n",
              "    </tr>\n",
              "    <tr>\n",
              "      <th>52</th>\n",
              "      <td>A1TI6UAU422P4Y</td>\n",
              "      <td>9742356831</td>\n",
              "      <td>3.0</td>\n",
              "    </tr>\n",
              "    <tr>\n",
              "      <th>53</th>\n",
              "      <td>A3VG446SHJH37O</td>\n",
              "      <td>9742356831</td>\n",
              "      <td>5.0</td>\n",
              "    </tr>\n",
              "    <tr>\n",
              "      <th>509</th>\n",
              "      <td>A2ZKFKG2PMJA3A</td>\n",
              "      <td>B00008RCN8</td>\n",
              "      <td>5.0</td>\n",
              "    </tr>\n",
              "  </tbody>\n",
              "</table>\n",
              "</div>"
            ],
            "text/plain": [
              "               user        item  rating\n",
              "50   A1U32SY2BN1I4T  9742356831     5.0\n",
              "51   A2ULESH6GADUEW  9742356831     5.0\n",
              "52   A1TI6UAU422P4Y  9742356831     3.0\n",
              "53   A3VG446SHJH37O  9742356831     5.0\n",
              "509  A2ZKFKG2PMJA3A  B00008RCN8     5.0"
            ]
          },
          "metadata": {
            "tags": []
          },
          "execution_count": 10
        }
      ]
    },
    {
      "cell_type": "markdown",
      "metadata": {
        "id": "GkHTdWiHYIzO",
        "colab_type": "text"
      },
      "source": [
        "## Split Train/Validation"
      ]
    },
    {
      "cell_type": "code",
      "metadata": {
        "id": "SYThqK9cYIzP",
        "colab_type": "code",
        "colab": {
          "base_uri": "https://localhost:8080/",
          "height": 34
        },
        "outputId": "ce25acd7-d467-4cf5-d410-1f873bf56648"
      },
      "source": [
        "train, val = train_test_split(df, test_size=0.2)\n",
        "train.shape, val.shape"
      ],
      "execution_count": 11,
      "outputs": [
        {
          "output_type": "execute_result",
          "data": {
            "text/plain": [
              "((78602, 3), (19651, 3))"
            ]
          },
          "metadata": {
            "tags": []
          },
          "execution_count": 11
        }
      ]
    },
    {
      "cell_type": "markdown",
      "metadata": {
        "id": "pGbuLAUvYIzW",
        "colab_type": "text"
      },
      "source": [
        "## Encode Places and Users"
      ]
    },
    {
      "cell_type": "code",
      "metadata": {
        "id": "a6YIVl83YIzX",
        "colab_type": "code",
        "colab": {}
      },
      "source": [
        "def encode_cols(train, val, cols):\n",
        "    for col in cols:\n",
        "        uniq = train[col].unique()\n",
        "        col2idx = {val: i for i, val in enumerate(uniq)}\n",
        "        train[col] = train[col].apply(lambda x: col2idx.get(x, -1))\n",
        "        val[col] = val[col].apply(lambda x: col2idx.get(x, -1))\n",
        "        val = val.loc[val[col] >= 0] \n",
        "    return train, val"
      ],
      "execution_count": 12,
      "outputs": []
    },
    {
      "cell_type": "code",
      "metadata": {
        "id": "7DcVhLm1YIzZ",
        "colab_type": "code",
        "colab": {}
      },
      "source": [
        "train_enc, val_enc = encode_cols(train, val, ['user', 'item'])"
      ],
      "execution_count": 13,
      "outputs": []
    },
    {
      "cell_type": "code",
      "metadata": {
        "id": "LZZgcD7MYIzb",
        "colab_type": "code",
        "colab": {
          "base_uri": "https://localhost:8080/",
          "height": 34
        },
        "outputId": "f341dad3-9244-45e0-ea11-d1654551226f"
      },
      "source": [
        "len(train_enc.user.unique()), len(train_enc.item.unique())"
      ],
      "execution_count": 14,
      "outputs": [
        {
          "output_type": "execute_result",
          "data": {
            "text/plain": [
              "(32860, 19067)"
            ]
          },
          "metadata": {
            "tags": []
          },
          "execution_count": 14
        }
      ]
    },
    {
      "cell_type": "code",
      "metadata": {
        "id": "2BAgW_g0YIzd",
        "colab_type": "code",
        "colab": {
          "base_uri": "https://localhost:8080/",
          "height": 204
        },
        "outputId": "3474940d-6a0a-4533-ce51-5ee561c657ba"
      },
      "source": [
        "train_enc.head()"
      ],
      "execution_count": 15,
      "outputs": [
        {
          "output_type": "execute_result",
          "data": {
            "text/html": [
              "<div>\n",
              "<style scoped>\n",
              "    .dataframe tbody tr th:only-of-type {\n",
              "        vertical-align: middle;\n",
              "    }\n",
              "\n",
              "    .dataframe tbody tr th {\n",
              "        vertical-align: top;\n",
              "    }\n",
              "\n",
              "    .dataframe thead th {\n",
              "        text-align: right;\n",
              "    }\n",
              "</style>\n",
              "<table border=\"1\" class=\"dataframe\">\n",
              "  <thead>\n",
              "    <tr style=\"text-align: right;\">\n",
              "      <th></th>\n",
              "      <th>user</th>\n",
              "      <th>item</th>\n",
              "      <th>rating</th>\n",
              "    </tr>\n",
              "  </thead>\n",
              "  <tbody>\n",
              "    <tr>\n",
              "      <th>371813</th>\n",
              "      <td>0</td>\n",
              "      <td>0</td>\n",
              "      <td>5.0</td>\n",
              "    </tr>\n",
              "    <tr>\n",
              "      <th>1033729</th>\n",
              "      <td>1</td>\n",
              "      <td>1</td>\n",
              "      <td>5.0</td>\n",
              "    </tr>\n",
              "    <tr>\n",
              "      <th>1080193</th>\n",
              "      <td>2</td>\n",
              "      <td>2</td>\n",
              "      <td>5.0</td>\n",
              "    </tr>\n",
              "    <tr>\n",
              "      <th>1068894</th>\n",
              "      <td>3</td>\n",
              "      <td>3</td>\n",
              "      <td>5.0</td>\n",
              "    </tr>\n",
              "    <tr>\n",
              "      <th>992146</th>\n",
              "      <td>4</td>\n",
              "      <td>4</td>\n",
              "      <td>1.0</td>\n",
              "    </tr>\n",
              "  </tbody>\n",
              "</table>\n",
              "</div>"
            ],
            "text/plain": [
              "         user  item  rating\n",
              "371813      0     0     5.0\n",
              "1033729     1     1     5.0\n",
              "1080193     2     2     5.0\n",
              "1068894     3     3     5.0\n",
              "992146      4     4     1.0"
            ]
          },
          "metadata": {
            "tags": []
          },
          "execution_count": 15
        }
      ]
    },
    {
      "cell_type": "markdown",
      "metadata": {
        "id": "8u4xHkT5YIzf",
        "colab_type": "text"
      },
      "source": [
        "## Dataset and Data Loader"
      ]
    },
    {
      "cell_type": "code",
      "metadata": {
        "id": "TtTPkWX-YIzf",
        "colab_type": "code",
        "colab": {}
      },
      "source": [
        "class AmazonDataset(Dataset):\n",
        "    def __init__(self, X, y):\n",
        "        self.user = X.user.values\n",
        "        self.item = X.item.values\n",
        "        self.y = y\n",
        "        \n",
        "    def __len__(self):\n",
        "        return len(self.y)\n",
        "    \n",
        "    def __getitem__(self, idx):\n",
        "        return self.user[idx], self.item[idx], self.y[idx]"
      ],
      "execution_count": 16,
      "outputs": []
    },
    {
      "cell_type": "code",
      "metadata": {
        "id": "lEuDQtUcYIzh",
        "colab_type": "code",
        "colab": {}
      },
      "source": [
        "train_ds = AmazonDataset(train_enc[['item', 'user']], train_enc.rating.values)\n",
        "valid_ds = AmazonDataset(val_enc[['item', 'user']], val_enc.rating.values)"
      ],
      "execution_count": 17,
      "outputs": []
    },
    {
      "cell_type": "code",
      "metadata": {
        "id": "l5Xf6MdRYIzk",
        "colab_type": "code",
        "colab": {}
      },
      "source": [
        "batch_size = 5_000\n",
        "train_dl = DataLoader(train_ds, batch_size=batch_size, shuffle=True)\n",
        "valid_dl = DataLoader(valid_ds, batch_size=batch_size)"
      ],
      "execution_count": 18,
      "outputs": []
    },
    {
      "cell_type": "code",
      "metadata": {
        "id": "H-SPm2JMYIzm",
        "colab_type": "code",
        "colab": {
          "base_uri": "https://localhost:8080/",
          "height": 68
        },
        "outputId": "b6a18890-0f46-41a0-cf6e-851703569b57"
      },
      "source": [
        "next(iter(train_dl))"
      ],
      "execution_count": 19,
      "outputs": [
        {
          "output_type": "execute_result",
          "data": {
            "text/plain": [
              "[tensor([17005, 20167, 12152,  ..., 27147,    11,  1517]),\n",
              " tensor([18377, 11014,  6528,  ...,  5054,  1335, 10141]),\n",
              " tensor([5., 5., 4.,  ..., 5., 5., 5.], dtype=torch.float64)]"
            ]
          },
          "metadata": {
            "tags": []
          },
          "execution_count": 19
        }
      ]
    },
    {
      "cell_type": "markdown",
      "metadata": {
        "id": "IPJLg_mVYIzn",
        "colab_type": "text"
      },
      "source": [
        "## Model"
      ]
    },
    {
      "cell_type": "code",
      "metadata": {
        "id": "h_0GQrPIYIzo",
        "colab_type": "code",
        "colab": {}
      },
      "source": [
        "class MF_bias(nn.Module):\n",
        "    def __init__(self, num_users, num_places, emb_size=100, bias=True):\n",
        "        super(MF_bias, self).__init__()\n",
        "        self.user_emb = nn.Embedding(num_users, emb_size)\n",
        "        self.place_emb = nn.Embedding(num_places, emb_size)\n",
        "        \n",
        "        self.user_emb.weight.data.uniform_(0,0.05)\n",
        "        self.place_emb.weight.data.uniform_(0,0.05)\n",
        "        \n",
        "        self.bias = bias\n",
        "        if self.bias:\n",
        "            self.user_bias = nn.Embedding(num_users, 1)\n",
        "            self.place_bias = nn.Embedding(num_places, 1)\n",
        "            \n",
        "            self.user_bias.weight.data.uniform_(-0.01,0.01)\n",
        "            self.place_emb.weight.data.uniform_(-0.01,0.01)\n",
        "            \n",
        "        self.dropout = nn.Dropout(0.3)\n",
        "        \n",
        "    def forward(self, u, v):\n",
        "        U = self.user_emb(u)\n",
        "        V = self.place_emb(v)\n",
        "        U, V = self.dropout(U), self.dropout(V)\n",
        "        if self.bias:\n",
        "            b_u = self.user_bias(u).squeeze()\n",
        "            b_v = self.place_bias(v).squeeze()\n",
        "            return (U*V).sum(1) +  b_u  + b_v\n",
        "        return (U*V).sum(1)"
      ],
      "execution_count": 20,
      "outputs": []
    },
    {
      "cell_type": "markdown",
      "metadata": {
        "id": "HUbORZX7YIzq",
        "colab_type": "text"
      },
      "source": [
        "## Training Functions"
      ]
    },
    {
      "cell_type": "code",
      "metadata": {
        "id": "zCK3wBxSYIzq",
        "colab_type": "code",
        "colab": {}
      },
      "source": [
        "def cosine_segment(start_lr, end_lr, iterations):\n",
        "    i = np.arange(iterations)\n",
        "    c_i = 1 + np.cos(i*np.pi/iterations)\n",
        "    return end_lr + (start_lr - end_lr)/2 *c_i\n",
        "\n",
        "def get_cosine_triangular_lr(max_lr, iterations, div_start=5, div_end=5):\n",
        "    min_start, min_end = max_lr/div_start, max_lr/div_end\n",
        "    iter1 = int(0.3*iterations)\n",
        "    iter2 = iterations - iter1\n",
        "    segs = [cosine_segment(min_start, max_lr, iter1), cosine_segment(max_lr, min_end, iter2)]\n",
        "    return np.concatenate(segs)"
      ],
      "execution_count": 21,
      "outputs": []
    },
    {
      "cell_type": "code",
      "metadata": {
        "id": "PZu5ABviYIzs",
        "colab_type": "code",
        "colab": {}
      },
      "source": [
        "def set_learning_rate(optimizer, lr):\n",
        "    \"\"\"Changing learning rates without creating a new optimizer\"\"\"\n",
        "    for param_group in optimizer.param_groups:\n",
        "        param_group['lr'] = lr"
      ],
      "execution_count": 22,
      "outputs": []
    },
    {
      "cell_type": "code",
      "metadata": {
        "id": "6xmfUXAJYIzu",
        "colab_type": "code",
        "colab": {}
      },
      "source": [
        "def train_epocs(model, optimzer, train_dl, valid_dl, epochs=10, max_lr=0.01):\n",
        "    iterations = epochs*len(train_dl)\n",
        "    lrs = get_cosine_triangular_lr(max_lr, iterations)\n",
        "    vals = []\n",
        "    for epoch in range(epochs):\n",
        "        model.train()\n",
        "        sum_loss = 0.0\n",
        "        total = 0\n",
        "        i = 0\n",
        "        for u, v, y in train_dl:\n",
        "            set_learning_rate(optimizer, lrs[i])\n",
        "            users = u.long().cuda()\n",
        "            places = v.long().cuda()\n",
        "            ratings = y.float().cuda()\n",
        "            y_hat = model(users, places)\n",
        "            loss = F.mse_loss(y_hat, ratings)\n",
        "            optimizer.zero_grad()\n",
        "            loss.backward()\n",
        "            optimizer.step()\n",
        "            sum_loss += loss.item()*y.shape[0]\n",
        "            total += y.shape[0]\n",
        "            i += 1\n",
        "        val_loss = val_metrics(model, valid_dl)\n",
        "        vals.append(val_loss)\n",
        "        if epoch % 10 == 0: \n",
        "            print(f\"train loss {sum_loss/total:.3f} valid loss {val_loss:.3f}\") #valid accuracy {testaccur:.5f}"
      ],
      "execution_count": 23,
      "outputs": []
    },
    {
      "cell_type": "code",
      "metadata": {
        "id": "0AjbBQAyYIzv",
        "colab_type": "code",
        "colab": {}
      },
      "source": [
        "def val_metrics(model, valid_dl):\n",
        "    model.eval()\n",
        "    correct = 0\n",
        "    total = 0\n",
        "    sum_loss = 0.0\n",
        "    for u, v, y in valid_dl:\n",
        "        users = u.long().cuda()\n",
        "        places = v.long().cuda()\n",
        "        ratings = y.float().cuda()\n",
        "        y_hat = model(users, places)\n",
        "        loss = F.mse_loss(y_hat, ratings)\n",
        "        #y_pred = y_hat > 0\n",
        "        #correct += (y_pred.float() == y).float().sum()\n",
        "        total += y.shape[0]\n",
        "        sum_loss += loss.item()*y.shape[0]\n",
        "    return sum_loss/total #, correct/total"
      ],
      "execution_count": 24,
      "outputs": []
    },
    {
      "cell_type": "markdown",
      "metadata": {
        "id": "ON7BIN6TYIzy",
        "colab_type": "text"
      },
      "source": [
        "## Train"
      ]
    },
    {
      "cell_type": "code",
      "metadata": {
        "id": "KTwIRifgYIzy",
        "colab_type": "code",
        "colab": {
          "base_uri": "https://localhost:8080/",
          "height": 34
        },
        "outputId": "ec2e7474-7c47-4892-db11-14a9074d7dc4"
      },
      "source": [
        "num_items, num_users = len(train_enc.item.unique()), len(train_enc.user.unique())\n",
        "num_items, num_users"
      ],
      "execution_count": 25,
      "outputs": [
        {
          "output_type": "execute_result",
          "data": {
            "text/plain": [
              "(19067, 32860)"
            ]
          },
          "metadata": {
            "tags": []
          },
          "execution_count": 25
        }
      ]
    },
    {
      "cell_type": "code",
      "metadata": {
        "id": "AsOFBL6CYIz1",
        "colab_type": "code",
        "colab": {}
      },
      "source": [
        "model = MF_bias(num_users, num_items, emb_size=100, bias=False).cuda()"
      ],
      "execution_count": 31,
      "outputs": []
    },
    {
      "cell_type": "code",
      "metadata": {
        "id": "Zmq6KTGCYIz3",
        "colab_type": "code",
        "colab": {}
      },
      "source": [
        "optimizer = torch.optim.Adam(model.parameters(), lr=0.01, weight_decay=1e-5)"
      ],
      "execution_count": 32,
      "outputs": []
    },
    {
      "cell_type": "code",
      "metadata": {
        "id": "OmxmVUxrYIz6",
        "colab_type": "code",
        "colab": {
          "base_uri": "https://localhost:8080/",
          "height": 272
        },
        "outputId": "5775ce56-2ca8-4a6e-c575-f7f5f1c1066b"
      },
      "source": [
        "train_epocs(model, optimizer, train_dl, valid_dl, max_lr=0.01, epochs=150)"
      ],
      "execution_count": 33,
      "outputs": [
        {
          "output_type": "stream",
          "text": [
            "train loss 20.125 valid loss 20.137\n",
            "train loss 7.107 valid loss 6.881\n",
            "train loss 1.910 valid loss 2.946\n",
            "train loss 0.901 valid loss 2.226\n",
            "train loss 0.670 valid loss 2.023\n",
            "train loss 0.576 valid loss 1.953\n",
            "train loss 0.528 valid loss 1.928\n",
            "train loss 0.485 valid loss 1.917\n",
            "train loss 0.451 valid loss 1.922\n",
            "train loss 0.419 valid loss 1.920\n",
            "train loss 0.397 valid loss 1.927\n",
            "train loss 0.380 valid loss 1.939\n",
            "train loss 0.371 valid loss 1.952\n",
            "train loss 0.368 valid loss 1.970\n",
            "train loss 0.365 valid loss 1.991\n"
          ],
          "name": "stdout"
        }
      ]
    },
    {
      "cell_type": "code",
      "metadata": {
        "id": "6_3yiGjuYIz8",
        "colab_type": "code",
        "colab": {
          "base_uri": "https://localhost:8080/",
          "height": 34
        },
        "outputId": "4265884e-bace-43ee-99c8-ee2a13747e7b"
      },
      "source": [
        "val_metrics(model, valid_dl)"
      ],
      "execution_count": 34,
      "outputs": [
        {
          "output_type": "execute_result",
          "data": {
            "text/plain": [
              "2.0040587285937606"
            ]
          },
          "metadata": {
            "tags": []
          },
          "execution_count": 34
        }
      ]
    },
    {
      "cell_type": "code",
      "metadata": {
        "id": "wfyGoRHdDOWI",
        "colab_type": "code",
        "colab": {}
      },
      "source": [
        ""
      ],
      "execution_count": 29,
      "outputs": []
    }
  ]
}