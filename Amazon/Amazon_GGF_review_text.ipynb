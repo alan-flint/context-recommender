{
  "nbformat": 4,
  "nbformat_minor": 0,
  "metadata": {
    "kernelspec": {
      "display_name": "Python 3",
      "language": "python",
      "name": "python3"
    },
    "language_info": {
      "codemirror_mode": {
        "name": "ipython",
        "version": 3
      },
      "file_extension": ".py",
      "mimetype": "text/x-python",
      "name": "python",
      "nbconvert_exporter": "python",
      "pygments_lexer": "ipython3",
      "version": "3.6.10"
    },
    "colab": {
      "name": "Amazon_GGF_review_text.ipynb",
      "provenance": [],
      "collapsed_sections": [],
      "toc_visible": true
    },
    "accelerator": "GPU"
  },
  "cells": [
    {
      "cell_type": "code",
      "metadata": {
        "id": "zDBIbdMnY75b",
        "colab_type": "code",
        "colab": {}
      },
      "source": [
        "from pathlib import Path\n",
        "import pandas as pd\n",
        "pd.options.mode.chained_assignment = None\n",
        "import numpy as np\n",
        "\n",
        "import torch\n",
        "import torch.nn as nn\n",
        "import torch.nn.functional as F\n",
        "from torch.utils.data import Dataset, DataLoader\n",
        "from torch.nn.utils.rnn import pack_padded_sequence\n",
        "\n",
        "from sklearn.model_selection import train_test_split\n",
        "from collections import Counter"
      ],
      "execution_count": 1,
      "outputs": []
    },
    {
      "cell_type": "code",
      "metadata": {
        "id": "iLgTdbfZY75h",
        "colab_type": "code",
        "colab": {}
      },
      "source": [
        "import gzip\n",
        "import json\n",
        "import io\n",
        "\n",
        "def parse(path):\n",
        "    g = gzip.open(path, 'rb')\n",
        "    for l in g:\n",
        "        yield json.loads(l)\n",
        "\n",
        "def unpack_dataset():\n",
        "    ! wget http://deepyeti.ucsd.edu/jianmo/amazon/categoryFilesSmall/Grocery_and_Gourmet_Food_5.json.gz\n",
        "    ! mkdir data\n",
        "    ! mv Gro* data\n",
        "\n",
        "def getDF(path):\n",
        "    i = 0\n",
        "    df = {}\n",
        "    for d in parse(path):\n",
        "        df[i] = d\n",
        "        i += 1\n",
        "    return pd.DataFrame.from_dict(df, orient='index')"
      ],
      "execution_count": 2,
      "outputs": []
    },
    {
      "cell_type": "code",
      "metadata": {
        "id": "IyjWdsm9ZCaY",
        "colab_type": "code",
        "colab": {
          "base_uri": "https://localhost:8080/",
          "height": 241
        },
        "outputId": "721153fa-17de-440a-aea6-80dea754aa71"
      },
      "source": [
        "unpack_dataset()\n"
      ],
      "execution_count": 3,
      "outputs": [
        {
          "output_type": "stream",
          "text": [
            "--2020-06-24 05:30:41--  http://deepyeti.ucsd.edu/jianmo/amazon/categoryFilesSmall/Grocery_and_Gourmet_Food_5.json.gz\n",
            "Resolving deepyeti.ucsd.edu (deepyeti.ucsd.edu)... 169.228.63.50\n",
            "Connecting to deepyeti.ucsd.edu (deepyeti.ucsd.edu)|169.228.63.50|:80... connected.\n",
            "HTTP request sent, awaiting response... 200 OK\n",
            "Length: 146631394 (140M) [application/octet-stream]\n",
            "Saving to: ‘Grocery_and_Gourmet_Food_5.json.gz’\n",
            "\n",
            "Grocery_and_Gourmet 100%[===================>] 139.84M  21.4MB/s    in 7.4s    \n",
            "\n",
            "2020-06-24 05:30:49 (18.8 MB/s) - ‘Grocery_and_Gourmet_Food_5.json.gz’ saved [146631394/146631394]\n",
            "\n",
            "mkdir: cannot create directory ‘data’: File exists\n"
          ],
          "name": "stdout"
        }
      ]
    },
    {
      "cell_type": "code",
      "metadata": {
        "id": "quQWtO1NY75j",
        "colab_type": "code",
        "colab": {}
      },
      "source": [
        "data = getDF('data/Grocery_and_Gourmet_Food_5.json.gz')"
      ],
      "execution_count": 4,
      "outputs": []
    },
    {
      "cell_type": "code",
      "metadata": {
        "id": "tDVYqxx3Y75w",
        "colab_type": "code",
        "colab": {
          "base_uri": "https://localhost:8080/",
          "height": 34
        },
        "outputId": "c907195f-455f-410b-8788-6628a9eb3425"
      },
      "source": [
        "data.shape"
      ],
      "execution_count": 5,
      "outputs": [
        {
          "output_type": "execute_result",
          "data": {
            "text/plain": [
              "(1143860, 12)"
            ]
          },
          "metadata": {
            "tags": []
          },
          "execution_count": 5
        }
      ]
    },
    {
      "cell_type": "code",
      "metadata": {
        "id": "-IjMVeqiY75z",
        "colab_type": "code",
        "colab": {
          "base_uri": "https://localhost:8080/",
          "height": 462
        },
        "outputId": "7a0183fe-d97f-4a0b-a520-95dd815c42c0"
      },
      "source": [
        "data.head()"
      ],
      "execution_count": 6,
      "outputs": [
        {
          "output_type": "execute_result",
          "data": {
            "text/html": [
              "<div>\n",
              "<style scoped>\n",
              "    .dataframe tbody tr th:only-of-type {\n",
              "        vertical-align: middle;\n",
              "    }\n",
              "\n",
              "    .dataframe tbody tr th {\n",
              "        vertical-align: top;\n",
              "    }\n",
              "\n",
              "    .dataframe thead th {\n",
              "        text-align: right;\n",
              "    }\n",
              "</style>\n",
              "<table border=\"1\" class=\"dataframe\">\n",
              "  <thead>\n",
              "    <tr style=\"text-align: right;\">\n",
              "      <th></th>\n",
              "      <th>overall</th>\n",
              "      <th>verified</th>\n",
              "      <th>reviewTime</th>\n",
              "      <th>reviewerID</th>\n",
              "      <th>asin</th>\n",
              "      <th>reviewerName</th>\n",
              "      <th>reviewText</th>\n",
              "      <th>summary</th>\n",
              "      <th>unixReviewTime</th>\n",
              "      <th>vote</th>\n",
              "      <th>style</th>\n",
              "      <th>image</th>\n",
              "    </tr>\n",
              "  </thead>\n",
              "  <tbody>\n",
              "    <tr>\n",
              "      <th>0</th>\n",
              "      <td>5.0</td>\n",
              "      <td>True</td>\n",
              "      <td>11 19, 2014</td>\n",
              "      <td>A1QVBUH9E1V6I8</td>\n",
              "      <td>4639725183</td>\n",
              "      <td>Jamshed Mathur</td>\n",
              "      <td>No adverse comment.</td>\n",
              "      <td>Five Stars</td>\n",
              "      <td>1416355200</td>\n",
              "      <td>NaN</td>\n",
              "      <td>NaN</td>\n",
              "      <td>NaN</td>\n",
              "    </tr>\n",
              "    <tr>\n",
              "      <th>1</th>\n",
              "      <td>5.0</td>\n",
              "      <td>True</td>\n",
              "      <td>10 13, 2016</td>\n",
              "      <td>A3GEOILWLK86XM</td>\n",
              "      <td>4639725183</td>\n",
              "      <td>itsjustme</td>\n",
              "      <td>Gift for college student.</td>\n",
              "      <td>Great product.</td>\n",
              "      <td>1476316800</td>\n",
              "      <td>NaN</td>\n",
              "      <td>NaN</td>\n",
              "      <td>NaN</td>\n",
              "    </tr>\n",
              "    <tr>\n",
              "      <th>2</th>\n",
              "      <td>5.0</td>\n",
              "      <td>True</td>\n",
              "      <td>11 21, 2015</td>\n",
              "      <td>A32RD6L701BIGP</td>\n",
              "      <td>4639725183</td>\n",
              "      <td>Krystal Clifton</td>\n",
              "      <td>If you like strong tea, this is for you. It mi...</td>\n",
              "      <td>Strong</td>\n",
              "      <td>1448064000</td>\n",
              "      <td>NaN</td>\n",
              "      <td>NaN</td>\n",
              "      <td>NaN</td>\n",
              "    </tr>\n",
              "    <tr>\n",
              "      <th>3</th>\n",
              "      <td>5.0</td>\n",
              "      <td>True</td>\n",
              "      <td>08 12, 2015</td>\n",
              "      <td>A2UY1O1FBGKIE6</td>\n",
              "      <td>4639725183</td>\n",
              "      <td>U. Kane</td>\n",
              "      <td>Love the tea. The flavor is way better than th...</td>\n",
              "      <td>Great tea</td>\n",
              "      <td>1439337600</td>\n",
              "      <td>NaN</td>\n",
              "      <td>NaN</td>\n",
              "      <td>NaN</td>\n",
              "    </tr>\n",
              "    <tr>\n",
              "      <th>4</th>\n",
              "      <td>5.0</td>\n",
              "      <td>True</td>\n",
              "      <td>05 28, 2015</td>\n",
              "      <td>A3QHVBQYDV7Z6U</td>\n",
              "      <td>4639725183</td>\n",
              "      <td>The Nana</td>\n",
              "      <td>I have searched everywhere until I browsed Ama...</td>\n",
              "      <td>This is the tea I remembered!</td>\n",
              "      <td>1432771200</td>\n",
              "      <td>NaN</td>\n",
              "      <td>NaN</td>\n",
              "      <td>NaN</td>\n",
              "    </tr>\n",
              "  </tbody>\n",
              "</table>\n",
              "</div>"
            ],
            "text/plain": [
              "   overall  verified   reviewTime  ... vote style image\n",
              "0      5.0      True  11 19, 2014  ...  NaN   NaN   NaN\n",
              "1      5.0      True  10 13, 2016  ...  NaN   NaN   NaN\n",
              "2      5.0      True  11 21, 2015  ...  NaN   NaN   NaN\n",
              "3      5.0      True  08 12, 2015  ...  NaN   NaN   NaN\n",
              "4      5.0      True  05 28, 2015  ...  NaN   NaN   NaN\n",
              "\n",
              "[5 rows x 12 columns]"
            ]
          },
          "metadata": {
            "tags": []
          },
          "execution_count": 6
        }
      ]
    },
    {
      "cell_type": "code",
      "metadata": {
        "id": "iqlDzTRJvbgX",
        "colab_type": "code",
        "colab": {
          "base_uri": "https://localhost:8080/",
          "height": 68
        },
        "outputId": "2c317e59-d5d1-4b86-b3de-2e0905ed52f3"
      },
      "source": [
        "np.unique(data.reviewTime.str[-4:])#.str.contains('2014')"
      ],
      "execution_count": 7,
      "outputs": [
        {
          "output_type": "execute_result",
          "data": {
            "text/plain": [
              "array(['2000', '2002', '2003', '2004', '2005', '2006', '2007', '2008',\n",
              "       '2009', '2010', '2011', '2012', '2013', '2014', '2015', '2016',\n",
              "       '2017', '2018'], dtype=object)"
            ]
          },
          "metadata": {
            "tags": []
          },
          "execution_count": 7
        }
      ]
    },
    {
      "cell_type": "code",
      "metadata": {
        "id": "H9p269RmvxVc",
        "colab_type": "code",
        "colab": {}
      },
      "source": [
        "data = data.loc[(data.reviewTime.str.contains('2018'))] #| (data.reviewTime.str.contains('2016')) | (data.reviewTime.str.contains('2017')) | (data.reviewTime.str.contains('2018'))]"
      ],
      "execution_count": 8,
      "outputs": []
    },
    {
      "cell_type": "code",
      "metadata": {
        "id": "UyZxGGQ6v_Bu",
        "colab_type": "code",
        "colab": {
          "base_uri": "https://localhost:8080/",
          "height": 34
        },
        "outputId": "9d1aa518-b1dd-4f3d-ce56-bd5a72e9d817"
      },
      "source": [
        "data.shape"
      ],
      "execution_count": 9,
      "outputs": [
        {
          "output_type": "execute_result",
          "data": {
            "text/plain": [
              "(98253, 12)"
            ]
          },
          "metadata": {
            "tags": []
          },
          "execution_count": 9
        }
      ]
    },
    {
      "cell_type": "code",
      "metadata": {
        "id": "c2qhoRowY752",
        "colab_type": "code",
        "colab": {}
      },
      "source": [
        "# now use user, item, reviewText & ratings\n",
        "df = data[['reviewerID', 'asin', 'reviewText', 'overall']]\n",
        "df.columns = ['place', 'user', 'review', 'rating']"
      ],
      "execution_count": 10,
      "outputs": []
    },
    {
      "cell_type": "code",
      "metadata": {
        "id": "pBTLGd87Y754",
        "colab_type": "code",
        "colab": {}
      },
      "source": [
        "del data"
      ],
      "execution_count": 11,
      "outputs": []
    },
    {
      "cell_type": "code",
      "metadata": {
        "id": "GUL8sb8QY756",
        "colab_type": "code",
        "colab": {
          "base_uri": "https://localhost:8080/",
          "height": 204
        },
        "outputId": "e02b41f7-4949-49da-c827-2a7a449043ab"
      },
      "source": [
        "df.head()"
      ],
      "execution_count": 12,
      "outputs": [
        {
          "output_type": "execute_result",
          "data": {
            "text/html": [
              "<div>\n",
              "<style scoped>\n",
              "    .dataframe tbody tr th:only-of-type {\n",
              "        vertical-align: middle;\n",
              "    }\n",
              "\n",
              "    .dataframe tbody tr th {\n",
              "        vertical-align: top;\n",
              "    }\n",
              "\n",
              "    .dataframe thead th {\n",
              "        text-align: right;\n",
              "    }\n",
              "</style>\n",
              "<table border=\"1\" class=\"dataframe\">\n",
              "  <thead>\n",
              "    <tr style=\"text-align: right;\">\n",
              "      <th></th>\n",
              "      <th>place</th>\n",
              "      <th>user</th>\n",
              "      <th>review</th>\n",
              "      <th>rating</th>\n",
              "    </tr>\n",
              "  </thead>\n",
              "  <tbody>\n",
              "    <tr>\n",
              "      <th>50</th>\n",
              "      <td>A1U32SY2BN1I4T</td>\n",
              "      <td>9742356831</td>\n",
              "      <td>Use very sparingly unless you love very spicy ...</td>\n",
              "      <td>5.0</td>\n",
              "    </tr>\n",
              "    <tr>\n",
              "      <th>51</th>\n",
              "      <td>A2ULESH6GADUEW</td>\n",
              "      <td>9742356831</td>\n",
              "      <td>I LOVE this curry paste.  It beats Thai Kitche...</td>\n",
              "      <td>5.0</td>\n",
              "    </tr>\n",
              "    <tr>\n",
              "      <th>52</th>\n",
              "      <td>A1TI6UAU422P4Y</td>\n",
              "      <td>9742356831</td>\n",
              "      <td>Has good flavor, but flavor should be stronger...</td>\n",
              "      <td>3.0</td>\n",
              "    </tr>\n",
              "    <tr>\n",
              "      <th>53</th>\n",
              "      <td>A3VG446SHJH37O</td>\n",
              "      <td>9742356831</td>\n",
              "      <td>Absolutely LOVE this!!! It's spicy but sooooo ...</td>\n",
              "      <td>5.0</td>\n",
              "    </tr>\n",
              "    <tr>\n",
              "      <th>509</th>\n",
              "      <td>A2ZKFKG2PMJA3A</td>\n",
              "      <td>B00008RCN8</td>\n",
              "      <td>tastes good</td>\n",
              "      <td>5.0</td>\n",
              "    </tr>\n",
              "  </tbody>\n",
              "</table>\n",
              "</div>"
            ],
            "text/plain": [
              "              place  ... rating\n",
              "50   A1U32SY2BN1I4T  ...    5.0\n",
              "51   A2ULESH6GADUEW  ...    5.0\n",
              "52   A1TI6UAU422P4Y  ...    3.0\n",
              "53   A3VG446SHJH37O  ...    5.0\n",
              "509  A2ZKFKG2PMJA3A  ...    5.0\n",
              "\n",
              "[5 rows x 4 columns]"
            ]
          },
          "metadata": {
            "tags": []
          },
          "execution_count": 12
        }
      ]
    },
    {
      "cell_type": "markdown",
      "metadata": {
        "id": "7x18Ib1OY758",
        "colab_type": "text"
      },
      "source": [
        "## Split Train/Validation"
      ]
    },
    {
      "cell_type": "code",
      "metadata": {
        "id": "kOP78i6iY758",
        "colab_type": "code",
        "colab": {
          "base_uri": "https://localhost:8080/",
          "height": 34
        },
        "outputId": "1a4b7dce-d649-46ed-fb62-ed9e8d592a68"
      },
      "source": [
        "train, val = train_test_split(df, test_size=0.2)\n",
        "train.shape, val.shape"
      ],
      "execution_count": 13,
      "outputs": [
        {
          "output_type": "execute_result",
          "data": {
            "text/plain": [
              "((78602, 4), (19651, 4))"
            ]
          },
          "metadata": {
            "tags": []
          },
          "execution_count": 13
        }
      ]
    },
    {
      "cell_type": "code",
      "metadata": {
        "id": "OkM-OmRGY75-",
        "colab_type": "code",
        "colab": {}
      },
      "source": [
        "del df"
      ],
      "execution_count": 14,
      "outputs": []
    },
    {
      "cell_type": "markdown",
      "metadata": {
        "id": "DW7wmhpMY76B",
        "colab_type": "text"
      },
      "source": [
        "## Encode Places and Users"
      ]
    },
    {
      "cell_type": "code",
      "metadata": {
        "id": "6HeyzWfNY76B",
        "colab_type": "code",
        "colab": {}
      },
      "source": [
        "def encode_cols(train, val, cols):\n",
        "    for col in cols:\n",
        "        uniq = train[col].unique()\n",
        "        col2idx = {val: i for i, val in enumerate(uniq)}\n",
        "        train[col] = train[col].apply(lambda x: col2idx.get(x, -1))\n",
        "        val[col] = val[col].apply(lambda x: col2idx.get(x, -1))\n",
        "        val = val.loc[val[col] >= 0] \n",
        "    return train, val"
      ],
      "execution_count": 15,
      "outputs": []
    },
    {
      "cell_type": "code",
      "metadata": {
        "id": "xZarASSJY76E",
        "colab_type": "code",
        "colab": {}
      },
      "source": [
        "train_enc, val_enc = encode_cols(train, val, ['place', 'user'])"
      ],
      "execution_count": 16,
      "outputs": []
    },
    {
      "cell_type": "code",
      "metadata": {
        "id": "Fcktk2-9Y76F",
        "colab_type": "code",
        "colab": {
          "base_uri": "https://localhost:8080/",
          "height": 34
        },
        "outputId": "ef9d998b-fba9-474f-e050-b8e95127f03a"
      },
      "source": [
        "len(train_enc.user.unique()), len(train_enc.place.unique())"
      ],
      "execution_count": 17,
      "outputs": [
        {
          "output_type": "execute_result",
          "data": {
            "text/plain": [
              "(19077, 32844)"
            ]
          },
          "metadata": {
            "tags": []
          },
          "execution_count": 17
        }
      ]
    },
    {
      "cell_type": "code",
      "metadata": {
        "id": "Khy9u5D-Y76H",
        "colab_type": "code",
        "colab": {
          "base_uri": "https://localhost:8080/",
          "height": 204
        },
        "outputId": "0c8eb9b8-d780-47ea-c247-5f389d576b4b"
      },
      "source": [
        "train_enc.head()"
      ],
      "execution_count": 18,
      "outputs": [
        {
          "output_type": "execute_result",
          "data": {
            "text/html": [
              "<div>\n",
              "<style scoped>\n",
              "    .dataframe tbody tr th:only-of-type {\n",
              "        vertical-align: middle;\n",
              "    }\n",
              "\n",
              "    .dataframe tbody tr th {\n",
              "        vertical-align: top;\n",
              "    }\n",
              "\n",
              "    .dataframe thead th {\n",
              "        text-align: right;\n",
              "    }\n",
              "</style>\n",
              "<table border=\"1\" class=\"dataframe\">\n",
              "  <thead>\n",
              "    <tr style=\"text-align: right;\">\n",
              "      <th></th>\n",
              "      <th>place</th>\n",
              "      <th>user</th>\n",
              "      <th>review</th>\n",
              "      <th>rating</th>\n",
              "    </tr>\n",
              "  </thead>\n",
              "  <tbody>\n",
              "    <tr>\n",
              "      <th>1065889</th>\n",
              "      <td>0</td>\n",
              "      <td>0</td>\n",
              "      <td>I was very disappointed in this mix!  I have u...</td>\n",
              "      <td>3.0</td>\n",
              "    </tr>\n",
              "    <tr>\n",
              "      <th>264018</th>\n",
              "      <td>1</td>\n",
              "      <td>1</td>\n",
              "      <td>These aren't as yummy as regular granola bars,...</td>\n",
              "      <td>4.0</td>\n",
              "    </tr>\n",
              "    <tr>\n",
              "      <th>891366</th>\n",
              "      <td>2</td>\n",
              "      <td>2</td>\n",
              "      <td>My bought it as a gift for my in laws,and she ...</td>\n",
              "      <td>5.0</td>\n",
              "    </tr>\n",
              "    <tr>\n",
              "      <th>1098870</th>\n",
              "      <td>3</td>\n",
              "      <td>3</td>\n",
              "      <td>Taste great</td>\n",
              "      <td>5.0</td>\n",
              "    </tr>\n",
              "    <tr>\n",
              "      <th>1138760</th>\n",
              "      <td>4</td>\n",
              "      <td>4</td>\n",
              "      <td>I bought ONE ORGANIC stevia to compare to thre...</td>\n",
              "      <td>5.0</td>\n",
              "    </tr>\n",
              "  </tbody>\n",
              "</table>\n",
              "</div>"
            ],
            "text/plain": [
              "         place  user                                             review  rating\n",
              "1065889      0     0  I was very disappointed in this mix!  I have u...     3.0\n",
              "264018       1     1  These aren't as yummy as regular granola bars,...     4.0\n",
              "891366       2     2  My bought it as a gift for my in laws,and she ...     5.0\n",
              "1098870      3     3                                        Taste great     5.0\n",
              "1138760      4     4  I bought ONE ORGANIC stevia to compare to thre...     5.0"
            ]
          },
          "metadata": {
            "tags": []
          },
          "execution_count": 18
        }
      ]
    },
    {
      "cell_type": "markdown",
      "metadata": {
        "id": "iNxFuezTY76J",
        "colab_type": "text"
      },
      "source": [
        "## Get text from reviews, create vocab"
      ]
    },
    {
      "cell_type": "code",
      "metadata": {
        "id": "qY9QHgvhY76K",
        "colab_type": "code",
        "colab": {}
      },
      "source": [
        "place_reviews = train_enc.groupby('place').review.apply(list)"
      ],
      "execution_count": 19,
      "outputs": []
    },
    {
      "cell_type": "code",
      "metadata": {
        "id": "MHFs9EQpY76M",
        "colab_type": "code",
        "colab": {
          "base_uri": "https://localhost:8080/",
          "height": 34
        },
        "outputId": "53e1e3dd-feaf-4040-8fc1-0d411a9e0601"
      },
      "source": [
        "len(place_reviews), sum([any(review_list) for review_list in place_reviews.values])"
      ],
      "execution_count": 20,
      "outputs": [
        {
          "output_type": "execute_result",
          "data": {
            "text/plain": [
              "(32844, 32844)"
            ]
          },
          "metadata": {
            "tags": []
          },
          "execution_count": 20
        }
      ]
    },
    {
      "cell_type": "code",
      "metadata": {
        "id": "hZetzS11Y76N",
        "colab_type": "code",
        "colab": {
          "base_uri": "https://localhost:8080/",
          "height": 54
        },
        "outputId": "e1e28745-c8e6-4a85-e597-6c6af50fb006"
      },
      "source": [
        "# 261 places without any reviews our ot 10476\n",
        "' '.join(place_reviews[0])"
      ],
      "execution_count": 21,
      "outputs": [
        {
          "output_type": "execute_result",
          "data": {
            "text/plain": [
              "\"I was very disappointed in this mix!  I have used other Krusteaz products, and enjoyed them, but this just was a big let down.  I got a new waffle maker and was all jazzed to try it out with this mix.  After a couple of tries, I got the perfect golden brown waffle, and took a taste.  The waffle was crisp, but there really was no taste to it.  It was like eating cardboard, albeit crisp and hot.  I recommend that you go to allrecipes, etc. and find a REAL recipe for waffles, because this was a BIG disappointment. I found this coffee to be a little bitter, but that is just my opinion.  Taste is subjective, and I like the House Blend better.  That said, if you like darker roast coffee, this may be perfect for you. I love this added to scrambled eggs to make them just a little more moist.  I gather my own farm-raised eggs, so this is a big deal to me.  I also use it to keep my lips from drying out.  This is really a versatile product--you can use it for frying, baking, etc. and also as a beauty product to combat dry skin.  Applied after bathing, it can keep skin soft.  I also add it to peanut butter to make it more spreadable, without any taste loss.  Since it is supposed to be good for you, I figure this is a good way to stretch expensive peanut butter.  I highly recommend this product! I made this yesterday according to the package directions, and it was awful!  It was very bland, even with lots of fresh black pepper.  It is not as good as even the store brands, much less Kraft's!  I thought since it was so expensive it would be a good pantry product for those days when I am too busy to make it from scratch, but this is one item that will not be in my go-to food list.  We just couldn't get past the lack of CHEESE taste--it was like eating macaroni with a slick coating that did not add any taste at all.  Hoosier Hill Farm said in one question that they guarantee that it will be the best, so I expect them to honor that guarantee.\""
            ]
          },
          "metadata": {
            "tags": []
          },
          "execution_count": 21
        }
      ]
    },
    {
      "cell_type": "code",
      "metadata": {
        "id": "anDrdt8HY76S",
        "colab_type": "code",
        "colab": {}
      },
      "source": [
        "place_reviews = place_reviews.apply(lambda x: ' '.join([str(rev) for rev in x]))"
      ],
      "execution_count": 22,
      "outputs": []
    },
    {
      "cell_type": "code",
      "metadata": {
        "id": "Hmv5q0CGY76U",
        "colab_type": "code",
        "colab": {
          "base_uri": "https://localhost:8080/",
          "height": 85
        },
        "outputId": "681126c1-6e7a-46c3-acd2-ecf5d6b0a6a0"
      },
      "source": [
        "place_reviews.head(2)"
      ],
      "execution_count": 23,
      "outputs": [
        {
          "output_type": "execute_result",
          "data": {
            "text/plain": [
              "place\n",
              "0    I was very disappointed in this mix!  I have u...\n",
              "1    These aren't as yummy as regular granola bars,...\n",
              "Name: review, dtype: object"
            ]
          },
          "metadata": {
            "tags": []
          },
          "execution_count": 23
        }
      ]
    },
    {
      "cell_type": "code",
      "metadata": {
        "id": "Zq05R5mcY76W",
        "colab_type": "code",
        "colab": {}
      },
      "source": [
        "import re"
      ],
      "execution_count": 24,
      "outputs": []
    },
    {
      "cell_type": "code",
      "metadata": {
        "id": "XNMxMaU-Y76Y",
        "colab_type": "code",
        "colab": {}
      },
      "source": [
        "def tok(text):\n",
        "    reg = re.findall(r\"[\\w']+|[.,!?;]\", text, re.UNICODE)\n",
        "    return [w.lower() for w in reg]"
      ],
      "execution_count": 25,
      "outputs": []
    },
    {
      "cell_type": "code",
      "metadata": {
        "id": "-7fLN5NMY76a",
        "colab_type": "code",
        "colab": {
          "base_uri": "https://localhost:8080/",
          "height": 357
        },
        "outputId": "2d23df9d-96db-41e8-cb4e-195dbaacdd6f"
      },
      "source": [
        "tok(place_reviews.iloc[0])[:20]"
      ],
      "execution_count": 26,
      "outputs": [
        {
          "output_type": "execute_result",
          "data": {
            "text/plain": [
              "['i',\n",
              " 'was',\n",
              " 'very',\n",
              " 'disappointed',\n",
              " 'in',\n",
              " 'this',\n",
              " 'mix',\n",
              " '!',\n",
              " 'i',\n",
              " 'have',\n",
              " 'used',\n",
              " 'other',\n",
              " 'krusteaz',\n",
              " 'products',\n",
              " ',',\n",
              " 'and',\n",
              " 'enjoyed',\n",
              " 'them',\n",
              " ',',\n",
              " 'but']"
            ]
          },
          "metadata": {
            "tags": []
          },
          "execution_count": 26
        }
      ]
    },
    {
      "cell_type": "code",
      "metadata": {
        "id": "pGqnOR1QY76d",
        "colab_type": "code",
        "colab": {}
      },
      "source": [
        "all_vocab = [word for review in place_reviews.values for word in tok(review)]"
      ],
      "execution_count": 27,
      "outputs": []
    },
    {
      "cell_type": "code",
      "metadata": {
        "id": "Hb3tUVYvY76f",
        "colab_type": "code",
        "colab": {
          "base_uri": "https://localhost:8080/",
          "height": 34
        },
        "outputId": "e5d33925-f7b2-428d-baee-0be6df35af39"
      },
      "source": [
        "len(all_vocab)"
      ],
      "execution_count": 28,
      "outputs": [
        {
          "output_type": "execute_result",
          "data": {
            "text/plain": [
              "2353649"
            ]
          },
          "metadata": {
            "tags": []
          },
          "execution_count": 28
        }
      ]
    },
    {
      "cell_type": "code",
      "metadata": {
        "id": "t_fl-L3NY76j",
        "colab_type": "code",
        "colab": {
          "base_uri": "https://localhost:8080/",
          "height": 34
        },
        "outputId": "6a67e624-450c-4533-909e-365f54ecdb44"
      },
      "source": [
        "word_cts = Counter(all_vocab)\n",
        "len(word_cts)"
      ],
      "execution_count": 29,
      "outputs": [
        {
          "output_type": "execute_result",
          "data": {
            "text/plain": [
              "28075"
            ]
          },
          "metadata": {
            "tags": []
          },
          "execution_count": 29
        }
      ]
    },
    {
      "cell_type": "code",
      "metadata": {
        "id": "yADe8QsFY76m",
        "colab_type": "code",
        "colab": {}
      },
      "source": [
        "del all_vocab"
      ],
      "execution_count": 30,
      "outputs": []
    },
    {
      "cell_type": "code",
      "metadata": {
        "id": "zXxkGa5rY76o",
        "colab_type": "code",
        "colab": {}
      },
      "source": [
        "common = {k:v for k, v in word_cts.items() if v >= 5}\n",
        "vocab2idx = {'<PAD>': 0, 'UNK': 1}\n",
        "\n",
        "for i, (word, ct) in enumerate(common.items()):\n",
        "    if ct >= 5:\n",
        "        vocab2idx[word] = i + 2"
      ],
      "execution_count": 31,
      "outputs": []
    },
    {
      "cell_type": "code",
      "metadata": {
        "id": "6RN-OpkjY76r",
        "colab_type": "code",
        "colab": {}
      },
      "source": [
        "del word_cts, common"
      ],
      "execution_count": 32,
      "outputs": []
    },
    {
      "cell_type": "code",
      "metadata": {
        "id": "5xXcyJl1Y76t",
        "colab_type": "code",
        "colab": {
          "base_uri": "https://localhost:8080/",
          "height": 34
        },
        "outputId": "7b455304-c210-454d-c445-fdead98ca4b3"
      },
      "source": [
        "len(vocab2idx)"
      ],
      "execution_count": 33,
      "outputs": [
        {
          "output_type": "execute_result",
          "data": {
            "text/plain": [
              "9413"
            ]
          },
          "metadata": {
            "tags": []
          },
          "execution_count": 33
        }
      ]
    },
    {
      "cell_type": "markdown",
      "metadata": {
        "id": "LuE-st_hY76v",
        "colab_type": "text"
      },
      "source": [
        "## Review to Vector"
      ]
    },
    {
      "cell_type": "code",
      "metadata": {
        "id": "08me06gWY76v",
        "colab_type": "code",
        "colab": {}
      },
      "source": [
        "place_reviews_tok = [tok(review) for review in place_reviews.values]"
      ],
      "execution_count": 34,
      "outputs": []
    },
    {
      "cell_type": "code",
      "metadata": {
        "id": "YHaIQ9yGY76x",
        "colab_type": "code",
        "colab": {
          "base_uri": "https://localhost:8080/",
          "height": 34
        },
        "outputId": "6d70dcd1-303a-41e5-b640-a620040b8c33"
      },
      "source": [
        "lens = [len(rev) for rev in place_reviews_tok]\n",
        "max(lens)"
      ],
      "execution_count": 35,
      "outputs": [
        {
          "output_type": "execute_result",
          "data": {
            "text/plain": [
              "4158"
            ]
          },
          "metadata": {
            "tags": []
          },
          "execution_count": 35
        }
      ]
    },
    {
      "cell_type": "code",
      "metadata": {
        "id": "aX28XPuWY76z",
        "colab_type": "code",
        "colab": {}
      },
      "source": [
        "del lens"
      ],
      "execution_count": 36,
      "outputs": []
    },
    {
      "cell_type": "code",
      "metadata": {
        "id": "NlcdhOMOY760",
        "colab_type": "code",
        "colab": {}
      },
      "source": [
        "def encode_review(review, N=6412):\n",
        "    enc1 = np.array([vocab2idx.get(w, vocab2idx[\"UNK\"]) for w in review])\n",
        "    enc = np.zeros(N, dtype=np.int32)\n",
        "    l = min(N, len(review))\n",
        "    enc[:l] = enc1[:l]\n",
        "    if l == 0:\n",
        "        l=1\n",
        "    return enc, l"
      ],
      "execution_count": 37,
      "outputs": []
    },
    {
      "cell_type": "code",
      "metadata": {
        "id": "gplaqgU5Y762",
        "colab_type": "code",
        "colab": {
          "base_uri": "https://localhost:8080/",
          "height": 34
        },
        "outputId": "aae69e10-7cf9-4f6e-f045-02f6176a22d9"
      },
      "source": [
        "encode_review(place_reviews_tok[0])"
      ],
      "execution_count": 38,
      "outputs": [
        {
          "output_type": "execute_result",
          "data": {
            "text/plain": [
              "(array([2, 3, 4, ..., 0, 0, 0], dtype=int32), 432)"
            ]
          },
          "metadata": {
            "tags": []
          },
          "execution_count": 38
        }
      ]
    },
    {
      "cell_type": "markdown",
      "metadata": {
        "id": "tPpE82u8Y763",
        "colab_type": "text"
      },
      "source": [
        "## Dataset and Data Loader"
      ]
    },
    {
      "cell_type": "code",
      "metadata": {
        "id": "25nkxvzIY764",
        "colab_type": "code",
        "colab": {}
      },
      "source": [
        "class AmazonDataset(Dataset):\n",
        "    def __init__(self, X, y, reviews):\n",
        "        self.user = X.user.values\n",
        "        self.place = X.place.values\n",
        "        self.y = y\n",
        "        self.reviews = reviews\n",
        "        \n",
        "    def __len__(self):\n",
        "        return len(self.y)\n",
        "    \n",
        "    def __getitem__(self, idx):\n",
        "        user = self.user[idx]\n",
        "        place = self.place[idx]\n",
        "        review_vec, l = encode_review(self.reviews[place])\n",
        "        return user, place, review_vec, l, self.y[idx]"
      ],
      "execution_count": 39,
      "outputs": []
    },
    {
      "cell_type": "code",
      "metadata": {
        "id": "URpbPHSgY765",
        "colab_type": "code",
        "colab": {}
      },
      "source": [
        "train_ds = AmazonDataset(train_enc[['place', 'user']], train_enc.rating.values, place_reviews_tok)\n",
        "valid_ds = AmazonDataset(val_enc[['place', 'user']], val_enc.rating.values, place_reviews_tok)"
      ],
      "execution_count": 40,
      "outputs": []
    },
    {
      "cell_type": "code",
      "metadata": {
        "id": "4FNQzKGzY767",
        "colab_type": "code",
        "colab": {
          "base_uri": "https://localhost:8080/",
          "height": 34
        },
        "outputId": "cd19fd74-029c-446a-c369-195ae8ebc3f7"
      },
      "source": [
        "next(iter(train_ds))"
      ],
      "execution_count": 41,
      "outputs": [
        {
          "output_type": "execute_result",
          "data": {
            "text/plain": [
              "(0, 0, array([2, 3, 4, ..., 0, 0, 0], dtype=int32), 432, 3.0)"
            ]
          },
          "metadata": {
            "tags": []
          },
          "execution_count": 41
        }
      ]
    },
    {
      "cell_type": "markdown",
      "metadata": {
        "id": "DBm9uGpaY769",
        "colab_type": "text"
      },
      "source": [
        "## Load Pre-Trained Glove"
      ]
    },
    {
      "cell_type": "code",
      "metadata": {
        "id": "GQVl2M6aZ9Ma",
        "colab_type": "code",
        "colab": {}
      },
      "source": [
        ""
      ],
      "execution_count": 41,
      "outputs": []
    },
    {
      "cell_type": "code",
      "metadata": {
        "id": "Wv-AP4VqY769",
        "colab_type": "code",
        "colab": {}
      },
      "source": [
        "def loadGloveModel(gloveFile='data/glove.6B.50d.txt'):\n",
        "    \"\"\" Loads word vectors into a dictionary.\"\"\"\n",
        "    ! wget http://nlp.stanford.edu/data/glove.6B.zip\n",
        "    !unzip glove*.zip\n",
        "    ! mv gl* data\n",
        "\n",
        "    f = open(gloveFile,'r')\n",
        "    words = []\n",
        "    word_vecs = {}\n",
        "    for line in f:\n",
        "        splitLine = line.split()\n",
        "        word = splitLine[0]\n",
        "        words.append(word)\n",
        "        word_vecs[word] = np.array([float(val) for val in splitLine[1:]])\n",
        "    return word_vecs"
      ],
      "execution_count": 42,
      "outputs": []
    },
    {
      "cell_type": "code",
      "metadata": {
        "id": "bwb42vvnZ8Hw",
        "colab_type": "code",
        "colab": {}
      },
      "source": [
        ""
      ],
      "execution_count": 42,
      "outputs": []
    },
    {
      "cell_type": "code",
      "metadata": {
        "id": "AcI10qQjY77C",
        "colab_type": "code",
        "colab": {}
      },
      "source": [
        "#glove = loadGloveModel()"
      ],
      "execution_count": 43,
      "outputs": []
    },
    {
      "cell_type": "code",
      "metadata": {
        "id": "rlxPjAdCY77F",
        "colab_type": "code",
        "colab": {}
      },
      "source": [
        "def create_embedding_matrix(word_vecs, vocab2index, emb_size=50):\n",
        "    \"\"\"Creates embedding matrix from word vectors. \"\"\" \n",
        "    V = len(vocab2index.keys())\n",
        "    W = np.random.uniform(-0.25,0.25, (V, emb_size)) # initialize random\n",
        "    # adding a vector for padding\n",
        "    W[0] = np.zeros(emb_size, dtype='float32')\n",
        "    for word, index in vocab2index.items():\n",
        "        if word in word_vecs:\n",
        "            W[index] = word_vecs[word]\n",
        "    return W"
      ],
      "execution_count": 44,
      "outputs": []
    },
    {
      "cell_type": "code",
      "metadata": {
        "id": "gjanBcTlY77H",
        "colab_type": "code",
        "colab": {}
      },
      "source": [
        "#max([v for k, v in vocab2idx.items()])"
      ],
      "execution_count": 45,
      "outputs": []
    },
    {
      "cell_type": "code",
      "metadata": {
        "id": "vZUVYEXLY77K",
        "colab_type": "code",
        "colab": {}
      },
      "source": [
        "#W = create_embedding_matrix(glove, vocab2idx)"
      ],
      "execution_count": 46,
      "outputs": []
    },
    {
      "cell_type": "code",
      "metadata": {
        "id": "x6bXs3A6Y77N",
        "colab_type": "code",
        "colab": {}
      },
      "source": [
        "#del glove"
      ],
      "execution_count": 47,
      "outputs": []
    },
    {
      "cell_type": "markdown",
      "metadata": {
        "id": "R92_sjF_Y77P",
        "colab_type": "text"
      },
      "source": [
        "## Model"
      ]
    },
    {
      "cell_type": "code",
      "metadata": {
        "id": "9uXMFROwY77P",
        "colab_type": "code",
        "colab": {}
      },
      "source": [
        "class Context_MF_bias(nn.Module):\n",
        "    def __init__(self, num_users, num_places, vocab_size,  emb_size=50, glove_weights=None, bias=True):\n",
        "        super(Context_MF_bias, self).__init__()\n",
        "        self.user_emb = nn.Embedding(num_users, emb_size)\n",
        "        self.place_emb = nn.Embedding(num_places, emb_size)\n",
        "        self.user_emb.weight.data.uniform_(0,0.05)\n",
        "        self.place_emb.weight.data.uniform_(0,0.05)\n",
        "        self.bias = bias\n",
        "        if self.bias:\n",
        "            self.user_bias = nn.Embedding(num_users, 1)\n",
        "            self.place_bias = nn.Embedding(num_places, 1)\n",
        "            self.user_bias.weight.data.uniform_(-0.01,0.01)\n",
        "            self.place_emb.weight.data.uniform_(-0.01,0.01)\n",
        "        \n",
        "        self.embeddings = nn.Embedding(vocab_size, emb_size, padding_idx=0)\n",
        "        if glove_weights is not None:\n",
        "            self.embeddings.weight.data.copy_(torch.from_numpy(glove_weights))\n",
        "            self.embeddings.weight.requires_grad = False ## freeze embeddings\n",
        "        \n",
        "        # input dim and hidden dim must be the same to later combine item vec and review vec\n",
        "        self.gru = nn.GRU(emb_size, emb_size, batch_first=True) \n",
        "        self.dropout = nn.Dropout(0.3)\n",
        "        \n",
        "    def forward(self, u, v, v_review, l):\n",
        "        U = self.user_emb(u)\n",
        "        V = self.place_emb(v)\n",
        "        U, V = self.dropout(U), self.dropout(V)\n",
        "        \n",
        "        emb = self.embeddings(v_review)\n",
        "        emb = self.dropout(emb)\n",
        "        pack1 = pack_padded_sequence(emb, l, batch_first=True, enforce_sorted=False)\n",
        "        _, h1 = self.gru(pack1)\n",
        "        \n",
        "        V_rev = h1[-1]\n",
        "        \n",
        "        V_ = torch.stack([V, V_rev], dim=1) # combines item vector with review vector\n",
        "        V_ = torch.mean(V_, dim=1)   # still dim 50, avg at each dim from item/review vec\n",
        "        \n",
        "        if self.bias:\n",
        "            b_u = self.user_bias(u).squeeze()\n",
        "            b_v = self.place_bias(v).squeeze()\n",
        "            return (U*V_).sum(1) +  b_u  + b_v\n",
        "        \n",
        "        return (U*V_).sum(1)"
      ],
      "execution_count": 48,
      "outputs": []
    },
    {
      "cell_type": "markdown",
      "metadata": {
        "id": "8dqvVMHFY77R",
        "colab_type": "text"
      },
      "source": [
        "## Training Functions"
      ]
    },
    {
      "cell_type": "code",
      "metadata": {
        "id": "7ifR7PeJY77R",
        "colab_type": "code",
        "colab": {}
      },
      "source": [
        "def cosine_segment(start_lr, end_lr, iterations):\n",
        "    i = np.arange(iterations)\n",
        "    c_i = 1 + np.cos(i*np.pi/iterations)\n",
        "    return end_lr + (start_lr - end_lr)/2 *c_i\n",
        "\n",
        "def get_cosine_triangular_lr(max_lr, iterations, div_start=5, div_end=5):\n",
        "    min_start, min_end = max_lr/div_start, max_lr/div_end\n",
        "    iter1 = int(0.3*iterations)\n",
        "    iter2 = iterations - iter1\n",
        "    segs = [cosine_segment(min_start, max_lr, iter1), cosine_segment(max_lr, min_end, iter2)]\n",
        "    return np.concatenate(segs)"
      ],
      "execution_count": 49,
      "outputs": []
    },
    {
      "cell_type": "code",
      "metadata": {
        "id": "5PZlJ_5UY77T",
        "colab_type": "code",
        "colab": {}
      },
      "source": [
        "def set_learning_rate(optimizer, lr):\n",
        "    \"\"\"Changing learning rates without creating a new optimizer\"\"\"\n",
        "    for param_group in optimizer.param_groups:\n",
        "        param_group['lr'] = lr"
      ],
      "execution_count": 50,
      "outputs": []
    },
    {
      "cell_type": "code",
      "metadata": {
        "id": "_EgHC1q1Y77U",
        "colab_type": "code",
        "colab": {}
      },
      "source": [
        "def train_epocs(model, optimzer, train_dl, valid_dl, epochs=10, max_lr=0.01):\n",
        "    iterations = epochs*len(train_dl)\n",
        "    lrs = get_cosine_triangular_lr(max_lr, iterations)\n",
        "    vals = []\n",
        "    for epoch in range(epochs):\n",
        "        model.train()\n",
        "        sum_loss = 0.0\n",
        "        total = 0\n",
        "        i = 0\n",
        "        for u, v, v_rev, l, y in train_dl:\n",
        "            set_learning_rate(optimizer, lrs[i])\n",
        "            users = u.long().cuda()\n",
        "            places = v.long().cuda()\n",
        "            review_vec = v_rev.long().cuda()\n",
        "            ratings = y.float().cuda()\n",
        "            y_hat = model(users, places, review_vec, l)\n",
        "            loss = F.mse_loss(y_hat, ratings)\n",
        "            optimizer.zero_grad()\n",
        "            loss.backward()\n",
        "            optimizer.step()\n",
        "            sum_loss += loss.item()*y.shape[0]\n",
        "            total += y.shape[0]\n",
        "            i += 1\n",
        "        val_loss = val_metrics(model, valid_dl)\n",
        "        vals.append(val_loss)\n",
        "        #if epoch % 10 == 0: \n",
        "        print(f\"train loss {sum_loss/total:.3f} valid loss {val_loss:.3f}\") #valid accuracy {testaccur:.5f}"
      ],
      "execution_count": 51,
      "outputs": []
    },
    {
      "cell_type": "code",
      "metadata": {
        "id": "rWn7CY1uY77W",
        "colab_type": "code",
        "colab": {}
      },
      "source": [
        "def val_metrics(model, valid_dl):\n",
        "    model.eval()\n",
        "    correct = 0\n",
        "    total = 0\n",
        "    sum_loss = 0.0\n",
        "    for u, v, v_rev, l, y in valid_dl:\n",
        "        users = u.long().cuda()\n",
        "        places = v.long().cuda()\n",
        "        review_vec = v_rev.long().cuda()\n",
        "        ratings = y.float().cuda()\n",
        "        y_hat = model(users, places, review_vec, l)\n",
        "        loss = F.mse_loss(y_hat, ratings)\n",
        "        #y_pred = y_hat > 0\n",
        "        #correct += (y_pred.float() == y).float().sum()\n",
        "        total += y.shape[0]\n",
        "        sum_loss += loss.item()*y.shape[0]\n",
        "    return sum_loss/total #, correct/total"
      ],
      "execution_count": 52,
      "outputs": []
    },
    {
      "cell_type": "markdown",
      "metadata": {
        "id": "YyqyiO0pY77X",
        "colab_type": "text"
      },
      "source": [
        "## Train"
      ]
    },
    {
      "cell_type": "code",
      "metadata": {
        "id": "n_-oHI8vY77Y",
        "colab_type": "code",
        "colab": {
          "base_uri": "https://localhost:8080/",
          "height": 34
        },
        "outputId": "fa820c3b-2d90-4b1b-f79a-1fb288b33867"
      },
      "source": [
        "len(train_enc)"
      ],
      "execution_count": 53,
      "outputs": [
        {
          "output_type": "execute_result",
          "data": {
            "text/plain": [
              "78602"
            ]
          },
          "metadata": {
            "tags": []
          },
          "execution_count": 53
        }
      ]
    },
    {
      "cell_type": "code",
      "metadata": {
        "id": "r-uxvVZyY77f",
        "colab_type": "code",
        "colab": {}
      },
      "source": [
        "batch_size = 1_500\n",
        "train_dl = DataLoader(train_ds, batch_size=batch_size, shuffle=True)\n",
        "valid_dl = DataLoader(valid_ds, batch_size=batch_size)"
      ],
      "execution_count": 54,
      "outputs": []
    },
    {
      "cell_type": "code",
      "metadata": {
        "id": "51_RCZHyY77i",
        "colab_type": "code",
        "colab": {
          "base_uri": "https://localhost:8080/",
          "height": 34
        },
        "outputId": "f9894583-1387-4322-cbfc-2e638783cc9e"
      },
      "source": [
        "num_places, num_users, V = len(train_enc.place.unique()), len(train_enc.user.unique()), len(vocab2idx.keys())\n",
        "num_places, num_users, V"
      ],
      "execution_count": 55,
      "outputs": [
        {
          "output_type": "execute_result",
          "data": {
            "text/plain": [
              "(32844, 19077, 9413)"
            ]
          },
          "metadata": {
            "tags": []
          },
          "execution_count": 55
        }
      ]
    },
    {
      "cell_type": "code",
      "metadata": {
        "id": "dq9gBiJgY77k",
        "colab_type": "code",
        "colab": {}
      },
      "source": [
        "torch.cuda.empty_cache()"
      ],
      "execution_count": 56,
      "outputs": []
    },
    {
      "cell_type": "code",
      "metadata": {
        "id": "0NGx2YPYY77m",
        "colab_type": "code",
        "colab": {}
      },
      "source": [
        "model = Context_MF_bias(num_users, num_places, V, emb_size=50, bias=False).cuda()"
      ],
      "execution_count": 57,
      "outputs": []
    },
    {
      "cell_type": "code",
      "metadata": {
        "id": "XYiijYvMY77o",
        "colab_type": "code",
        "colab": {}
      },
      "source": [
        "optimizer = torch.optim.Adam(model.parameters(), lr=0.01, weight_decay=1e-5)"
      ],
      "execution_count": 58,
      "outputs": []
    },
    {
      "cell_type": "code",
      "metadata": {
        "id": "kRUm2OT3Y77q",
        "colab_type": "code",
        "colab": {
          "base_uri": "https://localhost:8080/",
          "height": 357
        },
        "outputId": "c4aca503-cf8b-4555-eb60-eb9664b3acd9"
      },
      "source": [
        "train_epocs(model, optimizer, train_dl, valid_dl, max_lr=0.01, epochs=20)"
      ],
      "execution_count": 59,
      "outputs": [
        {
          "output_type": "stream",
          "text": [
            "train loss 16.747 valid loss 11.602\n",
            "train loss 9.965 valid loss 7.312\n",
            "train loss 6.725 valid loss 5.149\n",
            "train loss 4.863 valid loss 3.866\n",
            "train loss 3.664 valid loss 3.037\n",
            "train loss 2.853 valid loss 2.483\n",
            "train loss 2.288 valid loss 2.101\n",
            "train loss 1.881 valid loss 1.829\n",
            "train loss 1.589 valid loss 1.640\n",
            "train loss 1.373 valid loss 1.502\n",
            "train loss 1.216 valid loss 1.406\n",
            "train loss 1.097 valid loss 1.334\n",
            "train loss 1.009 valid loss 1.285\n",
            "train loss 0.942 valid loss 1.245\n",
            "train loss 0.892 valid loss 1.217\n",
            "train loss 0.847 valid loss 1.195\n",
            "train loss 0.819 valid loss 1.180\n",
            "train loss 0.793 valid loss 1.172\n",
            "train loss 0.772 valid loss 1.166\n",
            "train loss 0.758 valid loss 1.156\n"
          ],
          "name": "stdout"
        }
      ]
    },
    {
      "cell_type": "code",
      "metadata": {
        "id": "xgSTkdrEY77r",
        "colab_type": "code",
        "colab": {
          "base_uri": "https://localhost:8080/",
          "height": 187
        },
        "outputId": "606da5d0-a5a0-4680-a94e-939f0f7b031e"
      },
      "source": [
        "train_epocs(model, optimizer, train_dl, valid_dl, max_lr=0.001, epochs=10)"
      ],
      "execution_count": 60,
      "outputs": [
        {
          "output_type": "stream",
          "text": [
            "train loss 0.722 valid loss 1.154\n",
            "train loss 0.716 valid loss 1.152\n",
            "train loss 0.714 valid loss 1.150\n",
            "train loss 0.713 valid loss 1.149\n",
            "train loss 0.709 valid loss 1.148\n",
            "train loss 0.710 valid loss 1.147\n",
            "train loss 0.701 valid loss 1.146\n",
            "train loss 0.703 valid loss 1.145\n",
            "train loss 0.700 valid loss 1.145\n",
            "train loss 0.700 valid loss 1.144\n"
          ],
          "name": "stdout"
        }
      ]
    },
    {
      "cell_type": "code",
      "metadata": {
        "id": "TiuWnrcwY77t",
        "colab_type": "code",
        "colab": {}
      },
      "source": [
        ""
      ],
      "execution_count": 60,
      "outputs": []
    }
  ]
}
