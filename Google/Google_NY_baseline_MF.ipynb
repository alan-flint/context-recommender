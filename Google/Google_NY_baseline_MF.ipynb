{
 "cells": [
  {
   "cell_type": "code",
   "execution_count": 1,
   "metadata": {},
   "outputs": [],
   "source": [
    "from pathlib import Path\n",
    "import pandas as pd\n",
    "pd.options.mode.chained_assignment = None\n",
    "import numpy as np\n",
    "\n",
    "import torch\n",
    "import torch.nn as nn\n",
    "import torch.nn.functional as F\n",
    "from torch.utils.data import Dataset, DataLoader\n",
    "\n",
    "from sklearn.model_selection import train_test_split\n",
    "from collections import Counter"
   ]
  },
  {
   "cell_type": "code",
   "execution_count": 2,
   "metadata": {},
   "outputs": [],
   "source": [
    "import gzip\n",
    "import json\n",
    "import io\n",
    "\n",
    "def readGz(fname):\n",
    "    gz = gzip.open(fname, 'rb')\n",
    "    f = io.BufferedReader(gz)\n",
    "    data = []\n",
    "        \n",
    "    for l in f.readlines():\n",
    "        data.append(eval(l))\n",
    "        \n",
    "    gz.close()\n",
    "    return data"
   ]
  },
  {
   "cell_type": "code",
   "execution_count": 3,
   "metadata": {},
   "outputs": [],
   "source": [
    "data = readGz('data/NY_5.json.gz')"
   ]
  },
  {
   "cell_type": "code",
   "execution_count": 4,
   "metadata": {},
   "outputs": [],
   "source": [
    "data = pd.DataFrame(data)"
   ]
  },
  {
   "cell_type": "code",
   "execution_count": 5,
   "metadata": {},
   "outputs": [
    {
     "data": {
      "text/plain": [
       "(121878, 8)"
      ]
     },
     "execution_count": 5,
     "metadata": {},
     "output_type": "execute_result"
    }
   ],
   "source": [
    "data.shape"
   ]
  },
  {
   "cell_type": "code",
   "execution_count": 6,
   "metadata": {},
   "outputs": [],
   "source": [
    "# only use user, item, & ratings\n",
    "df = data[['gPlusPlaceId', 'gPlusUserId', 'rating']]\n",
    "df.columns = ['place', 'user', 'rating']"
   ]
  },
  {
   "cell_type": "code",
   "execution_count": 7,
   "metadata": {},
   "outputs": [],
   "source": [
    "del data"
   ]
  },
  {
   "cell_type": "code",
   "execution_count": 8,
   "metadata": {},
   "outputs": [
    {
     "data": {
      "text/html": [
       "<div>\n",
       "<style scoped>\n",
       "    .dataframe tbody tr th:only-of-type {\n",
       "        vertical-align: middle;\n",
       "    }\n",
       "\n",
       "    .dataframe tbody tr th {\n",
       "        vertical-align: top;\n",
       "    }\n",
       "\n",
       "    .dataframe thead th {\n",
       "        text-align: right;\n",
       "    }\n",
       "</style>\n",
       "<table border=\"1\" class=\"dataframe\">\n",
       "  <thead>\n",
       "    <tr style=\"text-align: right;\">\n",
       "      <th></th>\n",
       "      <th>place</th>\n",
       "      <th>user</th>\n",
       "      <th>rating</th>\n",
       "    </tr>\n",
       "  </thead>\n",
       "  <tbody>\n",
       "    <tr>\n",
       "      <th>0</th>\n",
       "      <td>103654778391814923896</td>\n",
       "      <td>100000524810171549476</td>\n",
       "      <td>5.0</td>\n",
       "    </tr>\n",
       "    <tr>\n",
       "      <th>1</th>\n",
       "      <td>105947477166033397439</td>\n",
       "      <td>100000524810171549476</td>\n",
       "      <td>5.0</td>\n",
       "    </tr>\n",
       "    <tr>\n",
       "      <th>2</th>\n",
       "      <td>107098981103934500500</td>\n",
       "      <td>100000524810171549476</td>\n",
       "      <td>5.0</td>\n",
       "    </tr>\n",
       "    <tr>\n",
       "      <th>3</th>\n",
       "      <td>108585910849109169666</td>\n",
       "      <td>100000524810171549476</td>\n",
       "      <td>5.0</td>\n",
       "    </tr>\n",
       "    <tr>\n",
       "      <th>4</th>\n",
       "      <td>115453471525181677863</td>\n",
       "      <td>100000524810171549476</td>\n",
       "      <td>5.0</td>\n",
       "    </tr>\n",
       "  </tbody>\n",
       "</table>\n",
       "</div>"
      ],
      "text/plain": [
       "                   place                   user  rating\n",
       "0  103654778391814923896  100000524810171549476     5.0\n",
       "1  105947477166033397439  100000524810171549476     5.0\n",
       "2  107098981103934500500  100000524810171549476     5.0\n",
       "3  108585910849109169666  100000524810171549476     5.0\n",
       "4  115453471525181677863  100000524810171549476     5.0"
      ]
     },
     "execution_count": 8,
     "metadata": {},
     "output_type": "execute_result"
    }
   ],
   "source": [
    "df.head()"
   ]
  },
  {
   "cell_type": "markdown",
   "metadata": {},
   "source": [
    "## Split Train/Validation"
   ]
  },
  {
   "cell_type": "code",
   "execution_count": 9,
   "metadata": {},
   "outputs": [
    {
     "data": {
      "text/plain": [
       "((97502, 3), (24376, 3))"
      ]
     },
     "execution_count": 9,
     "metadata": {},
     "output_type": "execute_result"
    }
   ],
   "source": [
    "train, val = train_test_split(df, test_size=0.2)\n",
    "train.shape, val.shape"
   ]
  },
  {
   "cell_type": "markdown",
   "metadata": {},
   "source": [
    "## Encode Places and Users"
   ]
  },
  {
   "cell_type": "code",
   "execution_count": 10,
   "metadata": {},
   "outputs": [],
   "source": [
    "def encode_cols(train, val, cols):\n",
    "    for col in cols:\n",
    "        uniq = train[col].unique()\n",
    "        col2idx = {val: i for i, val in enumerate(uniq)}\n",
    "        train[col] = train[col].apply(lambda x: col2idx.get(x, -1))\n",
    "        val[col] = val[col].apply(lambda x: col2idx.get(x, -1))\n",
    "        val = val.loc[val[col] >= 0] \n",
    "    return train, val"
   ]
  },
  {
   "cell_type": "code",
   "execution_count": 11,
   "metadata": {},
   "outputs": [],
   "source": [
    "train_enc, val_enc = encode_cols(train, val, ['place', 'user'])"
   ]
  },
  {
   "cell_type": "code",
   "execution_count": 12,
   "metadata": {},
   "outputs": [
    {
     "data": {
      "text/plain": [
       "(6104, 7233)"
      ]
     },
     "execution_count": 12,
     "metadata": {},
     "output_type": "execute_result"
    }
   ],
   "source": [
    "len(train_enc.user.unique()), len(train_enc.place.unique())"
   ]
  },
  {
   "cell_type": "markdown",
   "metadata": {},
   "source": [
    "## Dataset and Data Loader"
   ]
  },
  {
   "cell_type": "code",
   "execution_count": 13,
   "metadata": {},
   "outputs": [],
   "source": [
    "class GoogleDataset(Dataset):\n",
    "    def __init__(self, X, y):\n",
    "        self.user = X.user.values\n",
    "        self.place = X.place.values\n",
    "        self.y = y\n",
    "        \n",
    "    def __len__(self):\n",
    "        return len(self.y)\n",
    "    \n",
    "    def __getitem__(self, idx):\n",
    "        return self.user[idx], self.place[idx], self.y[idx]"
   ]
  },
  {
   "cell_type": "code",
   "execution_count": 14,
   "metadata": {},
   "outputs": [],
   "source": [
    "train_ds = GoogleDataset(train_enc[['place', 'user']], train_enc.rating.values)\n",
    "valid_ds = GoogleDataset(val_enc[['place', 'user']], val_enc.rating.values)"
   ]
  },
  {
   "cell_type": "code",
   "execution_count": 15,
   "metadata": {},
   "outputs": [],
   "source": [
    "batch_size = 5_000\n",
    "train_dl = DataLoader(train_ds, batch_size=batch_size, shuffle=True)\n",
    "valid_dl = DataLoader(valid_ds, batch_size=batch_size)"
   ]
  },
  {
   "cell_type": "markdown",
   "metadata": {},
   "source": [
    "## Model"
   ]
  },
  {
   "cell_type": "code",
   "execution_count": 16,
   "metadata": {},
   "outputs": [],
   "source": [
    "class MF_bias(nn.Module):\n",
    "    def __init__(self, num_users, num_places, emb_size=100, bias=True):\n",
    "        super(MF_bias, self).__init__()\n",
    "        self.user_emb = nn.Embedding(num_users, emb_size)\n",
    "        self.place_emb = nn.Embedding(num_places, emb_size)\n",
    "        \n",
    "        self.user_emb.weight.data.uniform_(0,0.05)\n",
    "        self.place_emb.weight.data.uniform_(0,0.05)\n",
    "        \n",
    "        self.bias = bias\n",
    "        if self.bias:\n",
    "            self.user_bias = nn.Embedding(num_users, 1)\n",
    "            self.place_bias = nn.Embedding(num_places, 1)\n",
    "            \n",
    "            self.user_bias.weight.data.uniform_(-0.01,0.01)\n",
    "            self.place_emb.weight.data.uniform_(-0.01,0.01)\n",
    "            \n",
    "        self.dropout = nn.Dropout(0.3)\n",
    "        \n",
    "    def forward(self, u, v):\n",
    "        U = self.user_emb(u)\n",
    "        V = self.place_emb(v)\n",
    "        U, V = self.dropout(U), self.dropout(V)\n",
    "        if self.bias:\n",
    "            b_u = self.user_bias(u).squeeze()\n",
    "            b_v = self.place_bias(v).squeeze()\n",
    "            return (U*V).sum(1) +  b_u  + b_v\n",
    "        return (U*V).sum(1)"
   ]
  },
  {
   "cell_type": "markdown",
   "metadata": {},
   "source": [
    "## Training Functions"
   ]
  },
  {
   "cell_type": "code",
   "execution_count": 17,
   "metadata": {},
   "outputs": [],
   "source": [
    "def cosine_segment(start_lr, end_lr, iterations):\n",
    "    i = np.arange(iterations)\n",
    "    c_i = 1 + np.cos(i*np.pi/iterations)\n",
    "    return end_lr + (start_lr - end_lr)/2 *c_i\n",
    "\n",
    "def get_cosine_triangular_lr(max_lr, iterations, div_start=5, div_end=5):\n",
    "    min_start, min_end = max_lr/div_start, max_lr/div_end\n",
    "    iter1 = int(0.3*iterations)\n",
    "    iter2 = iterations - iter1\n",
    "    segs = [cosine_segment(min_start, max_lr, iter1), cosine_segment(max_lr, min_end, iter2)]\n",
    "    return np.concatenate(segs)"
   ]
  },
  {
   "cell_type": "code",
   "execution_count": 18,
   "metadata": {},
   "outputs": [],
   "source": [
    "def set_learning_rate(optimizer, lr):\n",
    "    \"\"\"Changing learning rates without creating a new optimizer\"\"\"\n",
    "    for param_group in optimizer.param_groups:\n",
    "        param_group['lr'] = lr"
   ]
  },
  {
   "cell_type": "code",
   "execution_count": 19,
   "metadata": {},
   "outputs": [],
   "source": [
    "def train_epocs(model, optimzer, train_dl, valid_dl, epochs=10, max_lr=0.01):\n",
    "    iterations = epochs*len(train_dl)\n",
    "    lrs = get_cosine_triangular_lr(max_lr, iterations)\n",
    "    vals = []\n",
    "    for epoch in range(epochs):\n",
    "        model.train()\n",
    "        sum_loss = 0.0\n",
    "        total = 0\n",
    "        i = 0\n",
    "        for u, v, y in train_dl:\n",
    "            set_learning_rate(optimizer, lrs[i])\n",
    "            users = u.long().cuda()\n",
    "            places = v.long().cuda()\n",
    "            ratings = y.float().cuda()\n",
    "            y_hat = model(users, places)\n",
    "            loss = F.mse_loss(y_hat, ratings)\n",
    "            optimizer.zero_grad()\n",
    "            loss.backward()\n",
    "            optimizer.step()\n",
    "            sum_loss += loss.item()*y.shape[0]\n",
    "            total += y.shape[0]\n",
    "            i += 1\n",
    "        val_loss = val_metrics(model, valid_dl)\n",
    "        vals.append(val_loss)\n",
    "        if epoch % 10 == 0: \n",
    "            print(f\"train loss {sum_loss/total:.3f} valid loss {val_loss:.3f}\") #valid accuracy {testaccur:.5f}"
   ]
  },
  {
   "cell_type": "code",
   "execution_count": 20,
   "metadata": {},
   "outputs": [],
   "source": [
    "def val_metrics(model, valid_dl):\n",
    "    model.eval()\n",
    "    correct = 0\n",
    "    total = 0\n",
    "    sum_loss = 0.0\n",
    "    for u, v, y in valid_dl:\n",
    "        users = u.long().cuda()\n",
    "        places = v.long().cuda()\n",
    "        ratings = y.float().cuda()\n",
    "        y_hat = model(users, places)\n",
    "        loss = F.mse_loss(y_hat, ratings)\n",
    "        #y_pred = y_hat > 0\n",
    "        #correct += (y_pred.float() == y).float().sum()\n",
    "        total += y.shape[0]\n",
    "        sum_loss += loss.item()*y.shape[0]\n",
    "    return sum_loss/total #, correct/total"
   ]
  },
  {
   "cell_type": "markdown",
   "metadata": {},
   "source": [
    "## Train"
   ]
  },
  {
   "cell_type": "code",
   "execution_count": 21,
   "metadata": {},
   "outputs": [
    {
     "data": {
      "text/plain": [
       "(7233, 6104)"
      ]
     },
     "execution_count": 21,
     "metadata": {},
     "output_type": "execute_result"
    }
   ],
   "source": [
    "num_places, num_users = len(train_enc.place.unique()), len(train_enc.user.unique())\n",
    "num_places, num_users"
   ]
  },
  {
   "cell_type": "code",
   "execution_count": 30,
   "metadata": {},
   "outputs": [],
   "source": [
    "model = MF_bias(num_users, num_places, emb_size=100, bias=False).cuda()"
   ]
  },
  {
   "cell_type": "code",
   "execution_count": 31,
   "metadata": {},
   "outputs": [],
   "source": [
    "optimizer = torch.optim.Adam(model.parameters(), lr=0.01, weight_decay=1e-5)"
   ]
  },
  {
   "cell_type": "code",
   "execution_count": 32,
   "metadata": {},
   "outputs": [
    {
     "name": "stdout",
     "output_type": "stream",
     "text": [
      "train loss 16.079 valid loss 15.810\n",
      "train loss 3.595 valid loss 3.503\n",
      "train loss 1.039 valid loss 1.123\n",
      "train loss 0.700 valid loss 0.735\n",
      "train loss 0.634 valid loss 0.644\n",
      "train loss 0.619 valid loss 0.621\n",
      "train loss 0.618 valid loss 0.612\n",
      "train loss 0.607 valid loss 0.614\n",
      "train loss 0.605 valid loss 0.611\n",
      "train loss 0.599 valid loss 0.611\n",
      "train loss 0.594 valid loss 0.612\n",
      "train loss 0.585 valid loss 0.612\n",
      "train loss 0.578 valid loss 0.613\n",
      "train loss 0.568 valid loss 0.613\n",
      "train loss 0.551 valid loss 0.613\n",
      "train loss 0.536 valid loss 0.614\n",
      "train loss 0.519 valid loss 0.614\n",
      "train loss 0.497 valid loss 0.615\n",
      "train loss 0.471 valid loss 0.618\n",
      "train loss 0.449 valid loss 0.619\n",
      "train loss 0.433 valid loss 0.623\n",
      "train loss 0.415 valid loss 0.626\n",
      "train loss 0.401 valid loss 0.628\n",
      "train loss 0.389 valid loss 0.633\n",
      "train loss 0.381 valid loss 0.635\n"
     ]
    }
   ],
   "source": [
    "train_epocs(model, optimizer, train_dl, valid_dl, max_lr=0.005, epochs=250)"
   ]
  },
  {
   "cell_type": "code",
   "execution_count": null,
   "metadata": {},
   "outputs": [],
   "source": []
  }
 ],
 "metadata": {
  "kernelspec": {
   "display_name": "Python 3",
   "language": "python",
   "name": "python3"
  },
  "language_info": {
   "codemirror_mode": {
    "name": "ipython",
    "version": 3
   },
   "file_extension": ".py",
   "mimetype": "text/x-python",
   "name": "python",
   "nbconvert_exporter": "python",
   "pygments_lexer": "ipython3",
   "version": "3.6.10"
  }
 },
 "nbformat": 4,
 "nbformat_minor": 2
}
